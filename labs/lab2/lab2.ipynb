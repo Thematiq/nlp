{
 "cells": [
  {
   "cell_type": "markdown",
   "source": [
    "# NLP - lab2\n",
    "\n",
    "### Mateusz Praski\n",
    "\n",
    "---\n"
   ],
   "metadata": {
    "collapsed": false
   }
  },
  {
   "cell_type": "code",
   "execution_count": 1,
   "metadata": {
    "collapsed": true,
    "ExecuteTime": {
     "end_time": "2023-10-22T10:34:40.944068Z",
     "start_time": "2023-10-22T10:34:40.503318Z"
    }
   },
   "outputs": [],
   "source": [
    "import requests\n",
    "import json\n",
    "\n",
    "import pandas as pd\n",
    "\n",
    "from tqdm import trange"
   ]
  },
  {
   "cell_type": "code",
   "execution_count": 2,
   "outputs": [],
   "source": [
    "analyzer_with_synonyms = {\n",
    "    'type': 'custom',\n",
    "    'tokenizer': 'standard',\n",
    "    'filter': [\n",
    "        'months-synonyms',\n",
    "        'lowercase',\n",
    "        'morfologik_stem',\n",
    "        'lowercase'\n",
    "    ]\n",
    "}\n",
    "\n",
    "analyzer_without_synonyms = {\n",
    "    'type': 'custom',\n",
    "    'tokenizer': 'standard',\n",
    "    'filter': [\n",
    "        'lowercase',\n",
    "        'morfologik_stem',\n",
    "        'lowercase'\n",
    "    ]\n",
    "}\n",
    "\n",
    "filters = {\n",
    "    'months-synonyms': {\n",
    "        'type': 'synonym',\n",
    "        'synonyms': [\n",
    "            'sty, I => styczeń',\n",
    "            'lut, II => luty',\n",
    "            'mar, III => marzec',\n",
    "            'kwi, IV => kwiecień',\n",
    "            'V => maj',\n",
    "            'cze, VI => czerwiec',\n",
    "            'lip, VII => lipca',\n",
    "            'sie, VIII => sierpnia',\n",
    "            'wrz, IX => wrzesień',\n",
    "            'paz, X => pażdziernik',\n",
    "            'lis, XI => listopad',\n",
    "            'gru, XII => grudzień'\n",
    "        ]\n",
    "    }\n",
    "}"
   ],
   "metadata": {
    "collapsed": false,
    "ExecuteTime": {
     "end_time": "2023-10-22T10:34:40.950012Z",
     "start_time": "2023-10-22T10:34:40.945331Z"
    }
   }
  },
  {
   "cell_type": "code",
   "execution_count": 3,
   "outputs": [],
   "source": [
    "index_definition = {\n",
    "    'mappings': {\n",
    "        'properties': {\n",
    "            'with_synonyms': {\n",
    "                'type': 'text',\n",
    "                'analyzer': 'analyze_with_synonyms'\n",
    "            },\n",
    "            'without_synonyms': {\n",
    "                'type': 'text',\n",
    "                'analyzer': 'analyze_without_synonyms'\n",
    "            }\n",
    "        }\n",
    "    },\n",
    "    'settings': {\n",
    "        'analysis': {\n",
    "            'analyzer': {\n",
    "                'analyze_with_synonyms': analyzer_with_synonyms,\n",
    "                'analyze_without_synonyms': analyzer_without_synonyms\n",
    "            },\n",
    "            'filter': filters\n",
    "        }\n",
    "    }\n",
    "}"
   ],
   "metadata": {
    "collapsed": false,
    "ExecuteTime": {
     "end_time": "2023-10-22T10:34:40.957755Z",
     "start_time": "2023-10-22T10:34:40.955135Z"
    }
   }
  },
  {
   "cell_type": "code",
   "execution_count": 4,
   "outputs": [
    {
     "name": "stdout",
     "output_type": "stream",
     "text": [
      "{\n",
      "    \"mappings\": {\n",
      "        \"properties\": {\n",
      "            \"with_synonyms\": {\n",
      "                \"type\": \"text\",\n",
      "                \"analyzer\": \"analyze_with_synonyms\"\n",
      "            },\n",
      "            \"without_synonyms\": {\n",
      "                \"type\": \"text\",\n",
      "                \"analyzer\": \"analyze_without_synonyms\"\n",
      "            }\n",
      "        }\n",
      "    },\n",
      "    \"settings\": {\n",
      "        \"analysis\": {\n",
      "            \"analyzer\": {\n",
      "                \"analyze_with_synonyms\": {\n",
      "                    \"type\": \"custom\",\n",
      "                    \"tokenizer\": \"standard\",\n",
      "                    \"filter\": [\n",
      "                        \"months-synonyms\",\n",
      "                        \"lowercase\",\n",
      "                        \"morfologik_stem\",\n",
      "                        \"lowercase\"\n",
      "                    ]\n",
      "                },\n",
      "                \"analyze_without_synonyms\": {\n",
      "                    \"type\": \"custom\",\n",
      "                    \"tokenizer\": \"standard\",\n",
      "                    \"filter\": [\n",
      "                        \"lowercase\",\n",
      "                        \"morfologik_stem\",\n",
      "                        \"lowercase\"\n",
      "                    ]\n",
      "                }\n",
      "            },\n",
      "            \"filter\": {\n",
      "                \"months-synonyms\": {\n",
      "                    \"type\": \"synonym\",\n",
      "                    \"synonyms\": [\n",
      "                        \"sty, I => stycze\\u0144\",\n",
      "                        \"lut, II => luty\",\n",
      "                        \"mar, III => marzec\",\n",
      "                        \"kwi, IV => kwiecie\\u0144\",\n",
      "                        \"V => maj\",\n",
      "                        \"cze, VI => czerwiec\",\n",
      "                        \"lip, VII => lipca\",\n",
      "                        \"sie, VIII => sierpnia\",\n",
      "                        \"wrz, IX => wrzesie\\u0144\",\n",
      "                        \"paz, X => pa\\u017cdziernik\",\n",
      "                        \"lis, XI => listopad\",\n",
      "                        \"gru, XII => grudzie\\u0144\"\n",
      "                    ]\n",
      "                }\n",
      "            }\n",
      "        }\n",
      "    }\n",
      "}\n"
     ]
    }
   ],
   "source": [
    "body = json.dumps(index_definition, indent=4)\n",
    "print(body)"
   ],
   "metadata": {
    "collapsed": false,
    "ExecuteTime": {
     "end_time": "2023-10-22T10:34:40.965844Z",
     "start_time": "2023-10-22T10:34:40.960342Z"
    }
   }
  },
  {
   "cell_type": "code",
   "execution_count": 5,
   "outputs": [
    {
     "name": "stdout",
     "output_type": "stream",
     "text": [
      "\u001B[H\u001B[2J\u001B[?25l\u001B[?7l\u001B[0m\u001B[32m\u001B[1m                    'c.\r\n",
      "                 ,xNMM.\r\n",
      "               .OMMMMo\r\n",
      "               OMMM0,\r\n",
      "     .;loddo:' loolloddol;.\r\n",
      "   cKMMMMMMMMMMNWMMMMMMMMMM0:\r\n",
      "\u001B[0m\u001B[33m\u001B[1m .KMMMMMMMMMMMMMMMMMMMMMMMWd.\r\n",
      " XMMMMMMMMMMMMMMMMMMMMMMMX.\r\n",
      "\u001B[0m\u001B[31m\u001B[1m;MMMMMMMMMMMMMMMMMMMMMMMM:\r\n",
      ":MMMMMMMMMMMMMMMMMMMMMMMM:\r\n",
      "\u001B[0m\u001B[31m\u001B[1m.MMMMMMMMMMMMMMMMMMMMMMMMX.\r\n",
      " kMMMMMMMMMMMMMMMMMMMMMMMMWd.\r\n",
      " \u001B[0m\u001B[35m\u001B[1m.XMMMMMMMMMMMMMMMMMMMMMMMMMMk\r\n",
      "  .XMMMMMMMMMMMMMMMMMMMMMMMMK.\r\n",
      "    \u001B[0m\u001B[34m\u001B[1mkMMMMMMMMMMMMMMMMMMMMMMd\r\n",
      "     ;KMMMMMMMWXXWMMMMMMMk.\r\n",
      "       .cooc,.    .,coo:.\u001B[0m\r\n",
      "\u001B[17A\u001B[9999999D\u001B[33C\u001B[0m\u001B[1m\u001B[32m\u001B[1mthmtt\u001B[0m@\u001B[32m\u001B[1mMateuszs-MacBook-Air-2.local\u001B[0m \r\n",
      "\u001B[33C\u001B[0m----------------------------------\u001B[0m \r\n",
      "\u001B[33C\u001B[0m\u001B[33m\u001B[1mOS\u001B[0m\u001B[0m:\u001B[0m macOS 14.0 23A344 arm64\u001B[0m \r\n",
      "\u001B[33C\u001B[0m\u001B[33m\u001B[1mHost\u001B[0m\u001B[0m:\u001B[0m MacBookAir10,1\u001B[0m \r\n",
      "\u001B[33C\u001B[0m\u001B[33m\u001B[1mKernel\u001B[0m\u001B[0m:\u001B[0m 23.0.0\u001B[0m \r\n",
      "\u001B[33C\u001B[0m\u001B[33m\u001B[1mUptime\u001B[0m\u001B[0m:\u001B[0m 18 days, 23 hours, 1 min\u001B[0m \r\n",
      "\u001B[33C\u001B[0m\u001B[33m\u001B[1mPackages\u001B[0m\u001B[0m:\u001B[0m 164 (brew)\u001B[0m \r\n",
      "\u001B[33C\u001B[0m\u001B[33m\u001B[1mShell\u001B[0m\u001B[0m:\u001B[0m fish 3.4.1\u001B[0m \r\n",
      "\u001B[33C\u001B[0m\u001B[33m\u001B[1mResolution\u001B[0m\u001B[0m:\u001B[0m 1440x900\u001B[0m \r\n",
      "\u001B[33C\u001B[0m\u001B[33m\u001B[1mDE\u001B[0m\u001B[0m:\u001B[0m Aqua\u001B[0m \r\n",
      "\u001B[33C\u001B[0m\u001B[33m\u001B[1mWM\u001B[0m\u001B[0m:\u001B[0m Rectangle\u001B[0m \r\n",
      "\u001B[33C\u001B[0m\u001B[33m\u001B[1mTerminal\u001B[0m\u001B[0m:\u001B[0m python\u001B[0m \r\n",
      "\u001B[33C\u001B[0m\u001B[33m\u001B[1mCPU\u001B[0m\u001B[0m:\u001B[0m Apple M1\u001B[0m \r\n",
      "\u001B[33C\u001B[0m\u001B[33m\u001B[1mGPU\u001B[0m\u001B[0m:\u001B[0m Apple M1\u001B[0m \r\n",
      "\u001B[33C\u001B[0m\u001B[33m\u001B[1mMemory\u001B[0m\u001B[0m:\u001B[0m 2777MiB / 16384MiB\u001B[0m \r\n",
      "\r\n",
      "\u001B[33C\u001B[30m\u001B[40m   \u001B[31m\u001B[41m   \u001B[32m\u001B[42m   \u001B[33m\u001B[43m   \u001B[34m\u001B[44m   \u001B[35m\u001B[45m   \u001B[36m\u001B[46m   \u001B[37m\u001B[47m   \u001B[m\r\n",
      "\u001B[33C\u001B[38;5;8m\u001B[48;5;8m   \u001B[38;5;9m\u001B[48;5;9m   \u001B[38;5;10m\u001B[48;5;10m   \u001B[38;5;11m\u001B[48;5;11m   \u001B[38;5;12m\u001B[48;5;12m   \u001B[38;5;13m\u001B[48;5;13m   \u001B[38;5;14m\u001B[48;5;14m   \u001B[38;5;15m\u001B[48;5;15m   \u001B[m\r\n",
      "\r\n",
      "\r\n",
      "\u001B[?25h\u001B[?7h"
     ]
    }
   ],
   "source": [
    "!docker cp elastic_container:/usr/share/elasticsearch/config/certs/http_ca.crt ."
   ],
   "metadata": {
    "collapsed": false,
    "ExecuteTime": {
     "end_time": "2023-10-22T10:34:43.765890Z",
     "start_time": "2023-10-22T10:34:41.557202Z"
    }
   }
  },
  {
   "cell_type": "code",
   "execution_count": 6,
   "outputs": [],
   "source": [
    "ELASTIC_IP = 'https://localhost:9200'\n",
    "INDEX = 'nlp-index'\n",
    "auth = ('elastic', 'qwerty')\n",
    "cert = 'http_ca.crt'"
   ],
   "metadata": {
    "collapsed": false,
    "ExecuteTime": {
     "end_time": "2023-10-22T10:34:46.659166Z",
     "start_time": "2023-10-22T10:34:46.650150Z"
    }
   }
  },
  {
   "cell_type": "code",
   "execution_count": 7,
   "outputs": [
    {
     "name": "stdout",
     "output_type": "stream",
     "text": [
      "{\"acknowledged\":true}\n"
     ]
    },
    {
     "data": {
      "text/plain": "(200, None)"
     },
     "execution_count": 7,
     "metadata": {},
     "output_type": "execute_result"
    }
   ],
   "source": [
    "res = requests.delete(f'{ELASTIC_IP}/{INDEX}', auth=auth, verify=cert)\n",
    "res.status_code, print(res.content.decode())"
   ],
   "metadata": {
    "collapsed": false,
    "ExecuteTime": {
     "end_time": "2023-10-22T10:34:47.939572Z",
     "start_time": "2023-10-22T10:34:47.482787Z"
    }
   }
  },
  {
   "cell_type": "code",
   "execution_count": 8,
   "outputs": [
    {
     "name": "stdout",
     "output_type": "stream",
     "text": [
      "{\"acknowledged\":true,\"shards_acknowledged\":true,\"index\":\"nlp-index\"}\n"
     ]
    },
    {
     "data": {
      "text/plain": "(200, None)"
     },
     "execution_count": 8,
     "metadata": {},
     "output_type": "execute_result"
    }
   ],
   "source": [
    "res = requests.put(f'{ELASTIC_IP}/nlp-index', json=index_definition, auth=('elastic', 'qwerty'), verify='http_ca.crt')\n",
    "res.status_code, print(res.content.decode())"
   ],
   "metadata": {
    "collapsed": false,
    "ExecuteTime": {
     "end_time": "2023-10-22T10:34:54.687835Z",
     "start_time": "2023-10-22T10:34:54.449757Z"
    }
   }
  },
  {
   "cell_type": "code",
   "execution_count": 9,
   "outputs": [
    {
     "data": {
      "text/plain": "    title                                               text metadata\n_id                                                                  \n3          Nie mówię, że nie podoba mi się też pomysł szk...       {}\n31         Tak więc nic nie zapobiega fałszywym ocenom po...       {}\n56         Nigdy nie możesz korzystać z FSA dla indywidua...       {}\n59         Samsung stworzył LCD i inne technologie płaski...       {}\n63         Oto wymagania SEC: Federalne przepisy dotycząc...       {}",
      "text/html": "<div>\n<style scoped>\n    .dataframe tbody tr th:only-of-type {\n        vertical-align: middle;\n    }\n\n    .dataframe tbody tr th {\n        vertical-align: top;\n    }\n\n    .dataframe thead th {\n        text-align: right;\n    }\n</style>\n<table border=\"1\" class=\"dataframe\">\n  <thead>\n    <tr style=\"text-align: right;\">\n      <th></th>\n      <th>title</th>\n      <th>text</th>\n      <th>metadata</th>\n    </tr>\n    <tr>\n      <th>_id</th>\n      <th></th>\n      <th></th>\n      <th></th>\n    </tr>\n  </thead>\n  <tbody>\n    <tr>\n      <th>3</th>\n      <td></td>\n      <td>Nie mówię, że nie podoba mi się też pomysł szk...</td>\n      <td>{}</td>\n    </tr>\n    <tr>\n      <th>31</th>\n      <td></td>\n      <td>Tak więc nic nie zapobiega fałszywym ocenom po...</td>\n      <td>{}</td>\n    </tr>\n    <tr>\n      <th>56</th>\n      <td></td>\n      <td>Nigdy nie możesz korzystać z FSA dla indywidua...</td>\n      <td>{}</td>\n    </tr>\n    <tr>\n      <th>59</th>\n      <td></td>\n      <td>Samsung stworzył LCD i inne technologie płaski...</td>\n      <td>{}</td>\n    </tr>\n    <tr>\n      <th>63</th>\n      <td></td>\n      <td>Oto wymagania SEC: Federalne przepisy dotycząc...</td>\n      <td>{}</td>\n    </tr>\n  </tbody>\n</table>\n</div>"
     },
     "execution_count": 9,
     "metadata": {},
     "output_type": "execute_result"
    }
   ],
   "source": [
    "df = pd.read_json(\"../../data/corpus.jsonl\", lines=True)\n",
    "df = df.set_index('_id').sort_index()\n",
    "df.head()"
   ],
   "metadata": {
    "collapsed": false,
    "ExecuteTime": {
     "end_time": "2023-10-22T10:34:58.107298Z",
     "start_time": "2023-10-22T10:34:56.967451Z"
    }
   }
  },
  {
   "cell_type": "code",
   "execution_count": 10,
   "outputs": [
    {
     "data": {
      "text/plain": "['Nie mówię, że nie podoba mi się też pomysł szkolenia w miejscu pracy, ale nie możesz oczekiwać, że firma to zrobi. Szkolenie pracowników to nie ich praca – oni tworzą oprogramowanie. Być może systemy edukacyjne w Stanach Zjednoczonych (lub ich studenci) powinny trochę martwić się o zdobycie umiejętności rynkowych w zamian za ich ogromne inwestycje w edukację, zamiast wychodzić z tysiącami zadłużonych studentów i narzekać, że nie są do niczego wykwalifikowani.',\n 'Tak więc nic nie zapobiega fałszywym ocenom poza dodatkową kontrolą ze strony rynku/inwestorów, ale istnieją pewne nowsze kontrole, które uniemożliwiają instytucjom korzystanie z nich. W ramach DFA banki nie mogą już polegać wyłącznie na ratingach kredytowych jako należytej staranności przy zakupie instrumentu finansowego, więc to jest plus. Intencją jest to, że jeśli instytucje finansowe wykonują swoją własną pracę, to *być może* dojdą do wniosku, że określony CDO jest śmieciem, czy nie. Edycja: wprowadzenie']"
     },
     "execution_count": 10,
     "metadata": {},
     "output_type": "execute_result"
    }
   ],
   "source": [
    "corpus = [i for i in df['text']]\n",
    "corpus[:2]"
   ],
   "metadata": {
    "collapsed": false,
    "ExecuteTime": {
     "end_time": "2023-10-22T10:34:58.123845Z",
     "start_time": "2023-10-22T10:34:58.118837Z"
    }
   }
  },
  {
   "cell_type": "code",
   "execution_count": 38,
   "outputs": [],
   "source": [
    "def bulk_insert(rows, col):\n",
    "    n = len(rows)\n",
    "    request_command = [f'{{\"index\": {{ \"_index\": \"{INDEX}\" }} }}'] * n\n",
    "    request_data = [f'{{\"with_synonyms\": {text}, \"without_synonyms\": {text}}}' for text in rows]\n",
    "\n",
    "    payload = [None] * (n * 2)\n",
    "    payload[::2] = request_command\n",
    "    payload[1::2] = request_data\n",
    "    body = \"\\n\".join(payload) + '\\n'\n",
    "    print(body)\n",
    "    res = requests.post(f'{ELASTIC_IP}/_bulk?pretty', data=body, headers={'Content-type': 'application/x-ndjson'}, auth=auth, verify=cert)\n",
    "    return res"
   ],
   "metadata": {
    "collapsed": false,
    "ExecuteTime": {
     "end_time": "2023-10-22T10:47:07.677451Z",
     "start_time": "2023-10-22T10:47:07.669079Z"
    }
   }
  },
  {
   "cell_type": "code",
   "execution_count": 39,
   "outputs": [
    {
     "name": "stdout",
     "output_type": "stream",
     "text": [
      "{\"index\": { \"_index\": \"nlp-index\" } }\n",
      "{\"with_synonyms\": Nie mówię, że nie podoba mi się też pomysł szkolenia w miejscu pracy, ale nie możesz oczekiwać, że firma to zrobi. Szkolenie pracowników to nie ich praca – oni tworzą oprogramowanie. Być może systemy edukacyjne w Stanach Zjednoczonych (lub ich studenci) powinny trochę martwić się o zdobycie umiejętności rynkowych w zamian za ich ogromne inwestycje w edukację, zamiast wychodzić z tysiącami zadłużonych studentów i narzekać, że nie są do niczego wykwalifikowani., \"without_synonyms\": Nie mówię, że nie podoba mi się też pomysł szkolenia w miejscu pracy, ale nie możesz oczekiwać, że firma to zrobi. Szkolenie pracowników to nie ich praca – oni tworzą oprogramowanie. Być może systemy edukacyjne w Stanach Zjednoczonych (lub ich studenci) powinny trochę martwić się o zdobycie umiejętności rynkowych w zamian za ich ogromne inwestycje w edukację, zamiast wychodzić z tysiącami zadłużonych studentów i narzekać, że nie są do niczego wykwalifikowani.}\n",
      "{\"index\": { \"_index\": \"nlp-index\" } }\n",
      "{\"with_synonyms\": Tak więc nic nie zapobiega fałszywym ocenom poza dodatkową kontrolą ze strony rynku/inwestorów, ale istnieją pewne nowsze kontrole, które uniemożliwiają instytucjom korzystanie z nich. W ramach DFA banki nie mogą już polegać wyłącznie na ratingach kredytowych jako należytej staranności przy zakupie instrumentu finansowego, więc to jest plus. Intencją jest to, że jeśli instytucje finansowe wykonują swoją własną pracę, to *być może* dojdą do wniosku, że określony CDO jest śmieciem, czy nie. Edycja: wprowadzenie, \"without_synonyms\": Tak więc nic nie zapobiega fałszywym ocenom poza dodatkową kontrolą ze strony rynku/inwestorów, ale istnieją pewne nowsze kontrole, które uniemożliwiają instytucjom korzystanie z nich. W ramach DFA banki nie mogą już polegać wyłącznie na ratingach kredytowych jako należytej staranności przy zakupie instrumentu finansowego, więc to jest plus. Intencją jest to, że jeśli instytucje finansowe wykonują swoją własną pracę, to *być może* dojdą do wniosku, że określony CDO jest śmieciem, czy nie. Edycja: wprowadzenie}\n",
      "\n"
     ]
    }
   ],
   "source": [
    "res = bulk_insert(corpus[:2], \"with_synonyms\")"
   ],
   "metadata": {
    "collapsed": false,
    "ExecuteTime": {
     "end_time": "2023-10-22T10:47:08.069436Z",
     "start_time": "2023-10-22T10:47:07.997118Z"
    }
   }
  },
  {
   "cell_type": "code",
   "execution_count": 40,
   "outputs": [
    {
     "data": {
      "text/plain": "400"
     },
     "execution_count": 40,
     "metadata": {},
     "output_type": "execute_result"
    }
   ],
   "source": [
    "res.status_code"
   ],
   "metadata": {
    "collapsed": false,
    "ExecuteTime": {
     "end_time": "2023-10-22T10:47:08.908487Z",
     "start_time": "2023-10-22T10:47:08.902416Z"
    }
   }
  },
  {
   "cell_type": "code",
   "execution_count": 41,
   "outputs": [
    {
     "name": "stdout",
     "output_type": "stream",
     "text": [
      "{\n",
      "  \"error\" : {\n",
      "    \"root_cause\" : [\n",
      "      {\n",
      "        \"type\" : \"illegal_argument_exception\",\n",
      "        \"reason\" : \"The bulk request must be terminated by a newline [\\\\n]\"\n",
      "      }\n",
      "    ],\n",
      "    \"type\" : \"illegal_argument_exception\",\n",
      "    \"reason\" : \"The bulk request must be terminated by a newline [\\\\n]\"\n",
      "  },\n",
      "  \"status\" : 400\n",
      "}\n",
      "\n"
     ]
    }
   ],
   "source": [
    "print(res.content.decode())"
   ],
   "metadata": {
    "collapsed": false,
    "ExecuteTime": {
     "end_time": "2023-10-22T10:47:09.395211Z",
     "start_time": "2023-10-22T10:47:09.391982Z"
    }
   }
  },
  {
   "cell_type": "code",
   "execution_count": 42,
   "outputs": [
    {
     "data": {
      "text/plain": "'Nie mówię, że nie podoba mi się też pomysł szkolenia w miejscu pracy, ale nie możesz oczekiwać, że firma to zrobi. Szkolenie pracowników to nie ich praca – oni tworzą oprogramowanie. Być może systemy edukacyjne w Stanach Zjednoczonych (lub ich studenci) powinny trochę martwić się o zdobycie umiejętności rynkowych w zamian za ich ogromne inwestycje w edukację, zamiast wychodzić z tysiącami zadłużonych studentów i narzekać, że nie są do niczego wykwalifikowani.'"
     },
     "execution_count": 42,
     "metadata": {},
     "output_type": "execute_result"
    }
   ],
   "source": [
    "text = corpus[0]\n",
    "text"
   ],
   "metadata": {
    "collapsed": false,
    "ExecuteTime": {
     "end_time": "2023-10-22T10:48:06.226295Z",
     "start_time": "2023-10-22T10:48:06.214837Z"
    }
   }
  },
  {
   "cell_type": "code",
   "execution_count": 49,
   "outputs": [],
   "source": [
    "res = requests.post(f\"{ELASTIC_IP}/{INDEX}/_doc\", json={\"with_synonyms\": text, \"without_synonyms\": text}, auth=auth, verify=cert)"
   ],
   "metadata": {
    "collapsed": false,
    "ExecuteTime": {
     "end_time": "2023-10-22T10:50:42.332707Z",
     "start_time": "2023-10-22T10:50:42.175673Z"
    }
   }
  },
  {
   "cell_type": "code",
   "execution_count": 50,
   "outputs": [
    {
     "data": {
      "text/plain": "201"
     },
     "execution_count": 50,
     "metadata": {},
     "output_type": "execute_result"
    }
   ],
   "source": [
    "res.status_code"
   ],
   "metadata": {
    "collapsed": false,
    "ExecuteTime": {
     "end_time": "2023-10-22T10:50:42.722651Z",
     "start_time": "2023-10-22T10:50:42.719160Z"
    }
   }
  },
  {
   "cell_type": "code",
   "execution_count": 51,
   "outputs": [
    {
     "data": {
      "text/plain": "b'{\"_index\":\"nlp-index\",\"_id\":\"HSUCV4sBWyMtNHwHLHa7\",\"_version\":1,\"result\":\"created\",\"_shards\":{\"total\":2,\"successful\":1,\"failed\":0},\"_seq_no\":0,\"_primary_term\":1}'"
     },
     "execution_count": 51,
     "metadata": {},
     "output_type": "execute_result"
    }
   ],
   "source": [
    "res.content"
   ],
   "metadata": {
    "collapsed": false,
    "ExecuteTime": {
     "end_time": "2023-10-22T10:50:43.085616Z",
     "start_time": "2023-10-22T10:50:43.082662Z"
    }
   }
  },
  {
   "cell_type": "code",
   "execution_count": 57,
   "outputs": [],
   "source": [
    "res = requests.get(f\"{ELASTIC_IP}/{INDEX}/_search?pretty\", auth=auth, verify=cert, json={\n",
    "    \"query\": {\n",
    "        \"match\": {\n",
    "            \"with_synonyms\": {\n",
    "                \"query\": \"pracownik\"\n",
    "            }\n",
    "        }\n",
    "    }\n",
    "})"
   ],
   "metadata": {
    "collapsed": false,
    "ExecuteTime": {
     "end_time": "2023-10-22T10:55:29.614262Z",
     "start_time": "2023-10-22T10:55:29.419427Z"
    }
   }
  },
  {
   "cell_type": "code",
   "execution_count": 58,
   "outputs": [
    {
     "data": {
      "text/plain": "200"
     },
     "execution_count": 58,
     "metadata": {},
     "output_type": "execute_result"
    }
   ],
   "source": [
    "res.status_code"
   ],
   "metadata": {
    "collapsed": false,
    "ExecuteTime": {
     "end_time": "2023-10-22T10:55:30.120709Z",
     "start_time": "2023-10-22T10:55:30.116365Z"
    }
   }
  },
  {
   "cell_type": "code",
   "execution_count": 60,
   "outputs": [
    {
     "name": "stdout",
     "output_type": "stream",
     "text": [
      "{\n",
      "  \"took\" : 17,\n",
      "  \"timed_out\" : false,\n",
      "  \"_shards\" : {\n",
      "    \"total\" : 1,\n",
      "    \"successful\" : 1,\n",
      "    \"skipped\" : 0,\n",
      "    \"failed\" : 0\n",
      "  },\n",
      "  \"hits\" : {\n",
      "    \"total\" : {\n",
      "      \"value\" : 1,\n",
      "      \"relation\" : \"eq\"\n",
      "    },\n",
      "    \"max_score\" : 0.3288667,\n",
      "    \"hits\" : [\n",
      "      {\n",
      "        \"_index\" : \"nlp-index\",\n",
      "        \"_id\" : \"HSUCV4sBWyMtNHwHLHa7\",\n",
      "        \"_score\" : 0.3288667,\n",
      "        \"_source\" : {\n",
      "          \"with_synonyms\" : \"Nie mówię, że nie podoba mi się też pomysł szkolenia w miejscu pracy, ale nie możesz oczekiwać, że firma to zrobi. Szkolenie pracowników to nie ich praca – oni tworzą oprogramowanie. Być może systemy edukacyjne w Stanach Zjednoczonych (lub ich studenci) powinny trochę martwić się o zdobycie umiejętności rynkowych w zamian za ich ogromne inwestycje w edukację, zamiast wychodzić z tysiącami zadłużonych studentów i narzekać, że nie są do niczego wykwalifikowani.\",\n",
      "          \"without_synonyms\" : \"Nie mówię, że nie podoba mi się też pomysł szkolenia w miejscu pracy, ale nie możesz oczekiwać, że firma to zrobi. Szkolenie pracowników to nie ich praca – oni tworzą oprogramowanie. Być może systemy edukacyjne w Stanach Zjednoczonych (lub ich studenci) powinny trochę martwić się o zdobycie umiejętności rynkowych w zamian za ich ogromne inwestycje w edukację, zamiast wychodzić z tysiącami zadłużonych studentów i narzekać, że nie są do niczego wykwalifikowani.\"\n",
      "        }\n",
      "      }\n",
      "    ]\n",
      "  }\n",
      "}\n",
      "\n"
     ]
    }
   ],
   "source": [
    "print(res.content.decode('utf-8'))"
   ],
   "metadata": {
    "collapsed": false,
    "ExecuteTime": {
     "end_time": "2023-10-22T10:55:39.528871Z",
     "start_time": "2023-10-22T10:55:39.525527Z"
    }
   }
  },
  {
   "cell_type": "code",
   "execution_count": null,
   "outputs": [],
   "source": [],
   "metadata": {
    "collapsed": false
   }
  }
 ],
 "metadata": {
  "kernelspec": {
   "display_name": "Python 3",
   "language": "python",
   "name": "python3"
  },
  "language_info": {
   "codemirror_mode": {
    "name": "ipython",
    "version": 2
   },
   "file_extension": ".py",
   "mimetype": "text/x-python",
   "name": "python",
   "nbconvert_exporter": "python",
   "pygments_lexer": "ipython2",
   "version": "2.7.6"
  }
 },
 "nbformat": 4,
 "nbformat_minor": 0
}
