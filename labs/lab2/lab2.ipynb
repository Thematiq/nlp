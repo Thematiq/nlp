{
 "cells": [
  {
   "cell_type": "markdown",
   "source": [
    "# NLP - lab2\n",
    "\n",
    "### Mateusz Praski\n",
    "\n",
    "---\n"
   ],
   "metadata": {
    "collapsed": false
   }
  },
  {
   "cell_type": "markdown",
   "source": [],
   "metadata": {
    "collapsed": false
   }
  },
  {
   "cell_type": "code",
   "execution_count": 1,
   "metadata": {
    "collapsed": true,
    "ExecuteTime": {
     "end_time": "2023-11-14T07:00:50.150886432Z",
     "start_time": "2023-11-14T07:00:49.827797749Z"
    }
   },
   "outputs": [],
   "source": [
    "import requests\n",
    "import json\n",
    "import sys\n",
    "\n",
    "import numpy as np\n",
    "import pandas as pd\n",
    "\n",
    "from scipy.sparse import csr_matrix\n",
    "from glob import glob\n",
    "from tqdm import trange, tqdm\n",
    "from sklearn.metrics import ndcg_score"
   ]
  },
  {
   "cell_type": "markdown",
   "source": [
    "# Task 3 & 4\n",
    "Define an ES analyzer for Polish texts containing:\n",
    "- standard tokenizer\n",
    "- synonym filter with alternative forms for months, e.g. wrzesień, wrz, IX.\n",
    "- lowercase filter\n",
    "- Morfologik-based lemmatizer\n",
    "- lowercase filter (looks strange, but Morfologi produces capitalized base forms for proper names, so we have to lowercase them once more).\n",
    "\n",
    "Define another analyzer for Polish, without the synonym filter."
   ],
   "metadata": {
    "collapsed": false
   }
  },
  {
   "cell_type": "code",
   "execution_count": 2,
   "outputs": [],
   "source": [
    "analyzer_with_synonyms = {\n",
    "    'type': 'custom',\n",
    "    'tokenizer': 'standard',\n",
    "    'filter': [\n",
    "        'months-synonyms',\n",
    "        'lowercase',\n",
    "        'morfologik_stem',\n",
    "        'lowercase'\n",
    "    ]\n",
    "}\n",
    "\n",
    "analyzer_without_synonyms = {\n",
    "    'type': 'custom',\n",
    "    'tokenizer': 'standard',\n",
    "    'filter': [\n",
    "        'lowercase',\n",
    "        'morfologik_stem',\n",
    "        'lowercase'\n",
    "    ]\n",
    "}\n",
    "\n",
    "no_lemma_synonyms = {\n",
    "    'type': 'custom',\n",
    "    'tokenizer': 'standard',\n",
    "    'filter': [\n",
    "        'months-synonyms',\n",
    "        'lowercase',\n",
    "    ]\n",
    "}\n",
    "\n",
    "no_lemma_no_synonyms = {\n",
    "    'type': 'custom',\n",
    "    'tokenizer': 'standard',\n",
    "    'filter': [\n",
    "        'lowercase',\n",
    "    ]\n",
    "}\n",
    "\n",
    "filters = {\n",
    "    'months-synonyms': {\n",
    "        'type': 'synonym',\n",
    "        'synonyms': [\n",
    "            'sty, I => styczeń',\n",
    "            'lut, II => luty',\n",
    "            'mar, III => marzec',\n",
    "            'kwi, IV => kwiecień',\n",
    "            'V => maj',\n",
    "            'cze, VI => czerwiec',\n",
    "            'lip, VII => lipca',\n",
    "            'sie, VIII => sierpnia',\n",
    "            'wrz, IX => wrzesień',\n",
    "            'paz, X => pażdziernik',\n",
    "            'lis, XI => listopad',\n",
    "            'gru, XII => grudzień'\n",
    "        ]\n",
    "    }\n",
    "}"
   ],
   "metadata": {
    "collapsed": false,
    "ExecuteTime": {
     "end_time": "2023-11-14T07:00:50.520320002Z",
     "start_time": "2023-11-14T07:00:50.512504091Z"
    }
   }
  },
  {
   "cell_type": "markdown",
   "source": [
    "# Task 5\n",
    "\n",
    "Define an ES index for storing the contents of the corpus from lab 1 using both analyzers. Use different names for the fields analyzed with a different pipeline."
   ],
   "metadata": {
    "collapsed": false
   }
  },
  {
   "cell_type": "code",
   "execution_count": 3,
   "outputs": [],
   "source": [
    "index_definition = {\n",
    "    'mappings': {\n",
    "        'properties': {\n",
    "            'answer': {\n",
    "                'type': 'text',\n",
    "                'fields': {\n",
    "                    'with_synonyms': {\n",
    "                        'type': 'text',\n",
    "                        'analyzer': 'analyze_with_synonyms'\n",
    "                    },\n",
    "                    'without_synonyms': {\n",
    "                        'type': 'text',\n",
    "                        'analyzer': 'analyze_without_synonyms'\n",
    "                    }\n",
    "                }\n",
    "            },\n",
    "        }\n",
    "    },\n",
    "    'settings': {\n",
    "        'analysis': {\n",
    "            'analyzer': {\n",
    "                'analyze_with_synonyms': analyzer_with_synonyms,\n",
    "                'analyze_without_synonyms': analyzer_without_synonyms,\n",
    "                'analyze_no_lemma_synonyms': no_lemma_synonyms,\n",
    "                'analyze_no_lemma_no_synonyms': no_lemma_no_synonyms\n",
    "            },\n",
    "            'filter': filters\n",
    "        }\n",
    "    }\n",
    "}"
   ],
   "metadata": {
    "collapsed": false,
    "ExecuteTime": {
     "end_time": "2023-11-14T07:00:51.327533435Z",
     "start_time": "2023-11-14T07:00:51.303413035Z"
    }
   }
  },
  {
   "cell_type": "code",
   "execution_count": 4,
   "outputs": [
    {
     "name": "stdout",
     "output_type": "stream",
     "text": [
      "{\n",
      "    \"mappings\": {\n",
      "        \"properties\": {\n",
      "            \"answer\": {\n",
      "                \"type\": \"text\",\n",
      "                \"fields\": {\n",
      "                    \"with_synonyms\": {\n",
      "                        \"type\": \"text\",\n",
      "                        \"analyzer\": \"analyze_with_synonyms\"\n",
      "                    },\n",
      "                    \"without_synonyms\": {\n",
      "                        \"type\": \"text\",\n",
      "                        \"analyzer\": \"analyze_without_synonyms\"\n",
      "                    }\n",
      "                }\n",
      "            }\n",
      "        }\n",
      "    },\n",
      "    \"settings\": {\n",
      "        \"analysis\": {\n",
      "            \"analyzer\": {\n",
      "                \"analyze_with_synonyms\": {\n",
      "                    \"type\": \"custom\",\n",
      "                    \"tokenizer\": \"standard\",\n",
      "                    \"filter\": [\n",
      "                        \"months-synonyms\",\n",
      "                        \"lowercase\",\n",
      "                        \"morfologik_stem\",\n",
      "                        \"lowercase\"\n",
      "                    ]\n",
      "                },\n",
      "                \"analyze_without_synonyms\": {\n",
      "                    \"type\": \"custom\",\n",
      "                    \"tokenizer\": \"standard\",\n",
      "                    \"filter\": [\n",
      "                        \"lowercase\",\n",
      "                        \"morfologik_stem\",\n",
      "                        \"lowercase\"\n",
      "                    ]\n",
      "                },\n",
      "                \"analyze_no_lemma_synonyms\": {\n",
      "                    \"type\": \"custom\",\n",
      "                    \"tokenizer\": \"standard\",\n",
      "                    \"filter\": [\n",
      "                        \"months-synonyms\",\n",
      "                        \"lowercase\"\n",
      "                    ]\n",
      "                },\n",
      "                \"analyze_no_lemma_no_synonyms\": {\n",
      "                    \"type\": \"custom\",\n",
      "                    \"tokenizer\": \"standard\",\n",
      "                    \"filter\": [\n",
      "                        \"lowercase\"\n",
      "                    ]\n",
      "                }\n",
      "            },\n",
      "            \"filter\": {\n",
      "                \"months-synonyms\": {\n",
      "                    \"type\": \"synonym\",\n",
      "                    \"synonyms\": [\n",
      "                        \"sty, I => stycze\\u0144\",\n",
      "                        \"lut, II => luty\",\n",
      "                        \"mar, III => marzec\",\n",
      "                        \"kwi, IV => kwiecie\\u0144\",\n",
      "                        \"V => maj\",\n",
      "                        \"cze, VI => czerwiec\",\n",
      "                        \"lip, VII => lipca\",\n",
      "                        \"sie, VIII => sierpnia\",\n",
      "                        \"wrz, IX => wrzesie\\u0144\",\n",
      "                        \"paz, X => pa\\u017cdziernik\",\n",
      "                        \"lis, XI => listopad\",\n",
      "                        \"gru, XII => grudzie\\u0144\"\n",
      "                    ]\n",
      "                }\n",
      "            }\n",
      "        }\n",
      "    }\n",
      "}\n"
     ]
    }
   ],
   "source": [
    "body = json.dumps(index_definition, indent=4)\n",
    "print(body)"
   ],
   "metadata": {
    "collapsed": false,
    "ExecuteTime": {
     "end_time": "2023-11-14T07:00:52.663658733Z",
     "start_time": "2023-11-14T07:00:52.658371777Z"
    }
   }
  },
  {
   "cell_type": "code",
   "execution_count": null,
   "outputs": [],
   "source": [
    "!docker cp elastic_container:/usr/share/elasticsearch/config/certs/http_ca.crt ."
   ],
   "metadata": {
    "collapsed": false
   }
  },
  {
   "cell_type": "code",
   "execution_count": 5,
   "outputs": [],
   "source": [
    "ELASTIC_IP = 'https://localhost:9200'\n",
    "INDEX = 'nlp-index'\n",
    "auth = ('elastic', '\"qwerty\"')\n",
    "cert = 'http_ca.crt'"
   ],
   "metadata": {
    "collapsed": false,
    "ExecuteTime": {
     "end_time": "2023-11-14T07:00:53.999648350Z",
     "start_time": "2023-11-14T07:00:53.986434199Z"
    }
   }
  },
  {
   "cell_type": "code",
   "execution_count": 7,
   "outputs": [
    {
     "name": "stdout",
     "output_type": "stream",
     "text": [
      "{\"acknowledged\":true}\n"
     ]
    },
    {
     "data": {
      "text/plain": "(200, None)"
     },
     "execution_count": 7,
     "metadata": {},
     "output_type": "execute_result"
    }
   ],
   "source": [
    "res = requests.delete(f'{ELASTIC_IP}/{INDEX}', auth=auth, verify=cert)\n",
    "res.status_code, print(res.content.decode())"
   ],
   "metadata": {
    "collapsed": false,
    "ExecuteTime": {
     "end_time": "2023-10-22T10:34:47.939572Z",
     "start_time": "2023-10-22T10:34:47.482787Z"
    }
   }
  },
  {
   "cell_type": "code",
   "execution_count": 8,
   "outputs": [
    {
     "name": "stdout",
     "output_type": "stream",
     "text": [
      "{\"acknowledged\":true,\"shards_acknowledged\":true,\"index\":\"nlp-index\"}\n"
     ]
    },
    {
     "data": {
      "text/plain": "(200, None)"
     },
     "execution_count": 8,
     "metadata": {},
     "output_type": "execute_result"
    }
   ],
   "source": [
    "res = requests.put(f'{ELASTIC_IP}/{INDEX}', json=index_definition, auth=auth, verify=cert)\n",
    "res.status_code, print(res.content.decode())"
   ],
   "metadata": {
    "collapsed": false,
    "ExecuteTime": {
     "end_time": "2023-10-22T10:34:54.687835Z",
     "start_time": "2023-10-22T10:34:54.449757Z"
    }
   }
  },
  {
   "cell_type": "code",
   "execution_count": 6,
   "outputs": [
    {
     "data": {
      "text/plain": "    title                                               text metadata\n_id                                                                  \n3          Nie mówię, że nie podoba mi się też pomysł szk...       {}\n31         Tak więc nic nie zapobiega fałszywym ocenom po...       {}\n56         Nigdy nie możesz korzystać z FSA dla indywidua...       {}\n59         Samsung stworzył LCD i inne technologie płaski...       {}\n63         Oto wymagania SEC: Federalne przepisy dotycząc...       {}",
      "text/html": "<div>\n<style scoped>\n    .dataframe tbody tr th:only-of-type {\n        vertical-align: middle;\n    }\n\n    .dataframe tbody tr th {\n        vertical-align: top;\n    }\n\n    .dataframe thead th {\n        text-align: right;\n    }\n</style>\n<table border=\"1\" class=\"dataframe\">\n  <thead>\n    <tr style=\"text-align: right;\">\n      <th></th>\n      <th>title</th>\n      <th>text</th>\n      <th>metadata</th>\n    </tr>\n    <tr>\n      <th>_id</th>\n      <th></th>\n      <th></th>\n      <th></th>\n    </tr>\n  </thead>\n  <tbody>\n    <tr>\n      <th>3</th>\n      <td></td>\n      <td>Nie mówię, że nie podoba mi się też pomysł szk...</td>\n      <td>{}</td>\n    </tr>\n    <tr>\n      <th>31</th>\n      <td></td>\n      <td>Tak więc nic nie zapobiega fałszywym ocenom po...</td>\n      <td>{}</td>\n    </tr>\n    <tr>\n      <th>56</th>\n      <td></td>\n      <td>Nigdy nie możesz korzystać z FSA dla indywidua...</td>\n      <td>{}</td>\n    </tr>\n    <tr>\n      <th>59</th>\n      <td></td>\n      <td>Samsung stworzył LCD i inne technologie płaski...</td>\n      <td>{}</td>\n    </tr>\n    <tr>\n      <th>63</th>\n      <td></td>\n      <td>Oto wymagania SEC: Federalne przepisy dotycząc...</td>\n      <td>{}</td>\n    </tr>\n  </tbody>\n</table>\n</div>"
     },
     "execution_count": 6,
     "metadata": {},
     "output_type": "execute_result"
    }
   ],
   "source": [
    "df = pd.read_json(\"../../data/corpus.jsonl\", lines=True)\n",
    "df = df.set_index('_id').sort_index()\n",
    "df.head()"
   ],
   "metadata": {
    "collapsed": false,
    "ExecuteTime": {
     "end_time": "2023-11-14T07:00:58.370941224Z",
     "start_time": "2023-11-14T07:00:57.828654622Z"
    }
   }
  },
  {
   "cell_type": "markdown",
   "source": [
    "# Task 6\n",
    "\n",
    "Load the data to the ES index."
   ],
   "metadata": {
    "collapsed": false
   }
  },
  {
   "cell_type": "code",
   "execution_count": 7,
   "outputs": [],
   "source": [
    "def bulk_insert(rows, col):\n",
    "    n = len(rows)\n",
    "    request_command = [f'{{\"index\": {{ \"_index\": \"{INDEX}\" }} }}'] * n\n",
    "    request_data = [f'{{\"with_synonyms\": {text}, \"without_synonyms\": {text}}}' for text in rows]\n",
    "\n",
    "    payload = [None] * (n * 2)\n",
    "    payload[::2] = request_command\n",
    "    payload[1::2] = request_data\n",
    "    body = \"\\n\".join(payload) + '\\n'\n",
    "    print(body)\n",
    "    # Didn't work  in the end :(\n",
    "    res = requests.post(f'{ELASTIC_IP}/_bulk?pretty', data=body, headers={'Content-type': 'application/x-ndjson'}, auth=auth, verify=cert)\n",
    "    return res"
   ],
   "metadata": {
    "collapsed": false,
    "ExecuteTime": {
     "end_time": "2023-11-14T07:01:00.003204144Z",
     "start_time": "2023-11-14T07:00:59.985926031Z"
    }
   }
  },
  {
   "cell_type": "code",
   "execution_count": 8,
   "outputs": [],
   "source": [
    "def standard_insert(df, disable_tqdm=False):\n",
    "    for index, row in tqdm(df.iterrows(), disable=disable_tqdm, total=len(df.index)):\n",
    "        rs = requests.put(f\"{ELASTIC_IP}/{INDEX}/_doc/{index}\", json={\"answer\": row['text']}, auth=auth, verify=cert)\n",
    "        if rs.status_code != 201 and rs.status_code != 200:\n",
    "            raise RuntimeError(f\"{rs.status_code} - {rs.text}\")"
   ],
   "metadata": {
    "collapsed": false,
    "ExecuteTime": {
     "end_time": "2023-11-14T07:01:00.137025984Z",
     "start_time": "2023-11-14T07:01:00.131272191Z"
    }
   }
  },
  {
   "cell_type": "code",
   "execution_count": 25,
   "outputs": [],
   "source": [
    "# res = requests.post(f\"{ELASTIC_IP}/{INDEX}/_doc\", json={\"text\": text}, auth=auth, verify=cert)"
   ],
   "metadata": {
    "collapsed": false,
    "ExecuteTime": {
     "end_time": "2023-10-22T10:50:42.332707Z",
     "start_time": "2023-10-22T10:50:42.175673Z"
    }
   }
  },
  {
   "cell_type": "code",
   "execution_count": 26,
   "outputs": [],
   "source": [
    "# res.status_code"
   ],
   "metadata": {
    "collapsed": false,
    "ExecuteTime": {
     "end_time": "2023-10-22T10:50:42.722651Z",
     "start_time": "2023-10-22T10:50:42.719160Z"
    }
   }
  },
  {
   "cell_type": "code",
   "execution_count": 27,
   "outputs": [
    {
     "name": "stderr",
     "output_type": "stream",
     "text": [
      "100%|██████████| 57638/57638 [12:39<00:00, 75.94it/s]\n"
     ]
    }
   ],
   "source": [
    "standard_insert(df)"
   ],
   "metadata": {
    "collapsed": false
   }
  },
  {
   "cell_type": "code",
   "execution_count": 8,
   "outputs": [
    {
     "data": {
      "text/plain": "'{\"count\":57638,\"_shards\":{\"total\":1,\"successful\":1,\"skipped\":0,\"failed\":0}}'"
     },
     "execution_count": 8,
     "metadata": {},
     "output_type": "execute_result"
    }
   ],
   "source": [
    "requests.get(f\"{ELASTIC_IP}/{INDEX}/_count\", auth=auth, verify=cert).text"
   ],
   "metadata": {
    "collapsed": false,
    "ExecuteTime": {
     "end_time": "2023-11-07T19:17:29.294438571Z",
     "start_time": "2023-11-07T19:17:29.083918858Z"
    }
   }
  },
  {
   "cell_type": "code",
   "execution_count": 32,
   "outputs": [],
   "source": [
    "res = requests.get(f\"{ELASTIC_IP}/{INDEX}/_search?pretty&size=5\", auth=auth, verify=cert, json={\n",
    "    \"query\": {\n",
    "        \"multi_match\": {\n",
    "            \"query\": df.iloc[0]['text'],\n",
    "            \"fields\": [\n",
    "                \"answer.with_synonyms\"\n",
    "            ]\n",
    "        }\n",
    "    }\n",
    "})"
   ],
   "metadata": {
    "collapsed": false
   }
  },
  {
   "cell_type": "code",
   "execution_count": 9,
   "outputs": [],
   "source": [
    "def query_text(text, analyzer=None, limit=None, use_synonyms=True):\n",
    "    url = f\"{ELASTIC_IP}/{INDEX}/_search\"\n",
    "    if limit is not None:\n",
    "        url += f\"?size={limit}\"\n",
    "\n",
    "    index = \"answer.with_synonyms\" if use_synonyms else \"answer.without_synonyms\"\n",
    "\n",
    "    body  = {\n",
    "        \"query\": {\n",
    "            \"match\": {\n",
    "                index: {\n",
    "                    \"query\": text,\n",
    "                }\n",
    "            }\n",
    "        }\n",
    "    }\n",
    "\n",
    "    if analyzer is not None:\n",
    "        body[\"query\"][\"match\"][index][\"analyzer\"]  = analyzer\n",
    "\n",
    "    rs = requests.get(url, json=body, auth=auth, verify=cert)\n",
    "    if rs.status_code != 200:\n",
    "        raise RuntimeError(f\"{rs.status_code} - {rs.text}\")\n",
    "    return json.loads(rs.text)"
   ],
   "metadata": {
    "collapsed": false,
    "ExecuteTime": {
     "end_time": "2023-11-14T07:01:04.648191166Z",
     "start_time": "2023-11-14T07:01:04.634720535Z"
    }
   }
  },
  {
   "cell_type": "markdown",
   "source": [
    "# Task 7\n",
    "\n",
    "Determine the number of documents containing the word `styczeń` (in any form) including and excluding the synonyms."
   ],
   "metadata": {
    "collapsed": false
   }
  },
  {
   "cell_type": "markdown",
   "source": [
    "## With synonyms"
   ],
   "metadata": {
    "collapsed": false
   }
  },
  {
   "cell_type": "code",
   "execution_count": 10,
   "outputs": [
    {
     "data": {
      "text/plain": "3101"
     },
     "execution_count": 10,
     "metadata": {},
     "output_type": "execute_result"
    }
   ],
   "source": [
    "query_text(\"styczeń\")['hits']['total']['value']"
   ],
   "metadata": {
    "collapsed": false,
    "ExecuteTime": {
     "end_time": "2023-11-14T07:01:06.028689464Z",
     "start_time": "2023-11-14T07:01:06.001198185Z"
    }
   }
  },
  {
   "cell_type": "markdown",
   "source": [
    "## Without synonyms"
   ],
   "metadata": {
    "collapsed": false
   }
  },
  {
   "cell_type": "code",
   "execution_count": 11,
   "outputs": [
    {
     "data": {
      "text/plain": "329"
     },
     "execution_count": 11,
     "metadata": {},
     "output_type": "execute_result"
    }
   ],
   "source": [
    "query_text(\"styczeń\", use_synonyms=False)['hits']['total']['value']"
   ],
   "metadata": {
    "collapsed": false,
    "ExecuteTime": {
     "end_time": "2023-11-14T07:01:07.015988595Z",
     "start_time": "2023-11-14T07:01:06.976904248Z"
    }
   }
  },
  {
   "cell_type": "markdown",
   "source": [
    "It's worth mentioning that synonym for `styczeń` is  `I`, which may occur in some other texts"
   ],
   "metadata": {
    "collapsed": false
   }
  },
  {
   "cell_type": "code",
   "execution_count": 12,
   "outputs": [
    {
     "data": {
      "text/plain": "{'_index': 'nlp-index',\n '_id': '71552',\n '_score': 5.8238015,\n '_source': {'answer': 'Niech P oznacza kwotę inwestycji, R stopę zwrotu, a I stopę inflacji. Dla uproszczenia załóżmy, że płatność p jest dokonywana corocznie zaraz po uzyskaniu zwrotu. Tak więc, na koniec roku, inwestycja P wzrosła do P*(1+R), a p jest zwracane jako wypłata renty. Jeżeli I = 0, cały zwrot może zostać wypłacony jako zapłata, a więc p = P*R. Oznacza to, że pod koniec roku, gdy kurz opadnie po odebraniu zwrotu P*R i wypłaceniu go jako renty dożywotniej, P jest ponownie dostępne na początku następnego roku, aby zarobić zwrot według stawki R. My mieć P*(1+R) - p = P Jeżeli I > 0, to na koniec roku, po opadnięciu kurzu, nie możemy sobie pozwolić na posiadanie tylko P jako inwestycji na przyszły rok. Przyszłoroczna opłata musi wynosić p*(1+I), więc potrzebujemy większej inwestycji, ponieważ stopa zwrotu jest stała. O ile większy? Cóż, jeśli inwestycja na początku przyszłego roku wyniesie P*(1+I), zarobi dokładnie tyle dodatkowych pieniędzy, aby wypłacić podwyższoną opłatę na następny rok, a pozostało wystarczająco dużo, aby pomóc w przyszłych podwyżkach płatności. (Zauważ, że zakładamy, że R > I. Jeśli R < I, nie można utworzyć wieczystego majątku.) Załóżmy zatem, że wybieramy p takie, że P*(1+R) - p = P*(1+I) Mnożenie to równanie przez (1+I), mamy [P(1+I)]*(1+R) - [p*(1+I)] = P*(1+I)^2 Słowem, w na początku przyszłego roku inwestycja wynosi P*(1+I), a zwrot pomniejszony o zwiększoną wypłatę p*(1+I) pozostawia inwestycję w wysokości P*(1+I)^2 na kolejny rok. Każdego roku wpłata i kwota do zainwestowania na kolejny rok wzrasta o współczynnik (1+I). Rozwiązując P*(1+R) - p = P*(1+I) dla p, otrzymujemy p = P*(R-I) jako początkową spłatę wieczystą, a wypłata wzrasta o czynnik (1+I) każdego roku. Inwestycja początkowa wynosi P i również wzrasta o współczynnik (1+I) każdego roku. W późniejszych latach inwestycja to P*(1+I)^n na początku roku, płatność to p*(1+I)^n a kwota zainwestowana na kolejny rok to P*(1+I )^{n+1}. Jest to ten sam wynik, jaki uzyskał PO, ale napisany w sposób, który mogę zrozumieć, to znaczy bez finansowego żargonu o stopach dyskontowych, gradientach, PV, FV i tym podobnych.'}}"
     },
     "execution_count": 12,
     "metadata": {},
     "output_type": "execute_result"
    }
   ],
   "source": [
    "query_text(\"styczeń\")['hits']['hits'][0]"
   ],
   "metadata": {
    "collapsed": false,
    "ExecuteTime": {
     "end_time": "2023-11-14T07:01:08.282395097Z",
     "start_time": "2023-11-14T07:01:08.248942556Z"
    }
   }
  },
  {
   "cell_type": "markdown",
   "source": [
    "# Task 9\n",
    "Compute NDCG@5 for the QA dataset (the test subset) for the following setups\n",
    "- synonyms enabled and disabled,\n",
    "- lemmatization in the query enabled and disabled."
   ],
   "metadata": {
    "collapsed": false
   }
  },
  {
   "cell_type": "code",
   "execution_count": 13,
   "outputs": [
    {
     "data": {
      "text/plain": "   _id                                               text metadata\n0    0  Co jest uważane za wydatek służbowy w podróży ...       {}\n1    4  Wydatki służbowe - ubezpieczenie samochodu pod...       {}\n2    5                  Rozpoczęcie nowego biznesu online       {}\n3    6     „Dzień roboczy” i „termin płatności” rachunków       {}\n4    7  Nowy właściciel firmy – Jak działają podatki d...       {}",
      "text/html": "<div>\n<style scoped>\n    .dataframe tbody tr th:only-of-type {\n        vertical-align: middle;\n    }\n\n    .dataframe tbody tr th {\n        vertical-align: top;\n    }\n\n    .dataframe thead th {\n        text-align: right;\n    }\n</style>\n<table border=\"1\" class=\"dataframe\">\n  <thead>\n    <tr style=\"text-align: right;\">\n      <th></th>\n      <th>_id</th>\n      <th>text</th>\n      <th>metadata</th>\n    </tr>\n  </thead>\n  <tbody>\n    <tr>\n      <th>0</th>\n      <td>0</td>\n      <td>Co jest uważane za wydatek służbowy w podróży ...</td>\n      <td>{}</td>\n    </tr>\n    <tr>\n      <th>1</th>\n      <td>4</td>\n      <td>Wydatki służbowe - ubezpieczenie samochodu pod...</td>\n      <td>{}</td>\n    </tr>\n    <tr>\n      <th>2</th>\n      <td>5</td>\n      <td>Rozpoczęcie nowego biznesu online</td>\n      <td>{}</td>\n    </tr>\n    <tr>\n      <th>3</th>\n      <td>6</td>\n      <td>„Dzień roboczy” i „termin płatności” rachunków</td>\n      <td>{}</td>\n    </tr>\n    <tr>\n      <th>4</th>\n      <td>7</td>\n      <td>Nowy właściciel firmy – Jak działają podatki d...</td>\n      <td>{}</td>\n    </tr>\n  </tbody>\n</table>\n</div>"
     },
     "execution_count": 13,
     "metadata": {},
     "output_type": "execute_result"
    }
   ],
   "source": [
    "questions = pd.read_json('../../data/queries.jsonl', lines=True)\n",
    "questions.head()"
   ],
   "metadata": {
    "collapsed": false,
    "ExecuteTime": {
     "end_time": "2023-11-14T07:01:10.504304743Z",
     "start_time": "2023-11-14T07:01:10.471229047Z"
    }
   }
  },
  {
   "cell_type": "code",
   "execution_count": 14,
   "outputs": [
    {
     "data": {
      "text/plain": "   query-id  corpus-id  score\n0         8     566392      1\n1         8      65404      1\n2        15     325273      1\n3        18      88124      1\n4        26     285255      1",
      "text/html": "<div>\n<style scoped>\n    .dataframe tbody tr th:only-of-type {\n        vertical-align: middle;\n    }\n\n    .dataframe tbody tr th {\n        vertical-align: top;\n    }\n\n    .dataframe thead th {\n        text-align: right;\n    }\n</style>\n<table border=\"1\" class=\"dataframe\">\n  <thead>\n    <tr style=\"text-align: right;\">\n      <th></th>\n      <th>query-id</th>\n      <th>corpus-id</th>\n      <th>score</th>\n    </tr>\n  </thead>\n  <tbody>\n    <tr>\n      <th>0</th>\n      <td>8</td>\n      <td>566392</td>\n      <td>1</td>\n    </tr>\n    <tr>\n      <th>1</th>\n      <td>8</td>\n      <td>65404</td>\n      <td>1</td>\n    </tr>\n    <tr>\n      <th>2</th>\n      <td>15</td>\n      <td>325273</td>\n      <td>1</td>\n    </tr>\n    <tr>\n      <th>3</th>\n      <td>18</td>\n      <td>88124</td>\n      <td>1</td>\n    </tr>\n    <tr>\n      <th>4</th>\n      <td>26</td>\n      <td>285255</td>\n      <td>1</td>\n    </tr>\n  </tbody>\n</table>\n</div>"
     },
     "execution_count": 14,
     "metadata": {},
     "output_type": "execute_result"
    }
   ],
   "source": [
    "# qa = pd.concat([\n",
    "#     pd.read_csv(path, sep='\\t')\n",
    "#     for path in glob('../../data/*.tsv')\n",
    "# ])\n",
    "qa = pd.read_csv('../../data/test.tsv', sep='\\t')\n",
    "\n",
    "qa = qa.sort_values(by='query-id')\n",
    "qa.head()"
   ],
   "metadata": {
    "collapsed": false,
    "ExecuteTime": {
     "end_time": "2023-11-14T07:01:12.163420325Z",
     "start_time": "2023-11-14T07:01:12.141080551Z"
    }
   }
  },
  {
   "cell_type": "code",
   "execution_count": 15,
   "outputs": [
    {
     "data": {
      "text/plain": "   index    _id                                               text metadata\n0   6000   4641  Gdzie powinienem zaparkować mój fundusz na des...       {}\n1   6001   5503  Względy podatkowe związane ze sprzedażą rodzin...       {}\n2   6002   7803  Czy Delta może być wykorzystana do obliczenia ...       {}\n3   6003   7017        Podstawowa strategia handlu algorytmicznego       {}\n4   6004  10152  Co oznacza dla firmy wysoka marża operacyjna, ...       {}",
      "text/html": "<div>\n<style scoped>\n    .dataframe tbody tr th:only-of-type {\n        vertical-align: middle;\n    }\n\n    .dataframe tbody tr th {\n        vertical-align: top;\n    }\n\n    .dataframe thead th {\n        text-align: right;\n    }\n</style>\n<table border=\"1\" class=\"dataframe\">\n  <thead>\n    <tr style=\"text-align: right;\">\n      <th></th>\n      <th>index</th>\n      <th>_id</th>\n      <th>text</th>\n      <th>metadata</th>\n    </tr>\n  </thead>\n  <tbody>\n    <tr>\n      <th>0</th>\n      <td>6000</td>\n      <td>4641</td>\n      <td>Gdzie powinienem zaparkować mój fundusz na des...</td>\n      <td>{}</td>\n    </tr>\n    <tr>\n      <th>1</th>\n      <td>6001</td>\n      <td>5503</td>\n      <td>Względy podatkowe związane ze sprzedażą rodzin...</td>\n      <td>{}</td>\n    </tr>\n    <tr>\n      <th>2</th>\n      <td>6002</td>\n      <td>7803</td>\n      <td>Czy Delta może być wykorzystana do obliczenia ...</td>\n      <td>{}</td>\n    </tr>\n    <tr>\n      <th>3</th>\n      <td>6003</td>\n      <td>7017</td>\n      <td>Podstawowa strategia handlu algorytmicznego</td>\n      <td>{}</td>\n    </tr>\n    <tr>\n      <th>4</th>\n      <td>6004</td>\n      <td>10152</td>\n      <td>Co oznacza dla firmy wysoka marża operacyjna, ...</td>\n      <td>{}</td>\n    </tr>\n  </tbody>\n</table>\n</div>"
     },
     "execution_count": 15,
     "metadata": {},
     "output_type": "execute_result"
    }
   ],
   "source": [
    "questions = questions[questions['_id'].isin(qa['query-id'])].reset_index()\n",
    "questions.head()"
   ],
   "metadata": {
    "collapsed": false,
    "ExecuteTime": {
     "end_time": "2023-11-14T07:01:12.894953714Z",
     "start_time": "2023-11-14T07:01:12.883904286Z"
    }
   }
  },
  {
   "cell_type": "code",
   "execution_count": 16,
   "outputs": [
    {
     "data": {
      "text/plain": "1"
     },
     "execution_count": 16,
     "metadata": {},
     "output_type": "execute_result"
    }
   ],
   "source": [
    "qa['score'].nunique()"
   ],
   "metadata": {
    "collapsed": false,
    "ExecuteTime": {
     "end_time": "2023-11-14T07:01:13.856186974Z",
     "start_time": "2023-11-14T07:01:13.838894781Z"
    }
   }
  },
  {
   "cell_type": "code",
   "execution_count": 17,
   "outputs": [],
   "source": [
    "qa_mapping = csr_matrix(\n",
    "    (qa['score'], (qa['query-id'], qa['corpus-id'])),\n",
    "    shape=(qa['query-id'].max() + 1, df.index.max() + 1),\n",
    "    dtype=int\n",
    ")"
   ],
   "metadata": {
    "collapsed": false,
    "ExecuteTime": {
     "end_time": "2023-11-14T07:01:14.676889069Z",
     "start_time": "2023-11-14T07:01:14.665492831Z"
    }
   }
  },
  {
   "cell_type": "code",
   "execution_count": 18,
   "outputs": [
    {
     "data": {
      "text/plain": "0"
     },
     "execution_count": 18,
     "metadata": {},
     "output_type": "execute_result"
    }
   ],
   "source": [
    "qa_mapping[1, 2]"
   ],
   "metadata": {
    "collapsed": false,
    "ExecuteTime": {
     "end_time": "2023-11-14T07:01:15.016397791Z",
     "start_time": "2023-11-14T07:01:15.004475776Z"
    }
   }
  },
  {
   "cell_type": "code",
   "execution_count": 19,
   "outputs": [
    {
     "data": {
      "text/plain": "query-id\n8        2\n15       1\n18       1\n26       2\n34       1\n        ..\n10979    4\n10994    2\n11039    8\n11054    2\n11088    1\nName: count, Length: 648, dtype: int64"
     },
     "execution_count": 19,
     "metadata": {},
     "output_type": "execute_result"
    }
   ],
   "source": [
    "max_matches = qa.groupby('query-id')['corpus-id'].count().rename('count')\n",
    "max_matches"
   ],
   "metadata": {
    "collapsed": false,
    "ExecuteTime": {
     "end_time": "2023-11-14T07:01:17.810510071Z",
     "start_time": "2023-11-14T07:01:17.790572408Z"
    }
   }
  },
  {
   "cell_type": "code",
   "execution_count": 20,
   "outputs": [],
   "source": [
    "def eval_answers(questions, analyzer, use_syonynms):\n",
    "    no_questions = len(questions.index)\n",
    "    rec = np.empty((no_questions, 5), dtype=int)\n",
    "\n",
    "    for index, row in tqdm(questions.iterrows(), total=no_questions):\n",
    "        rs = query_text(row['text'], analyzer=analyzer, limit=5, use_synonyms=use_syonynms)\n",
    "\n",
    "        recs = [qa_mapping[int(row['_id']), int(rs['_id'])] for rs in rs['hits']['hits'][:5]]\n",
    "        if len(recs) < 5:\n",
    "            recs += [0] * (5 - len(recs))\n",
    "\n",
    "        rec[index] = recs\n",
    "    return rec"
   ],
   "metadata": {
    "collapsed": false,
    "ExecuteTime": {
     "end_time": "2023-11-14T07:01:21.668129041Z",
     "start_time": "2023-11-14T07:01:21.627546649Z"
    }
   }
  },
  {
   "cell_type": "code",
   "execution_count": 21,
   "outputs": [
    {
     "name": "stderr",
     "output_type": "stream",
     "text": [
      "100%|██████████| 648/648 [00:09<00:00, 65.60it/s]\n"
     ]
    }
   ],
   "source": [
    "rec_lemma_synonyms = eval_answers(questions, 'analyze_with_synonyms', use_syonynms=True)"
   ],
   "metadata": {
    "collapsed": false,
    "ExecuteTime": {
     "end_time": "2023-11-14T07:01:33.854738452Z",
     "start_time": "2023-11-14T07:01:23.969875690Z"
    }
   }
  },
  {
   "cell_type": "code",
   "execution_count": 22,
   "outputs": [
    {
     "name": "stderr",
     "output_type": "stream",
     "text": [
      "100%|██████████| 648/648 [00:09<00:00, 67.12it/s]\n"
     ]
    }
   ],
   "source": [
    "rec_lemma_no_synonyms = eval_answers(questions, 'analyze_without_synonyms', use_syonynms=False)"
   ],
   "metadata": {
    "collapsed": false,
    "ExecuteTime": {
     "end_time": "2023-11-14T07:01:43.524261957Z",
     "start_time": "2023-11-14T07:01:33.853117810Z"
    }
   }
  },
  {
   "cell_type": "code",
   "execution_count": 23,
   "outputs": [
    {
     "name": "stderr",
     "output_type": "stream",
     "text": [
      "100%|██████████| 648/648 [00:08<00:00, 79.26it/s]\n"
     ]
    }
   ],
   "source": [
    "rec_no_lemma_synonyms = eval_answers(questions, 'analyze_no_lemma_synonyms', use_syonynms=True)"
   ],
   "metadata": {
    "collapsed": false,
    "ExecuteTime": {
     "end_time": "2023-11-14T07:01:51.690579170Z",
     "start_time": "2023-11-14T07:01:43.511550331Z"
    }
   }
  },
  {
   "cell_type": "code",
   "execution_count": 24,
   "outputs": [
    {
     "name": "stderr",
     "output_type": "stream",
     "text": [
      "100%|██████████| 648/648 [00:08<00:00, 75.80it/s]\n"
     ]
    }
   ],
   "source": [
    "rec_no_lemma_no_synonyms = eval_answers(questions, 'analyze_no_lemma_no_synonyms', use_syonynms=False)"
   ],
   "metadata": {
    "collapsed": false,
    "ExecuteTime": {
     "end_time": "2023-11-14T07:02:00.247182353Z",
     "start_time": "2023-11-14T07:01:51.690406188Z"
    }
   }
  },
  {
   "cell_type": "code",
   "execution_count": 25,
   "outputs": [
    {
     "name": "stderr",
     "output_type": "stream",
     "text": [
      "648it [00:00, 29178.39it/s]\n"
     ]
    }
   ],
   "source": [
    "perfect_answers = np.zeros((len(questions.index), 5), dtype=int)\n",
    "\n",
    "for index, row in tqdm(questions.iterrows()):\n",
    "    matches = min(max_matches.loc[row['_id']], 5)\n",
    "    vector = ([1] * matches) + ([0] * (5 - matches))\n",
    "    perfect_answers[index, :] = vector"
   ],
   "metadata": {
    "collapsed": false,
    "ExecuteTime": {
     "end_time": "2023-11-14T07:02:00.292197046Z",
     "start_time": "2023-11-14T07:02:00.243010811Z"
    }
   }
  },
  {
   "cell_type": "code",
   "execution_count": 28,
   "outputs": [],
   "source": [
    "def eval_ndcg(y_true, y_pred, return_mean=True):\n",
    "    n = y_true.shape[1]\n",
    "    no_questions = y_true.shape[0]\n",
    "\n",
    "    dcg_weights = np.log2(np.arange(2, n+2))\n",
    "    dcg_weights = np.resize(dcg_weights, (no_questions, n))\n",
    "    dcg = np.sum(y_pred / dcg_weights, axis=1)\n",
    "    idcg = np.sum(y_true / dcg_weights, axis=1)\n",
    "    ndcg = dcg / idcg\n",
    "\n",
    "    return ndcg.mean() if return_mean else ndcg"
   ],
   "metadata": {
    "collapsed": false,
    "ExecuteTime": {
     "end_time": "2023-11-14T07:02:45.007734835Z",
     "start_time": "2023-11-14T07:02:44.995312956Z"
    }
   }
  },
  {
   "cell_type": "code",
   "execution_count": 29,
   "outputs": [
    {
     "data": {
      "text/plain": "            lemmatization no_lemmatization\nsynonyms           18.51%            7.96%\nno_synonyms        18.51%            7.96%",
      "text/html": "<div>\n<style scoped>\n    .dataframe tbody tr th:only-of-type {\n        vertical-align: middle;\n    }\n\n    .dataframe tbody tr th {\n        vertical-align: top;\n    }\n\n    .dataframe thead th {\n        text-align: right;\n    }\n</style>\n<table border=\"1\" class=\"dataframe\">\n  <thead>\n    <tr style=\"text-align: right;\">\n      <th></th>\n      <th>lemmatization</th>\n      <th>no_lemmatization</th>\n    </tr>\n  </thead>\n  <tbody>\n    <tr>\n      <th>synonyms</th>\n      <td>18.51%</td>\n      <td>7.96%</td>\n    </tr>\n    <tr>\n      <th>no_synonyms</th>\n      <td>18.51%</td>\n      <td>7.96%</td>\n    </tr>\n  </tbody>\n</table>\n</div>"
     },
     "execution_count": 29,
     "metadata": {},
     "output_type": "execute_result"
    }
   ],
   "source": [
    "pd.DataFrame(data={\n",
    "    \"lemmatization\": [\n",
    "        eval_ndcg(perfect_answers, rec_lemma_synonyms),\n",
    "        eval_ndcg(perfect_answers, rec_lemma_no_synonyms)\n",
    "    ],\n",
    "    \"no_lemmatization\": [\n",
    "        eval_ndcg(perfect_answers, rec_no_lemma_synonyms),\n",
    "        eval_ndcg(perfect_answers, rec_no_lemma_no_synonyms)\n",
    "    ]},\n",
    "    index=[\"synonyms\", \"no_synonyms\"]\n",
    ").applymap(lambda x: f\"{x:.2%}\")"
   ],
   "metadata": {
    "collapsed": false,
    "ExecuteTime": {
     "end_time": "2023-11-14T07:02:45.252577300Z",
     "start_time": "2023-11-14T07:02:45.241260514Z"
    }
   }
  },
  {
   "cell_type": "markdown",
   "source": [
    "## 11. Question where the relevant document is returned by ES at position 1,"
   ],
   "metadata": {
    "collapsed": false
   }
  },
  {
   "cell_type": "code",
   "execution_count": 59,
   "outputs": [
    {
     "data": {
      "text/plain": "'Jaka jest różnica między „handlowcem” a „maklerem giełdowym”?'"
     },
     "execution_count": 59,
     "metadata": {},
     "output_type": "execute_result"
    }
   ],
   "source": [
    "q_id = np.where(rec_lemma_no_synonyms[:, 0] == 1)\n",
    "q = questions.iloc[q_id]['text'].iloc[0]\n",
    "q"
   ],
   "metadata": {
    "collapsed": false,
    "ExecuteTime": {
     "start_time": "2023-11-07T19:28:22.310622937Z"
    }
   }
  },
  {
   "cell_type": "code",
   "execution_count": 61,
   "outputs": [
    {
     "data": {
      "text/plain": "['Handlowcy zarabiają na życie, maklerzy giełdowi mówią ludziom, aby angażowali się w transakcje na życie. Aby zostać zatrudnionym jako trader, potrzebujesz udokumentowanego doświadczenia w zakresie konsekwentnego zarabiania pieniędzy. Aby być zatrudnionym jako makler giełdowy, musisz uzyskać licencję, ale nie musisz udowadniać, że możesz konsekwentnie zarabiać pieniądze.',\n \"„Poniżej jest tylko trochę informacji na temat krótkiej sprzedaży z mojej małej, unikalnej książki „„Mały trader giełdowy””: Krótka sprzedaż to zaawansowane narzędzie do handlu akcjami z unikalnym ryzykiem i korzyściami. Jest to przede wszystkim krótkoterminowa strategia handlowa o charakterze technicznym natury, głównie dokonywanej przez małych maklerów giełdowych, animatorów rynku i fundusze hedgingowe. Większość małych maklerów giełdowych używa głównie krótkiej sprzedaży jako narzędzia do krótkoterminowych spekulacji, gdy czują, że cena akcji jest nieco zawyżona. Większość długoterminowych pozycji krótkich jest zajmowanych przez fundusze hedgingowe zajmujące się długimi/krótkimi pozycjami fundamentalnymi, które zidentyfikowały kilka poważnych słabości firmy. Przed skróceniem akcji należy wziąć pod uwagę kilka rzeczy: Pomimo całej tajemnicy i winy związanej z krótką sprzedażą, szczególnie podczas bessy, osobiście uważam, że regularnie Krótka sprzedaż, a nie naga krótka sprzedaż, ma bardziej pozytywny wpływ na rynek akcji, ponieważ: Wreszcie, mali inwestorzy giełdowi nie powinni spodziewać się znaczących zysków z krótkiej sprzedaży, ponieważ nawet większość wielcy handlowcy giełdowi (Jesse Livermore, Bernard Baruch, Gerald Loeb, Nicolas Darvas, William O'Neil i Steven Cohen) prawie nie zarobili znaczących pieniędzy na swoich krótkich pozycjach. można śmiało powiedzieć, że kursy są ułożone w stosunku do krótkich sprzedawców. W ciągu ostatniego stulecia zachodnie spółki o dużej kapitalizacji przyniosły średnio roczny zwrot od 8 do 10 procent, podczas gdy zwroty w przypadku spółek o małej kapitalizacji były nieco wyższe. Mam nadzieję, że powyższe informacje z mojej małej unikalnej książki były trochę pomocne! Mika (autor książki „Mały handlarz giełdowy”)”\",\n 'Nie lepsze firmy, wybierają firmy o największej kapitalizacji rynkowej, co nie gwarantuje, że będą najlepsze. Gdyby były o wiele lepsze, byłaby znacznie większa różnica między S&P 500 a awangardowym funduszem giełdowym: http://quotes.morningstar.com/chart/fund/chart?t=VTSMX&region=usa&culture=en- US Ale jak widać powyżej, nie ma prawie żadnej różnicy w zyskach między S&P a całym funduszem giełdowym',\n 'Jest to bardzo prosta książka obrazkowa na temat ***sprawozdań finansowych*** z przykładami poziomu opóźnienia. Pokazuje COGS, SGA i tym podobne. makler giełdowy używa terminów, które znajdują się w sprawozdaniach finansowych. http://www.amazon.com/Financial-Statements-Step-Step-Understanding/dp/1564143414 Dobrą mapą może być myślenie w kategoriach makro- i mikroekonomii. makler giełdowy robi mikro - analizuje podstawy biznesu. Makroekonomia ma do czynienia z wielkimi problemami gospodarki narodowej, takiej jak pkb. Oba są ważne.',\n 'Bardzo dobrym pomysłem jest rozłożenie swoich ISA na więcej niż jednego maklera giełdowego. Jednak teraz, gdy wielu maklerów giełdowych pobiera opłatę administracyjną, może to być drogie, jeśli użyjesz zbyt wielu. Nie ma potrzeby informowania zeszłorocznego dostawcy ISA, że używasz innego, jednak MUSISZ płacić TYLKO jednemu dostawcy ISA w każdym roku podatkowym.']"
     },
     "execution_count": 61,
     "metadata": {},
     "output_type": "execute_result"
    }
   ],
   "source": [
    "[x['_source']['answer'] for x in query_text(q, limit=5)['hits']['hits']]"
   ],
   "metadata": {
    "collapsed": false,
    "ExecuteTime": {
     "start_time": "2023-11-07T19:29:31.618463335Z"
    }
   }
  },
  {
   "cell_type": "markdown",
   "source": [
    "This question contains very specific words ('handlowiec', 'markler giełdowy'), which may be very rare in dataset, making it much easier to find it"
   ],
   "metadata": {
    "collapsed": false
   }
  },
  {
   "cell_type": "markdown",
   "source": [
    "# Question where the relevant document is returned by ES at position 4 or 5."
   ],
   "metadata": {
    "collapsed": false
   }
  },
  {
   "cell_type": "code",
   "execution_count": 62,
   "outputs": [
    {
     "data": {
      "text/plain": "'Dlaczego stacje benzynowe pobierają różne kwoty w tej samej okolicy?'"
     },
     "execution_count": 62,
     "metadata": {},
     "output_type": "execute_result"
    }
   ],
   "source": [
    "q_id = np.where(rec_lemma_no_synonyms[:, 4] == 1)\n",
    "q = questions.iloc[q_id]['text'].iloc[0]\n",
    "q"
   ],
   "metadata": {
    "collapsed": false,
    "ExecuteTime": {
     "start_time": "2023-11-07T19:29:53.806407933Z"
    }
   }
  },
  {
   "cell_type": "code",
   "execution_count": 69,
   "outputs": [
    {
     "data": {
      "text/plain": "['W mojej okolicy jest wiele stacji benzynowych, które mają już różne ceny, jeśli płacisz gotówką lub kredytem. Ponadto robią to również niektóre małe firmy. Moja żona kupiła w piekarni tort urodzinowy. Jeśli zapłaciłeś gotówką, zaoszczędziłeś 5%.',\n 'Jest wiele czynników. Większość stacji benzynowych ustala ceny gazu na podstawie tego, ile będzie kosztować jego wymiana. Kiedy więc ich dostawca podnosi cenę, którą pobiera od stacji, stacja zazwyczaj podnosi proporcjonalnie swoje ceny. Dostawcy mają zwykle własne stawki. Firma musi osiągać zyski, więc ustala cenę tam, gdzie czuje, że zarobi najwięcej pieniędzy. Niektóre stacje kupują po okazyjnej cenie gaz. Wiele osób twierdzi, że ten gaz jest w porządku. Osobiście wydaje się, że na niektórych stacjach benzynowych moje samochody jeżdżą znacznie gorzej. Mogę powiedzieć, że mój przebieg może się różnić nawet o 4 mile do galonu w zależności od tego, skąd biorę benzynę. Więc płacę więcej, aby jechać do tych stacji, które konsekwentnie dostarczają mi dobrą benzynę. Jednak wyższe ceny niekoniecznie oznaczają lepszy gaz. Mamy BP tuż przy ulicy, który wydaje się mieć zły gaz, podczas gdy jeden o pół mili dalej, który wolę, ponieważ nigdy nie miałem złego zbiornika gazu. Oba mają taką samą cenę. W niektórych miejscowościach obowiązują również specjalne strefy podatkowe. Są to podatki lokalne pobierane w zależności od lokalizacji. Mamy tu 4 różne strefy w Peoria IL (150 tys. pop). To nie uwzględnia mniejszych miast wokół nas.',\n 'Kiedy prowadziłem stację benzynową, naszą cenę w dużej mierze ustalali nasi sąsiedzi – inne stacje benzynowe w okolicy. Nie mogliśmy zejść poniżej obecnego kosztu gazu zastępczego, ale poza tym chcieliśmy być na poziomie 0,05 powyżej średniej. (Udało nam się ładować więcej, ponieważ byliśmy ostatnią stacją na głównej drodze.) Wszyscy inni zrobili to samo. Ponadto ustalamy ceny tylko raz dziennie, wcześnie rano przed szczytem podmiejskim. Zmiana cen, gdy ktoś pompuje gaz, nie została zrealizowana, z dość oczywistych powodów. Tak więc pojawiły się te fale zmiany cen, gdy jedna stacja zmieniła cenę, a następnie wszyscy jej sąsiedzi zareagowaliby na to następnego dnia, a następnie ICH sąsiedzi zmieniliby się następnego dnia i tak dalej.',\n 'Niektóre z nich to zarządzanie popytem. Lokalny hurtowy klub BJ sprzedaje gaz o 0,10-0,15 USD/galon mniej niż obecnie. Zazwyczaj w godzinach szczytu na pompę czekają kolejki składające się z 3-5 samochodów. Ludzie przy zakupie gazu zwracają uwagę na cenę, co przyciąga tłumy, a detalista faktycznie chce mieć linię – celem stacji benzynowej jest przyciągnięcie ruchu do klubu magazynowego. Inne stacje benzynowe mają odwrotny problem – duże tłumy prowadzą do tego, że mniej ludzi kupuje jedzenie i napoje w sklepie spożywczym, gdzie firma faktycznie zarabia pieniądze. Chcą stałego napływu ludzi. W mojej okolicy znajduje się stacja benzynowa, która znajduje się na ruchliwym skrzyżowaniu tuż przy wjeździe na autostradę na lotnisko. Ich problem polega na tym, że ludzie zwracający wypożyczone samochody kiedyś zapełniali stację benzynową i powodowali korki na drogach – problem, którego można uniknąć, oznaczając benzynę w wysokości 0,30 USD.',\n '„Jest to znane jako „Ceny strefowe” lub „Ceny geograficzne”. http://articles.latimes.com/2005/jun/19/business/fi-calprice19 Takie różnice cen mogą wydawać się dziwne, ale są nie tylko w Anaheim. Każdego dnia, w dowolnym większym mieście w USA, jedna marka benzyny będzie sprzedawana w szerokim zakresie cen, nawet jeśli koszty produkcji i dostawy paliwa są takie same. Głównym winowajcą są ceny strefowe, tajna i wszechobecna strategia koncernu naftowego polegająca na zwiększaniu zysków poprzez pobieranie od dealerów różnych kwot za paliwo w zależności od natężenia ruchu, udogodnień na stacji, dochodów gospodarstw domowych w pobliżu, siły konkurentów itp. Jest to kontrowersyjna strategia, ale jak dotąd sądy uznały ją za legalne, a Federalna Komisja Handlu stwierdziła niedawno, że wpływ na konsumentów był niejednoznaczny, ponieważ niektórzy klienci ucierpieli z powodu wyższych cen, podczas gdy inni skorzystali z niższych. http://en.wikipedia.org/wiki/Geographical_pricing przemysł benzynowy w Stanach Zjednoczonych s, to wycena benzyny oparta na złożonej i tajnej wadze czynników, takich jak liczba konkurujących stacji, liczba pojazdów, średni przepływ ruchu, gęstość zaludnienia i charakterystyka geograficzna. Może to spowodować, że dwie markowe stacje benzynowe oddalone od siebie o zaledwie kilka mil sprzedają benzynę w cenie nawet 0,50 USD za galon. Ale krótka odpowiedź brzmi „ponieważ mogą”. Jest to legalne, pod warunkiem, że niektórzy płacą mniej, a inni więcej. Zasadniczo większa, bogatsza publiczność subsydiuje produkt w innych obszarach. Nie różni się to strasznie od sposobu, w jaki wycenia się większość leków na świecie”.']"
     },
     "execution_count": 69,
     "metadata": {},
     "output_type": "execute_result"
    }
   ],
   "source": [
    "[x['_source']['answer'] for x in query_text(q, limit=5)['hits']['hits']]"
   ],
   "metadata": {
    "collapsed": false,
    "ExecuteTime": {
     "start_time": "2023-11-07T19:31:33.216598221Z"
    }
   }
  },
  {
   "cell_type": "markdown",
   "source": [
    "This question contains generic words, which may result finding other texts related to gas stations, but not specifically to this question."
   ],
   "metadata": {
    "collapsed": false
   }
  },
  {
   "cell_type": "markdown",
   "source": [
    "# Question where the relevant document is returned by ES not found."
   ],
   "metadata": {
    "collapsed": false
   }
  },
  {
   "cell_type": "code",
   "execution_count": 71,
   "outputs": [
    {
     "data": {
      "text/plain": "'Względy podatkowe związane ze sprzedażą rodzinie nieruchomości poniżej szacunkowej wartości?'"
     },
     "execution_count": 71,
     "metadata": {},
     "output_type": "execute_result"
    }
   ],
   "source": [
    "q_id = np.where(rec_lemma_no_synonyms.sum(axis=1) == 0)\n",
    "q = questions.iloc[q_id]['text'].iloc[1]\n",
    "q"
   ],
   "metadata": {
    "collapsed": false,
    "ExecuteTime": {
     "start_time": "2023-11-07T19:32:16.184617417Z"
    }
   }
  },
  {
   "cell_type": "code",
   "execution_count": 72,
   "outputs": [
    {
     "data": {
      "text/plain": "['Musisz określić jurysdykcję podatkową, kiedy zostanie wykonana następna wycena podatkowa. W niektórych przypadkach wycena jest przeprowadzana co rok, dwa lub trzy lata. W innych przypadkach odbywa się to również przy sprzedaży nieruchomości. Informacje te powinny znaleźć się na stronie powiatowego urzędu skarbowego. Będą również mieli informacje o tym, jak się odwołać. Większość jurysdykcji ma sposób sprawdzania nie tylko stawek, ale także wartości danej nieruchomości. Będziesz także zainteresowany ustaleniem, czy wartość podatkowa nieruchomości jest niższa ze względu na przepisy lokalne/stanowe, które ograniczają wzrost wartości z jednej oceny do drugiej. Sprzedaż nieruchomości może wywołać nadrabianie zaległości. Możliwe, że obniżona wartość domu została już uwzględniona w ocenie. Możliwe też, że nie. Należy pamiętać, że podatki w niektórych jurysdykcjach mogą być bardziej skomplikowane, ponieważ istnieje również składnik miasto/miasto/hrabstwo, a w niektórych miejscach również inne pozycje na rachunku podatkowym, takie jak zarządzanie wodą deszczową, szkoły, opryskiwanie szkodnikami. Te inne przedmioty mogą być oparte na wartości, powierzchni działki lub ryczałtowej kwocie. Powinieneś uzyskać lokalną opinię na temat prawdopodobieństwa skutecznego odwołania i tego, jaką korektę możesz uzyskać. W zależności od daty sprzedaży i terminu płatności podatków, możesz być zmuszony do płacenia wyższej stawki podatkowej przez pewien czas, aż do następnej ponownej oceny lub następnego okna odwoławczego. Uwaga: fakt, że jest on licytowany może oznaczać, że to, co płacisz za dom, może być nieistotne, ponieważ organy podatkowe mogły ustalić, że motywacja do szybkiej sprzedaży mogła obniżyć jego wartość. Ten rodzaj sprzedaży nie wpłynie na wartość innych domów i nie może być podstawą do ustalenia wartości innych nieruchomości.',\n 'Ubezpieczenie - uzyskaj wycenę od agenta ubezpieczeniowego, który zajmuje się polisami dla nieruchomości komercyjnych. Zobacz komentarze poniżej dotyczące włączenia. Podatki - gdyby był to podstawowy dochód dla prostej spółki LLC, oszacowanie 25-40% i dostosowanie w czasie może działać. Wynajem nieruchomości to zupełnie inna perspektywa. Eksperci finansowi, którzy specjalizują się w wynajmie nieruchomości, byliby dobrym źródłem porad i warto byłoby ponieść koszty. Zobacz poniżej dotyczące włączenia. Docenienie nieruchomości - nie jest to coś, na co można liczyć w przypadku zabudowanej nieruchomości. Kiedyś aprecjacja była niemal gwarantowana, aby przynajmniej nadążyć za inflacją. Teraz nie ma nawet gwarancji, że wartości nieruchomości wzrosną. Nigdy nie było, ale generalną zasadą było poprawianie nieruchomości w dobrym stanie cenione w cenie. Nawet jeśli wartość nieruchomości z czasem wzrośnie, nieruchomości na wynajem tracą na wartości. W rzeczywistości w przypadku nieruchomości na wynajem możesz ubiegać się o określoną stawkę amortyzacji w czasie jako wydatek podatkowy. Ta deprecjacja może oznaczać sprzedaż za mniej niż zapłaciłeś za nieruchomość po kilku latach i należny podatek od zysków kapitałowych, ponieważ jesteś winien różnicę między zamortyzowaną wartością a ceną sprzedaży. Z podatkami związane są kody lokalne. Niektóre obszary wymagają posiadania licencji na zarządzanie nieruchomością do obsługi budynków z więcej niż określoną liczbą jednostek. Jeśli zamierzasz posiadać nieruchomości na wynajem, powinieneś chronić swoje prywatne życie finansowe poprzez włączenie. Załóż firmę. Firma będzie właścicielem nieruchomości i zatrudni osoby zajmujące się konserwacją, zarządców nieruchomości lub pracowników ochrony lub inne podobne czynności związane z zatrudnieniem. Firma wykupuje ubezpieczenie i płaci podatki. Firma może wypłacić Ci wynagrodzenie. Podsumowując, możesz sprawić, że firma pokryje wszystkie wydatki i podejmie całe ryzyko. Następnie, zakładając, że po wydatkach zostaną jakieś pieniądze, firma może wypłacić Ci pensję menedżera. W ten sposób, jeśli zdarzy się najgorsze i najemca złamie sobie biodro pod prysznicem i pozwie Cię o JEDEN MILION DOLARÓW i wygra, firma upadnie i odejdziesz. Możesz nawet rozważyć dwie firmy. Jeden na własność nieruchomości i wydzierżawienie jej firmie zarządzającej nieruchomościami. Firma zarządzająca nieruchomościami może następnie zbankrutować w przypadku jakiegoś problemu z odpowiedzialnością, w którym to przypadku nadal zachowujesz nieruchomość, tworzysz nową firmę zarządzającą, odmalowujesz i zmieniasz nazwę nieruchomości i ruszasz dalej. TL; DR: Przed zakupem uzyskaj poradę ubezpieczeniową od agenta ubezpieczeniowego. To samo dotyczy podatków od księgowego. Przeszkol się na zarządcę nieruchomości, jeśli wymagają tego lokalne przepisy (w każdym razie może to być dobry pomysł). Załóż firmę i niech firma podejmie wszelkie ryzyko.',\n 'Gdy nieruchomość zmienia właściciela, ceny sprzedaży mogą, ale nie muszą być wykorzystywane do określenia szacunkowej wartości nieruchomości i mogą, ale nie muszą, być wykorzystywane do określania szacunkowej wartości innych nieruchomości. Ze względu na charakter transakcji: masz już relację biznesową, władze lokalne prawdopodobnie zignorują dane dostarczone przez Twoją transakcję podczas określania wartości podobnych nieruchomości. Nie mają pojęcia, czy był jakiś inny czynnik używany do określenia ceny. Nie będą również uwzględniać w obliczeniach transakcji, które są wynikiem wykluczenia, ponieważ cena docelowa jest wartością pożyczki, a nie rzeczywistą wartością. Kalifornia i niektóre inne jurysdykcje dodają kolejną zmarszczkę. Będziesz musiał określić, czy transakcja spowoduje ponowną ocenę wartości nieruchomości. W niektórych stanach obowiązujące prawo stanowe ograniczało roczny wzrost oceny, ale można to teraz odzyskać, jeśli jurysdykcja uzna, że \\u200b\\u200bjest to nowy właściciel: Kalifornijska Rada Wyrównania - Zmiana własności - Często zadawane pytania W jaki sposób następuje zmiana na własność wpływają podatki od nieruchomości? Biuro rzeczoznawcy każdego hrabstwa dokonuje przeglądu wszystkich zarejestrowanych czynów dla tego hrabstwa, aby określić, które nieruchomości wymagają ponownej oceny zgodnie z prawem. Asesorzy okręgowi mogą również wykryć zmiany własnościowe za pomocą innych środków, takich jak samoocena podatnika, inspekcje terenowe, przegląd pozwoleń na budowę i gazety. Gdy rzeczoznawca z okręgu ustali, że nastąpiła zmiana własności, Propozycja 13 wymaga, aby rzeczoznawca z okręgu ponownie wycenił nieruchomość na jej aktualną godziwą wartość rynkową na dzień zmiany własności. Ponieważ podatki od nieruchomości opierają się na szacowanej wartości nieruchomości w momencie nabycia, bieżąca wartość rynkowa, która jest wyższa niż wcześniej oszacowana wartość roku bazowego skorygowanego według Propozycji 13, spowoduje wzrost podatków od nieruchomości. I odwrotnie, jeśli bieżąca wartość rynkowa jest niższa niż wcześniej oszacowana wartość roku bazowego skorygowana według Propozycji 13, wówczas podatki od nieruchomości od tej nieruchomości zmniejszą się. Jednak tylko ta część nieruchomości, która zmienia właściciela, podlega ponownej ocenie. Na przykład, jeśli 50 procent nieruchomości zostanie przeniesione, rzeczoznawca ponownie wyceni tylko 50 procent nieruchomości według aktualnej wartości rynkowej na dzień przeniesienia i odliczy 50 procent od istniejącej wartości roku bazowego Propozycji 13. W większości przypadków, gdy ktoś kupuje mieszkanie, cała nieruchomość przechodzi zmianę właściciela, a 100 procent nieruchomości jest ponownie wyceniane do obecnej wartości rynkowej.',\n 'Rządy mają tylko kilka sposobów na uzyskanie dochodu: dochód z podatków, konsumpcja podatków, podatek od nieruchomości (samochody i łodzie), opodatkowanie nieruchomości lub usługi podatkowe (hotele i posiłki). Krajowe, stanowe, powiatowe, miejskie i miejskie organy podatkowe określają, co jest opodatkowane i jaka będzie stawka, aby uzyskać wystarczającą ilość pieniędzy na zarządzanie swoim udziałem w rządzie. Na ogół opodatkowaniem nieruchomości zajmuje się samorząd terytorialny, ale możliwość opodatkowania nieruchomości przyznaje im państwo. W Stanach Zjednoczonych samorząd lokalny decyduje, na ogół w drodze wysłuchania publicznego, jaka będzie stawka. Zazwyczaj przed zakupem możesz określić aktualną stawkę i wartość podatkową domu. Chociaż niektóre jurysdykcje ograniczają roczny wzrost wartości nieruchomości, a następnie nadrabiają zaległości, gdy nieruchomość jest sprzedawana. Informacje te znajdują się również w rejestrach publicznych. Wszystkie podatki są przeznaczone na budowę dróg, płacenie za bezpieczeństwo publiczne, szkoły, biblioteki, parki... lista jest bardzo długa. Niezapłacenie podatku spowoduje zastaw na nieruchomości, co może skutkować utratą nieruchomości w wyniku sprzedaży podatkowej. W większości przypadków bank lub firma hipoteczna nalega, aby miesięczna płatność na ich rzecz zawierała miesięczną część szacunkowego podatku od nieruchomości oraz ubezpieczenie od ognia. Nazywa się to depozytem. Dzięki temu pieniądze są dostępne, gdy należny jest podatek. W niektórych miejscach płaci się corocznie, w innych co pół roku. Za pomocą rachunku powierniczego bank prześle pieniądze do rządu lub firmy ubezpieczeniowej. Oto wielka tajemnica: pośrednio płaciłeś podatek od nieruchomości. Właściciel mieszkania, kamienicy lub domu, który wynajmowałeś, płaci mu podatek z Twojej miesięcznej opłaty.',\n '„Kiedy dom jest sprzedawany na aukcji przejęcia, bank sprzedający zwykle nie daje gwarancji, które zapewnia zwykły sprzedawca domu. Ponadto poprzedni właściciel mógł zaniedbać nieruchomość i/lub złośliwie ją uszkodzić. Nieruchomości należące do banku są często zaniedbywane i/lub wandalizowane.Banki są zwykle zbyt krótkowzroczne, aby właściwie sprzedawać posiadane nieruchomości i nie potrafią ułatwić kupna nieruchomości.W związku z tym wyprzedaże mają zazwyczaj miejsce po znacznie niższej cenie. poniżej „uczciwej wartości rynkowej” sprzedaży między kompetentnymi gospodarstwami domowymi. Często zdarza się, że dom wart 125 000 USD (nawet na rynku w depresji) jest sprzedawany za jedyne 100 000 USD w ramach krótkiej sprzedaży lub przejęcia. Możliwe, że ta nieruchomość została sprzedana z jeszcze większym rabatem.Możliwe również, że biegły podatkowy (nieumyślnie) porównuje zniszczoną nieruchomość z dobrze utrzymanymi nieruchomościami, które mają bardzo drogie funkcje, bez pełnego dostosowania się do nieruchomości warunki i funkcje. W drugim scenariuszu właściciel nieruchomości może zwrócić się do rzeczoznawcy podatkowego o ponowne rozpatrzenie wyceny. Zazwyczaj taka prośba nazywana jest „odwołaniem”.”.']"
     },
     "execution_count": 72,
     "metadata": {},
     "output_type": "execute_result"
    }
   ],
   "source": [
    "[x['_source']['answer'] for x in query_text(q, limit=5)['hits']['hits']]"
   ],
   "metadata": {
    "collapsed": false,
    "ExecuteTime": {
     "start_time": "2023-11-07T19:32:24.395185201Z"
    }
   }
  },
  {
   "cell_type": "code",
   "execution_count": 74,
   "outputs": [
    {
     "data": {
      "text/plain": "level_0                                                     1\nindex                                                    6001\n_id                                                      5503\ntext        Względy podatkowe związane ze sprzedażą rodzin...\nmetadata                                                   {}\nName: 1, dtype: object"
     },
     "execution_count": 74,
     "metadata": {},
     "output_type": "execute_result"
    }
   ],
   "source": [
    "q_id = np.where(rec_lemma_no_synonyms.sum(axis=1) == 0)\n",
    "questions.iloc[q_id].iloc[1]"
   ],
   "metadata": {
    "collapsed": false,
    "ExecuteTime": {
     "end_time": "2023-11-07T19:48:24.100722243Z",
     "start_time": "2023-11-07T19:48:24.043863597Z"
    }
   }
  },
  {
   "cell_type": "code",
   "execution_count": 75,
   "outputs": [
    {
     "data": {
      "text/plain": "     query-id  corpus-id  score\n978      5503     146277      1\n979      5503      64279      1",
      "text/html": "<div>\n<style scoped>\n    .dataframe tbody tr th:only-of-type {\n        vertical-align: middle;\n    }\n\n    .dataframe tbody tr th {\n        vertical-align: top;\n    }\n\n    .dataframe thead th {\n        text-align: right;\n    }\n</style>\n<table border=\"1\" class=\"dataframe\">\n  <thead>\n    <tr style=\"text-align: right;\">\n      <th></th>\n      <th>query-id</th>\n      <th>corpus-id</th>\n      <th>score</th>\n    </tr>\n  </thead>\n  <tbody>\n    <tr>\n      <th>978</th>\n      <td>5503</td>\n      <td>146277</td>\n      <td>1</td>\n    </tr>\n    <tr>\n      <th>979</th>\n      <td>5503</td>\n      <td>64279</td>\n      <td>1</td>\n    </tr>\n  </tbody>\n</table>\n</div>"
     },
     "execution_count": 75,
     "metadata": {},
     "output_type": "execute_result"
    }
   ],
   "source": [
    "qa[qa['query-id'] == 5503]"
   ],
   "metadata": {
    "collapsed": false,
    "ExecuteTime": {
     "end_time": "2023-11-07T19:48:37.088340968Z",
     "start_time": "2023-11-07T19:48:37.076912379Z"
    }
   }
  },
  {
   "cell_type": "code",
   "execution_count": 73,
   "outputs": [
    {
     "data": {
      "text/plain": "['61623', '85229', '497530', '407433', '218622']"
     },
     "execution_count": 73,
     "metadata": {},
     "output_type": "execute_result"
    }
   ],
   "source": [
    "[x['_id'] for x in query_text(q, limit=5)['hits']['hits']]"
   ],
   "metadata": {
    "collapsed": false,
    "ExecuteTime": {
     "end_time": "2023-11-07T19:48:06.426500414Z",
     "start_time": "2023-11-07T19:48:06.351974195Z"
    }
   }
  },
  {
   "cell_type": "markdown",
   "source": [
    "This question also contains common words ('podatki', 'sprzedaż', 'rodzinie'), but it's very specific (question about taxation in some case)"
   ],
   "metadata": {
    "collapsed": false
   }
  },
  {
   "cell_type": "code",
   "execution_count": 44,
   "outputs": [],
   "source": [
    "np.savez(\n",
    "    'rs/scores2.npz',\n",
    "    no_lemma_no_synonyms=rec_no_lemma_no_synonyms,\n",
    "    no_lemma_synonyms=rec_no_lemma_synonyms,\n",
    "    lemma_no_synonyms=rec_lemma_no_synonyms,\n",
    "    lemma_synonyms=rec_lemma_synonyms\n",
    ")"
   ],
   "metadata": {
    "collapsed": false,
    "ExecuteTime": {
     "start_time": "2023-11-07T19:24:12.378033381Z"
    }
   }
  },
  {
   "cell_type": "markdown",
   "source": [
    "# Questions and answers\n",
    "\n",
    "### What are the strengths and weaknesses of regular expressions versus full text search regarding processing of text?\n",
    "\n",
    "FTS allows for text query using natural language, in comparison to regular expression, which takes time to write and debug, even for simple searches (e.g. `january` in polish). They're also very customizable, and easy to deliver to end user.\n",
    "\n",
    "On the other hand, they do not allow for the same granularity of the query as regular expressions, and require bigger setup (Elastic container + API + security setup vs any programming language in the world)\n",
    "\n",
    "---\n",
    "\n",
    "### Is full text search applicable to the question answering problem? Show at least 3 examples from the corpus to support your claim.\n",
    "\n",
    "They might be useful, as some kind of initial solution, but in case of questions and answers they might require usage knowledge from the end user (there's a reason why some people claim googling to be a skill). \n",
    "\n",
    "According to NDCG@5 scores, FTS managed to get around 70% of the answers right. But those solutions might fail in some cases, as we have seen in earlier questions and answers"
   ],
   "metadata": {
    "collapsed": false
   }
  },
  {
   "cell_type": "code",
   "execution_count": null,
   "outputs": [],
   "source": [],
   "metadata": {
    "collapsed": false
   }
  }
 ],
 "metadata": {
  "kernelspec": {
   "display_name": "Python 3",
   "language": "python",
   "name": "python3"
  },
  "language_info": {
   "codemirror_mode": {
    "name": "ipython",
    "version": 2
   },
   "file_extension": ".py",
   "mimetype": "text/x-python",
   "name": "python",
   "nbconvert_exporter": "python",
   "pygments_lexer": "ipython2",
   "version": "2.7.6"
  }
 },
 "nbformat": 4,
 "nbformat_minor": 0
}
