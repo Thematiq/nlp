{
 "cells": [
  {
   "cell_type": "markdown",
   "source": [
    "# NLP Lab 3\n",
    "\n",
    "---\n",
    "\n",
    "## Mateusz Praski"
   ],
   "metadata": {
    "collapsed": false
   }
  },
  {
   "cell_type": "code",
   "execution_count": null,
   "outputs": [],
   "source": [
    "from spacy.tokenizer import Tokenizer\n",
    "from spacy.lang.pl import Polish\n",
    "from tqdm.notebook import tqdm\n",
    "from collections import defaultdict\n",
    "from random import randint, choice\n",
    "from sklearn.metrics import ndcg_score\n",
    "from morfeusz2 import Morfeusz\n",
    "\n",
    "import numpy as np\n",
    "import pandas as pd\n",
    "import matplotlib.pyplot as plt\n",
    "\n",
    "import matplotlib\n",
    "import string\n",
    "import requests\n",
    "import json"
   ],
   "metadata": {
    "collapsed": false
   }
  },
  {
   "cell_type": "code",
   "execution_count": 2,
   "outputs": [],
   "source": [
    "matplotlib.rcParams['figure.figsize'] = (16, 7)"
   ],
   "metadata": {
    "collapsed": false,
    "ExecuteTime": {
     "end_time": "2023-11-14T16:01:54.931691583Z",
     "start_time": "2023-11-14T16:01:54.925629967Z"
    }
   }
  },
  {
   "cell_type": "markdown",
   "source": [
    "## Use the corpus from exercise no. 1."
   ],
   "metadata": {
    "collapsed": false
   }
  },
  {
   "cell_type": "code",
   "execution_count": 3,
   "outputs": [],
   "source": [
    "df = pd.read_json(\"../../data/corpus.jsonl\", lines=True)\n",
    "df = df.set_index('_id').sort_index()\n",
    "corpus = df['text']"
   ],
   "metadata": {
    "collapsed": false,
    "ExecuteTime": {
     "end_time": "2023-11-14T16:01:55.476292350Z",
     "start_time": "2023-11-14T16:01:54.927745085Z"
    }
   }
  },
  {
   "cell_type": "markdown",
   "source": [
    "## Use SpaCy tokenizer API to tokenize the text in the documents. Compute frequency list for each of the processed files. Aggregate the result to obtain one global frequency list. This frequency list gives you unigram statistics of the words appearing in the corpus."
   ],
   "metadata": {
    "collapsed": false
   }
  },
  {
   "cell_type": "code",
   "execution_count": 4,
   "outputs": [],
   "source": [
    "nlp = Polish()\n",
    "tokenizer = Tokenizer(nlp.vocab)"
   ],
   "metadata": {
    "collapsed": false,
    "ExecuteTime": {
     "end_time": "2023-11-14T16:01:55.508651587Z",
     "start_time": "2023-11-14T16:01:55.477241391Z"
    }
   }
  },
  {
   "cell_type": "code",
   "execution_count": 5,
   "outputs": [],
   "source": [
    "freq_list = {}"
   ],
   "metadata": {
    "collapsed": false,
    "ExecuteTime": {
     "end_time": "2023-11-14T16:01:55.513771741Z",
     "start_time": "2023-11-14T16:01:55.510126598Z"
    }
   }
  },
  {
   "cell_type": "code",
   "execution_count": 6,
   "outputs": [
    {
     "data": {
      "text/plain": "  0%|          | 0/57638 [00:00<?, ?it/s]",
      "application/vnd.jupyter.widget-view+json": {
       "version_major": 2,
       "version_minor": 0,
       "model_id": "bfa3348640dc43bb9d4f6e833e4a37c0"
      }
     },
     "metadata": {},
     "output_type": "display_data"
    }
   ],
   "source": [
    "for doc in tqdm(tokenizer.pipe(corpus), total=len(corpus)):\n",
    "    for token in doc:\n",
    "        text = token.text\n",
    "        freq_list[text] = freq_list.get(text, 0) + 1"
   ],
   "metadata": {
    "collapsed": false,
    "ExecuteTime": {
     "end_time": "2023-11-14T16:02:07.470519340Z",
     "start_time": "2023-11-14T16:01:55.512707197Z"
    }
   }
  },
  {
   "cell_type": "code",
   "execution_count": 7,
   "outputs": [
    {
     "data": {
      "text/plain": "_id\n0    Co jest uważane za wydatek służbowy w podróży ...\n1    Zgłaszanie wydatków biznesowych dla firmy bez ...\n2    Przekazywanie pieniędzy z jednej kontroli bizn...\n3    Posiadanie oddzielnego konta bankowego do prow...\n4    Wydatki służbowe - ubezpieczenie samochodu pod...\nName: text, dtype: object"
     },
     "execution_count": 7,
     "metadata": {},
     "output_type": "execute_result"
    }
   ],
   "source": [
    "questions = pd.read_json(\"../../data/queries.jsonl\", lines=True)\n",
    "questions = questions.set_index('_id').sort_index()['text']\n",
    "questions.head()"
   ],
   "metadata": {
    "collapsed": false,
    "ExecuteTime": {
     "end_time": "2023-11-14T16:02:07.514981356Z",
     "start_time": "2023-11-14T16:02:07.471424236Z"
    }
   }
  },
  {
   "cell_type": "code",
   "execution_count": 8,
   "outputs": [
    {
     "data": {
      "text/plain": "   query-id  corpus-id  score\n0         8     566392      1\n1         8      65404      1\n2        15     325273      1\n3        18      88124      1\n4        26     285255      1",
      "text/html": "<div>\n<style scoped>\n    .dataframe tbody tr th:only-of-type {\n        vertical-align: middle;\n    }\n\n    .dataframe tbody tr th {\n        vertical-align: top;\n    }\n\n    .dataframe thead th {\n        text-align: right;\n    }\n</style>\n<table border=\"1\" class=\"dataframe\">\n  <thead>\n    <tr style=\"text-align: right;\">\n      <th></th>\n      <th>query-id</th>\n      <th>corpus-id</th>\n      <th>score</th>\n    </tr>\n  </thead>\n  <tbody>\n    <tr>\n      <th>0</th>\n      <td>8</td>\n      <td>566392</td>\n      <td>1</td>\n    </tr>\n    <tr>\n      <th>1</th>\n      <td>8</td>\n      <td>65404</td>\n      <td>1</td>\n    </tr>\n    <tr>\n      <th>2</th>\n      <td>15</td>\n      <td>325273</td>\n      <td>1</td>\n    </tr>\n    <tr>\n      <th>3</th>\n      <td>18</td>\n      <td>88124</td>\n      <td>1</td>\n    </tr>\n    <tr>\n      <th>4</th>\n      <td>26</td>\n      <td>285255</td>\n      <td>1</td>\n    </tr>\n  </tbody>\n</table>\n</div>"
     },
     "execution_count": 8,
     "metadata": {},
     "output_type": "execute_result"
    }
   ],
   "source": [
    "qa = pd.read_csv('../../data/test.tsv', sep='\\t')\n",
    "\n",
    "qa = qa.sort_values(by='query-id')\n",
    "qa.head()"
   ],
   "metadata": {
    "collapsed": false,
    "ExecuteTime": {
     "end_time": "2023-11-14T16:02:07.515383926Z",
     "start_time": "2023-11-14T16:02:07.514686414Z"
    }
   }
  },
  {
   "cell_type": "code",
   "execution_count": 9,
   "outputs": [
    {
     "data": {
      "text/plain": "_id\n8     Jak zdeponować czek wystawiony na współpracown...\n15    Czy mogę wysłać przekaz pieniężny z USPS jako ...\n18    1 EIN prowadzący działalność pod wieloma nazwa...\n26    Ubieganie się o kredyt biznesowy i otrzymywani...\n34                     401k Przelew po zamknięciu firmy\nName: text, dtype: object"
     },
     "execution_count": 9,
     "metadata": {},
     "output_type": "execute_result"
    }
   ],
   "source": [
    "questions = questions[questions.index.isin(qa['query-id'])]\n",
    "questions.head()"
   ],
   "metadata": {
    "collapsed": false,
    "ExecuteTime": {
     "end_time": "2023-11-14T16:02:07.516464918Z",
     "start_time": "2023-11-14T16:02:07.514807073Z"
    }
   }
  },
  {
   "cell_type": "code",
   "execution_count": 10,
   "outputs": [],
   "source": [
    "qa_mapping = defaultdict(lambda: defaultdict(lambda: 0))\n",
    "\n",
    "for _, row in qa.iterrows():\n",
    "    query = row['query-id']\n",
    "    corpus = row['corpus-id']\n",
    "    qa_mapping[query][corpus] = 1"
   ],
   "metadata": {
    "collapsed": false,
    "ExecuteTime": {
     "end_time": "2023-11-14T16:02:07.529085971Z",
     "start_time": "2023-11-14T16:02:07.514854949Z"
    }
   }
  },
  {
   "cell_type": "code",
   "execution_count": 11,
   "outputs": [
    {
     "data": {
      "text/plain": "query-id\n8        2\n15       1\n18       1\n26       2\n34       1\n        ..\n10979    4\n10994    2\n11039    8\n11054    2\n11088    1\nName: count, Length: 648, dtype: int64"
     },
     "execution_count": 11,
     "metadata": {},
     "output_type": "execute_result"
    }
   ],
   "source": [
    "max_matches = qa.groupby('query-id')['corpus-id'].count().rename('count')\n",
    "max_matches"
   ],
   "metadata": {
    "collapsed": false,
    "ExecuteTime": {
     "end_time": "2023-11-14T16:02:07.611926044Z",
     "start_time": "2023-11-14T16:02:07.530521175Z"
    }
   }
  },
  {
   "cell_type": "code",
   "execution_count": null,
   "outputs": [],
   "source": [
    "!docker cp elastic_container:/usr/share/elasticsearch/config/certs/http_ca.crt ."
   ],
   "metadata": {
    "collapsed": false
   }
  },
  {
   "cell_type": "code",
   "execution_count": 13,
   "outputs": [],
   "source": [
    "ELASTIC_IP = 'https://localhost:9200'\n",
    "INDEX = 'nlp-index'\n",
    "auth = ('elastic', '\"qwerty\"')\n",
    "cert = 'http_ca.crt'"
   ],
   "metadata": {
    "collapsed": false,
    "ExecuteTime": {
     "end_time": "2023-11-14T16:02:08.314883238Z",
     "start_time": "2023-11-14T16:02:08.299052924Z"
    }
   }
  },
  {
   "cell_type": "code",
   "execution_count": 14,
   "outputs": [],
   "source": [
    "def query_text(text, analyzer=None, limit=None, use_synonyms=True):\n",
    "    url = f\"{ELASTIC_IP}/{INDEX}/_search\"\n",
    "    if limit is not None:\n",
    "        url += f\"?size={limit}\"\n",
    "\n",
    "    index = \"answer.with_synonyms\" if use_synonyms else \"answer.without_synonyms\"\n",
    "\n",
    "    body  = {\n",
    "        \"query\": {\n",
    "            \"match\": {\n",
    "                index: {\n",
    "                    \"query\": text,\n",
    "                }\n",
    "            }\n",
    "        }\n",
    "    }\n",
    "\n",
    "    if analyzer is not None:\n",
    "        body[\"query\"][\"match\"][index][\"analyzer\"]  = analyzer\n",
    "\n",
    "    rs = requests.get(url, json=body, auth=auth, verify=cert)\n",
    "    if rs.status_code != 200:\n",
    "        raise RuntimeError(f\"{rs.status_code} - {rs.text}\")\n",
    "    return json.loads(rs.text)"
   ],
   "metadata": {
    "collapsed": false,
    "ExecuteTime": {
     "end_time": "2023-11-14T16:02:08.328423640Z",
     "start_time": "2023-11-14T16:02:08.317616204Z"
    }
   }
  },
  {
   "cell_type": "code",
   "execution_count": 15,
   "outputs": [],
   "source": [
    "def eval_answers(questions, n, analyzer=None, use_synonynms=True, query_func=query_text, **query_kwargs):\n",
    "    no_questions = len(questions.index)\n",
    "    rec = np.empty((no_questions, n), dtype=int)\n",
    "\n",
    "    for index, row in tqdm(questions.iterrows(), total=no_questions):\n",
    "        rs = query_func(row['text'], analyzer=analyzer, limit=5, use_synonyms=use_synonynms, **query_kwargs)\n",
    "\n",
    "        recs = [qa_mapping[int(row['_id'])][int(rs['_id'])] for rs in rs['hits']['hits'][:n]]\n",
    "        if len(recs) < n:\n",
    "            recs += [0] * (n - len(recs))\n",
    "\n",
    "        rec[index] = recs\n",
    "    return rec"
   ],
   "metadata": {
    "collapsed": false,
    "ExecuteTime": {
     "end_time": "2023-11-14T16:02:08.358699809Z",
     "start_time": "2023-11-14T16:02:08.324664091Z"
    }
   }
  },
  {
   "cell_type": "code",
   "execution_count": 16,
   "outputs": [],
   "source": [
    "def eval_ndcg_scikit(questions, n, **eval_kwargs):\n",
    "    perfect_answers = np.zeros((len(questions.index), n), dtype=int)\n",
    "\n",
    "    for index, row in tqdm(questions.iterrows()):\n",
    "        matches = min(max_matches.loc[row['_id']], n)\n",
    "        vector = ([1] * matches) + ([0] * (n - matches))\n",
    "        perfect_answers[index, :] = vector\n",
    "        \n",
    "    current_answers = eval_answers(questions, n, **eval_kwargs)\n",
    "    \n",
    "    return ndcg_score(perfect_answers, current_answers)\n",
    "\n",
    "def eval_ndcg(questions, n, return_mean=True, **eval_kwargs):\n",
    "    no_questions = len(questions.index)\n",
    "    current_answers = eval_answers(questions, n, **eval_kwargs)\n",
    "\n",
    "    perfect_answers = np.zeros((no_questions, n), dtype=int)\n",
    "\n",
    "    for index, row in tqdm(questions.iterrows()):\n",
    "        matches = min(max_matches.loc[row['_id']], n)\n",
    "        vector = ([1] * matches) + ([0] * (n - matches))\n",
    "        perfect_answers[index, :] = vector\n",
    "\n",
    "    dcg_weights = np.log2(np.arange(2, n+2))\n",
    "    dcg_weights = np.resize(dcg_weights, (no_questions, n))\n",
    "    dcg = np.sum(current_answers / dcg_weights, axis=1)\n",
    "    idcg = np.sum(perfect_answers / dcg_weights, axis=1)\n",
    "    ndcg = dcg / idcg\n",
    "\n",
    "    return ndcg.mean() if return_mean else ndcg"
   ],
   "metadata": {
    "collapsed": false,
    "ExecuteTime": {
     "end_time": "2023-11-14T16:02:08.358860415Z",
     "start_time": "2023-11-14T16:02:08.353088067Z"
    }
   }
  },
  {
   "cell_type": "markdown",
   "source": [
    "# 5. Apply a distortion function to the queries part of the corpus. In each query draw randomly one word and change one letter in the word to some other letter."
   ],
   "metadata": {
    "collapsed": false
   }
  },
  {
   "cell_type": "code",
   "execution_count": 17,
   "outputs": [],
   "source": [
    "def distort(text):\n",
    "    distort_pos = randint(0, len(text)-1)\n",
    "    while not text[distort_pos].isalpha():\n",
    "        distort_pos = randint(0, len(text)-1)\n",
    "    \n",
    "    return text[:distort_pos] + choice([x for x in string.ascii_lowercase if x != text[distort_pos]]) + text[distort_pos  + 1:] "
   ],
   "metadata": {
    "collapsed": false,
    "ExecuteTime": {
     "end_time": "2023-11-14T16:02:08.358944855Z",
     "start_time": "2023-11-14T16:02:08.353176916Z"
    }
   }
  },
  {
   "cell_type": "code",
   "execution_count": 18,
   "outputs": [
    {
     "data": {
      "text/plain": "'lettlr'"
     },
     "execution_count": 18,
     "metadata": {},
     "output_type": "execute_result"
    }
   ],
   "source": [
    "distort('letter')"
   ],
   "metadata": {
    "collapsed": false,
    "ExecuteTime": {
     "end_time": "2023-11-14T16:02:08.359125658Z",
     "start_time": "2023-11-14T16:02:08.353243814Z"
    }
   }
  },
  {
   "cell_type": "code",
   "execution_count": 19,
   "outputs": [
    {
     "data": {
      "text/plain": "       _id                                               text\n0        8  Jak zdeponować czek wystawiony na współpracovn...\n1       15  Czy mogę wysłać przenaz pieniężny z USPS jako ...\n2       18  1 EIN prowadlący działalność pod wieloma nazwa...\n3       26  Ubieganie się o krecyt biznesowy i otrzymywani...\n4       34                   401k Przelew po zamknięciu yirmy\n..     ...                                                ...\n643  10979                         Zamknięcie pozycji futudes\n644  10994  Strata netgo nie podzielona przez fundusze inw...\n645  11039  Spłrć zadłużenie karty kredytowej lub zarób 40...\n646  11054  Podatek od krótkoterminowych zysków kapitałowy...\n647  11088  Czy wymagane jest, aby prawnik stworzuł/nadzor...\n\n[648 rows x 2 columns]",
      "text/html": "<div>\n<style scoped>\n    .dataframe tbody tr th:only-of-type {\n        vertical-align: middle;\n    }\n\n    .dataframe tbody tr th {\n        vertical-align: top;\n    }\n\n    .dataframe thead th {\n        text-align: right;\n    }\n</style>\n<table border=\"1\" class=\"dataframe\">\n  <thead>\n    <tr style=\"text-align: right;\">\n      <th></th>\n      <th>_id</th>\n      <th>text</th>\n    </tr>\n  </thead>\n  <tbody>\n    <tr>\n      <th>0</th>\n      <td>8</td>\n      <td>Jak zdeponować czek wystawiony na współpracovn...</td>\n    </tr>\n    <tr>\n      <th>1</th>\n      <td>15</td>\n      <td>Czy mogę wysłać przenaz pieniężny z USPS jako ...</td>\n    </tr>\n    <tr>\n      <th>2</th>\n      <td>18</td>\n      <td>1 EIN prowadlący działalność pod wieloma nazwa...</td>\n    </tr>\n    <tr>\n      <th>3</th>\n      <td>26</td>\n      <td>Ubieganie się o krecyt biznesowy i otrzymywani...</td>\n    </tr>\n    <tr>\n      <th>4</th>\n      <td>34</td>\n      <td>401k Przelew po zamknięciu yirmy</td>\n    </tr>\n    <tr>\n      <th>...</th>\n      <td>...</td>\n      <td>...</td>\n    </tr>\n    <tr>\n      <th>643</th>\n      <td>10979</td>\n      <td>Zamknięcie pozycji futudes</td>\n    </tr>\n    <tr>\n      <th>644</th>\n      <td>10994</td>\n      <td>Strata netgo nie podzielona przez fundusze inw...</td>\n    </tr>\n    <tr>\n      <th>645</th>\n      <td>11039</td>\n      <td>Spłrć zadłużenie karty kredytowej lub zarób 40...</td>\n    </tr>\n    <tr>\n      <th>646</th>\n      <td>11054</td>\n      <td>Podatek od krótkoterminowych zysków kapitałowy...</td>\n    </tr>\n    <tr>\n      <th>647</th>\n      <td>11088</td>\n      <td>Czy wymagane jest, aby prawnik stworzuł/nadzor...</td>\n    </tr>\n  </tbody>\n</table>\n<p>648 rows × 2 columns</p>\n</div>"
     },
     "execution_count": 19,
     "metadata": {},
     "output_type": "execute_result"
    }
   ],
   "source": [
    "distorted_questions = questions.apply(distort).reset_index()\n",
    "distorted_questions"
   ],
   "metadata": {
    "collapsed": false,
    "ExecuteTime": {
     "end_time": "2023-11-14T16:02:08.359518678Z",
     "start_time": "2023-11-14T16:02:08.353278561Z"
    }
   }
  },
  {
   "cell_type": "markdown",
   "source": [
    "# 6. Compute nDCG@10 for the distorted queris, using the same approach as in lab 2. This result will be the baseline for the other methods."
   ],
   "metadata": {
    "collapsed": false
   }
  },
  {
   "cell_type": "code",
   "execution_count": 20,
   "outputs": [
    {
     "data": {
      "text/plain": "  0%|          | 0/648 [00:00<?, ?it/s]",
      "application/vnd.jupyter.widget-view+json": {
       "version_major": 2,
       "version_minor": 0,
       "model_id": "8342820874a048a0a19d586c34d1099b"
      }
     },
     "metadata": {},
     "output_type": "display_data"
    },
    {
     "data": {
      "text/plain": "0it [00:00, ?it/s]",
      "application/vnd.jupyter.widget-view+json": {
       "version_major": 2,
       "version_minor": 0,
       "model_id": "45139565ea18479aa448aa98086c1da0"
      }
     },
     "metadata": {},
     "output_type": "display_data"
    },
    {
     "data": {
      "text/plain": "0.15884010867532353"
     },
     "execution_count": 20,
     "metadata": {},
     "output_type": "execute_result"
    }
   ],
   "source": [
    "eval_ndcg(distorted_questions, n=10)"
   ],
   "metadata": {
    "collapsed": false,
    "ExecuteTime": {
     "end_time": "2023-11-14T16:02:20.572270283Z",
     "start_time": "2023-11-14T16:02:08.353379404Z"
    }
   }
  },
  {
   "cell_type": "markdown",
   "source": [
    "# 7. Install Morfeusz (Binding dla Pythona) and use it to find all words from the queries that do not appear in that dictionary."
   ],
   "metadata": {
    "collapsed": false
   }
  },
  {
   "cell_type": "code",
   "execution_count": 21,
   "outputs": [
    {
     "data": {
      "text/plain": "       _id                                               text\n0        8  Jak zdeponować czek wystawiony na współpracovn...\n1       15  Czy mogę wysłać przenaz pieniężny z USPS jako ...\n2       18  1 EIN prowadlący działalność pod wieloma nazwa...\n3       26  Ubieganie się o krecyt biznesowy i otrzymywani...\n4       34                   401k Przelew po zamknięciu yirmy\n..     ...                                                ...\n643  10979                         Zamknięcie pozycji futudes\n644  10994  Strata netgo nie podzielona przez fundusze inw...\n645  11039  Spłrć zadłużenie karty kredytowej lub zarób 40...\n646  11054  Podatek od krótkoterminowych zysków kapitałowy...\n647  11088  Czy wymagane jest, aby prawnik stworzuł/nadzor...\n\n[648 rows x 2 columns]",
      "text/html": "<div>\n<style scoped>\n    .dataframe tbody tr th:only-of-type {\n        vertical-align: middle;\n    }\n\n    .dataframe tbody tr th {\n        vertical-align: top;\n    }\n\n    .dataframe thead th {\n        text-align: right;\n    }\n</style>\n<table border=\"1\" class=\"dataframe\">\n  <thead>\n    <tr style=\"text-align: right;\">\n      <th></th>\n      <th>_id</th>\n      <th>text</th>\n    </tr>\n  </thead>\n  <tbody>\n    <tr>\n      <th>0</th>\n      <td>8</td>\n      <td>Jak zdeponować czek wystawiony na współpracovn...</td>\n    </tr>\n    <tr>\n      <th>1</th>\n      <td>15</td>\n      <td>Czy mogę wysłać przenaz pieniężny z USPS jako ...</td>\n    </tr>\n    <tr>\n      <th>2</th>\n      <td>18</td>\n      <td>1 EIN prowadlący działalność pod wieloma nazwa...</td>\n    </tr>\n    <tr>\n      <th>3</th>\n      <td>26</td>\n      <td>Ubieganie się o krecyt biznesowy i otrzymywani...</td>\n    </tr>\n    <tr>\n      <th>4</th>\n      <td>34</td>\n      <td>401k Przelew po zamknięciu yirmy</td>\n    </tr>\n    <tr>\n      <th>...</th>\n      <td>...</td>\n      <td>...</td>\n    </tr>\n    <tr>\n      <th>643</th>\n      <td>10979</td>\n      <td>Zamknięcie pozycji futudes</td>\n    </tr>\n    <tr>\n      <th>644</th>\n      <td>10994</td>\n      <td>Strata netgo nie podzielona przez fundusze inw...</td>\n    </tr>\n    <tr>\n      <th>645</th>\n      <td>11039</td>\n      <td>Spłrć zadłużenie karty kredytowej lub zarób 40...</td>\n    </tr>\n    <tr>\n      <th>646</th>\n      <td>11054</td>\n      <td>Podatek od krótkoterminowych zysków kapitałowy...</td>\n    </tr>\n    <tr>\n      <th>647</th>\n      <td>11088</td>\n      <td>Czy wymagane jest, aby prawnik stworzuł/nadzor...</td>\n    </tr>\n  </tbody>\n</table>\n<p>648 rows × 2 columns</p>\n</div>"
     },
     "execution_count": 21,
     "metadata": {},
     "output_type": "execute_result"
    }
   ],
   "source": [
    "distorted_questions"
   ],
   "metadata": {
    "collapsed": false,
    "ExecuteTime": {
     "end_time": "2023-11-14T16:02:20.628871241Z",
     "start_time": "2023-11-14T16:02:20.568279198Z"
    }
   }
  },
  {
   "cell_type": "code",
   "execution_count": 22,
   "outputs": [],
   "source": [
    "morf = Morfeusz()\n",
    "\n",
    "def find_incorrect_word(text):\n",
    "    # I did not want to assume that there's only one wrong word - in reality we wouldn't know that\n",
    "    analysis = morf.analyse(text)\n",
    "    \n",
    "    invalid_words = []\n",
    "    \n",
    "    for result in analysis:\n",
    "        if result[2][2] == 'ign':\n",
    "            invalid_words.append(result[2][0])\n",
    "    return invalid_words"
   ],
   "metadata": {
    "collapsed": false,
    "ExecuteTime": {
     "end_time": "2023-11-14T16:02:20.629038763Z",
     "start_time": "2023-11-14T16:02:20.611333569Z"
    }
   }
  },
  {
   "cell_type": "code",
   "execution_count": 23,
   "outputs": [
    {
     "data": {
      "text/plain": "['współpracovnika']"
     },
     "execution_count": 23,
     "metadata": {},
     "output_type": "execute_result"
    }
   ],
   "source": [
    "find_incorrect_word(distorted_questions['text'].iloc[0])"
   ],
   "metadata": {
    "collapsed": false,
    "ExecuteTime": {
     "end_time": "2023-11-14T16:02:20.629183464Z",
     "start_time": "2023-11-14T16:02:20.611455325Z"
    }
   }
  },
  {
   "cell_type": "code",
   "execution_count": 24,
   "outputs": [],
   "source": [
    "N = sum(freq_list.values())\n",
    "\n",
    "\n",
    "def correct_word(word):\n",
    "    \n",
    "    def candidates(word):\n",
    "        letters    = 'aąbcćdeęfghijklłmnńoópqrsśtuvwxyzźż'\n",
    "        splits     = [(word[:i], word[i:])    for i in range(len(word) + 1)]\n",
    "        deletes    = [L + R[1:]               for L, R in splits if R]\n",
    "        transposes = [L + R[1] + R[0] + R[2:] for L, R in splits if len(R)>1]\n",
    "        replaces   = [L + c + R[1:]           for L, R in splits if R for c in letters]\n",
    "        inserts    = [L + c + R               for L, R in splits for c in letters]\n",
    "        return set(deletes + transposes + replaces + inserts)\n",
    "\n",
    "    def prob(word):\n",
    "        return freq_list.get(word, 0) / N\n",
    "    \n",
    "    return max(candidates(word), key=prob)"
   ],
   "metadata": {
    "collapsed": false,
    "ExecuteTime": {
     "end_time": "2023-11-14T16:02:20.629236457Z",
     "start_time": "2023-11-14T16:02:20.611527391Z"
    }
   }
  },
  {
   "cell_type": "code",
   "execution_count": 25,
   "outputs": [
    {
     "data": {
      "text/plain": "'mojej'"
     },
     "execution_count": 25,
     "metadata": {},
     "output_type": "execute_result"
    }
   ],
   "source": [
    "correct_word('dojej')"
   ],
   "metadata": {
    "collapsed": false,
    "ExecuteTime": {
     "end_time": "2023-11-14T16:02:20.708018550Z",
     "start_time": "2023-11-14T16:02:20.617167959Z"
    }
   }
  },
  {
   "cell_type": "code",
   "execution_count": 26,
   "outputs": [
    {
     "data": {
      "text/plain": "'firmie'"
     },
     "execution_count": 26,
     "metadata": {},
     "output_type": "execute_result"
    }
   ],
   "source": [
    "correct_word('fiimie')"
   ],
   "metadata": {
    "collapsed": false,
    "ExecuteTime": {
     "end_time": "2023-11-14T16:02:20.708293899Z",
     "start_time": "2023-11-14T16:02:20.661334970Z"
    }
   }
  },
  {
   "cell_type": "code",
   "execution_count": 27,
   "outputs": [],
   "source": [
    "def correct(sentence, word_corrector=correct_word):\n",
    "    words = find_incorrect_word(sentence)\n",
    "    for word in words:\n",
    "        fixed_word = word_corrector(word)\n",
    "        sentence = sentence.replace(word, fixed_word)\n",
    "    return sentence"
   ],
   "metadata": {
    "collapsed": false,
    "ExecuteTime": {
     "end_time": "2023-11-14T16:02:20.708362036Z",
     "start_time": "2023-11-14T16:02:20.661410487Z"
    }
   }
  },
  {
   "cell_type": "code",
   "execution_count": 28,
   "outputs": [
    {
     "data": {
      "text/plain": "'Jak zdeponować czek wystawiony na współpracovnika w mojej firmie na moje konto firmowe?'"
     },
     "execution_count": 28,
     "metadata": {},
     "output_type": "execute_result"
    }
   ],
   "source": [
    "distorted_questions['text'].iloc[0]"
   ],
   "metadata": {
    "collapsed": false,
    "ExecuteTime": {
     "end_time": "2023-11-14T16:02:20.708456165Z",
     "start_time": "2023-11-14T16:02:20.661440134Z"
    }
   }
  },
  {
   "cell_type": "code",
   "execution_count": 29,
   "outputs": [
    {
     "data": {
      "text/plain": "'Jak zdeponować czek wystawiony na współpracownika w mojej firmie na moje konto firmowe?'"
     },
     "execution_count": 29,
     "metadata": {},
     "output_type": "execute_result"
    }
   ],
   "source": [
    "correct(distorted_questions['text'].iloc[0])"
   ],
   "metadata": {
    "collapsed": false,
    "ExecuteTime": {
     "end_time": "2023-11-14T16:02:20.708548295Z",
     "start_time": "2023-11-14T16:02:20.661468312Z"
    }
   }
  },
  {
   "cell_type": "code",
   "execution_count": 30,
   "outputs": [
    {
     "name": "stdout",
     "output_type": "stream",
     "text": [
      "354 µs ± 35.1 µs per loop (mean ± std. dev. of 7 runs, 1,000 loops each)\n"
     ]
    }
   ],
   "source": [
    "%%timeit\n",
    "correct(distorted_questions['text'].iloc[0])"
   ],
   "metadata": {
    "collapsed": false,
    "ExecuteTime": {
     "end_time": "2023-11-14T16:02:23.515057062Z",
     "start_time": "2023-11-14T16:02:20.661494205Z"
    }
   }
  },
  {
   "cell_type": "code",
   "execution_count": 31,
   "outputs": [
    {
     "data": {
      "text/plain": "   _id                                               text\n0    8  Jak zdeponować czek wystawiony na współpracovn...\n1   15  Czy mogę wysłać przenaz pieniężny z USPS jako ...\n2   18  1 EIN prowadlący działalność pod wieloma nazwa...\n3   26  Ubieganie się o krecyt biznesowy i otrzymywani...\n4   34                   401k Przelew po zamknięciu yirmy",
      "text/html": "<div>\n<style scoped>\n    .dataframe tbody tr th:only-of-type {\n        vertical-align: middle;\n    }\n\n    .dataframe tbody tr th {\n        vertical-align: top;\n    }\n\n    .dataframe thead th {\n        text-align: right;\n    }\n</style>\n<table border=\"1\" class=\"dataframe\">\n  <thead>\n    <tr style=\"text-align: right;\">\n      <th></th>\n      <th>_id</th>\n      <th>text</th>\n    </tr>\n  </thead>\n  <tbody>\n    <tr>\n      <th>0</th>\n      <td>8</td>\n      <td>Jak zdeponować czek wystawiony na współpracovn...</td>\n    </tr>\n    <tr>\n      <th>1</th>\n      <td>15</td>\n      <td>Czy mogę wysłać przenaz pieniężny z USPS jako ...</td>\n    </tr>\n    <tr>\n      <th>2</th>\n      <td>18</td>\n      <td>1 EIN prowadlący działalność pod wieloma nazwa...</td>\n    </tr>\n    <tr>\n      <th>3</th>\n      <td>26</td>\n      <td>Ubieganie się o krecyt biznesowy i otrzymywani...</td>\n    </tr>\n    <tr>\n      <th>4</th>\n      <td>34</td>\n      <td>401k Przelew po zamknięciu yirmy</td>\n    </tr>\n  </tbody>\n</table>\n</div>"
     },
     "execution_count": 31,
     "metadata": {},
     "output_type": "execute_result"
    }
   ],
   "source": [
    "distorted_questions.head()"
   ],
   "metadata": {
    "collapsed": false,
    "ExecuteTime": {
     "end_time": "2023-11-14T16:02:23.558404551Z",
     "start_time": "2023-11-14T16:02:23.516783771Z"
    }
   }
  },
  {
   "cell_type": "code",
   "execution_count": 32,
   "outputs": [],
   "source": [
    "fixed_questions = distorted_questions.copy()\n",
    "fixed_questions['text'] = fixed_questions['text'].apply(correct)"
   ],
   "metadata": {
    "collapsed": false,
    "ExecuteTime": {
     "end_time": "2023-11-14T16:02:23.727908472Z",
     "start_time": "2023-11-14T16:02:23.558016165Z"
    }
   }
  },
  {
   "cell_type": "code",
   "execution_count": 33,
   "outputs": [
    {
     "data": {
      "text/plain": "   _id                                               text\n0    8  Jak zdeponować czek wystawiony na współpracown...\n1   15  Czy mogę wysłać przekaz pieniężny z UPS jako f...\n2   18  1 EI prowadzący działalność pod wieloma nazwam...\n3   26  Ubieganie się o kredyt biznesowy i otrzymywani...\n4   34                   401k Przelew po zamknięciu firmy",
      "text/html": "<div>\n<style scoped>\n    .dataframe tbody tr th:only-of-type {\n        vertical-align: middle;\n    }\n\n    .dataframe tbody tr th {\n        vertical-align: top;\n    }\n\n    .dataframe thead th {\n        text-align: right;\n    }\n</style>\n<table border=\"1\" class=\"dataframe\">\n  <thead>\n    <tr style=\"text-align: right;\">\n      <th></th>\n      <th>_id</th>\n      <th>text</th>\n    </tr>\n  </thead>\n  <tbody>\n    <tr>\n      <th>0</th>\n      <td>8</td>\n      <td>Jak zdeponować czek wystawiony na współpracown...</td>\n    </tr>\n    <tr>\n      <th>1</th>\n      <td>15</td>\n      <td>Czy mogę wysłać przekaz pieniężny z UPS jako f...</td>\n    </tr>\n    <tr>\n      <th>2</th>\n      <td>18</td>\n      <td>1 EI prowadzący działalność pod wieloma nazwam...</td>\n    </tr>\n    <tr>\n      <th>3</th>\n      <td>26</td>\n      <td>Ubieganie się o kredyt biznesowy i otrzymywani...</td>\n    </tr>\n    <tr>\n      <th>4</th>\n      <td>34</td>\n      <td>401k Przelew po zamknięciu firmy</td>\n    </tr>\n  </tbody>\n</table>\n</div>"
     },
     "execution_count": 33,
     "metadata": {},
     "output_type": "execute_result"
    }
   ],
   "source": [
    "fixed_questions.head()"
   ],
   "metadata": {
    "collapsed": false,
    "ExecuteTime": {
     "end_time": "2023-11-14T16:02:23.771956004Z",
     "start_time": "2023-11-14T16:02:23.730265166Z"
    }
   }
  },
  {
   "cell_type": "code",
   "execution_count": 34,
   "outputs": [
    {
     "data": {
      "text/plain": "  0%|          | 0/648 [00:00<?, ?it/s]",
      "application/vnd.jupyter.widget-view+json": {
       "version_major": 2,
       "version_minor": 0,
       "model_id": "1d2b917c325546c3b4247dbf41f3b1a9"
      }
     },
     "metadata": {},
     "output_type": "display_data"
    },
    {
     "data": {
      "text/plain": "0it [00:00, ?it/s]",
      "application/vnd.jupyter.widget-view+json": {
       "version_major": 2,
       "version_minor": 0,
       "model_id": "ed50f7aeb63946b384ae7093172f24ba"
      }
     },
     "metadata": {},
     "output_type": "display_data"
    },
    {
     "data": {
      "text/plain": "0.16030256334692877"
     },
     "execution_count": 34,
     "metadata": {},
     "output_type": "execute_result"
    }
   ],
   "source": [
    "eval_ndcg(fixed_questions, n=10)"
   ],
   "metadata": {
    "collapsed": false,
    "ExecuteTime": {
     "end_time": "2023-11-14T16:02:34.500622040Z",
     "start_time": "2023-11-14T16:02:23.771382765Z"
    }
   }
  },
  {
   "cell_type": "markdown",
   "source": [
    "# 10. Use ElasticSearch's fuzzy match and compute nDCG@10 for this approach."
   ],
   "metadata": {
    "collapsed": false
   }
  },
  {
   "cell_type": "code",
   "execution_count": 35,
   "outputs": [],
   "source": [
    "def fuzzy_text(text, analyzer=None, limit=None, use_synonyms=True, fuzziness=1):\n",
    "    url = f\"{ELASTIC_IP}/{INDEX}/_search\"\n",
    "    if limit is not None:\n",
    "        url += f\"?size={limit}\"\n",
    "\n",
    "    index = \"answer.with_synonyms\" if use_synonyms else \"answer.without_synonyms\"\n",
    "\n",
    "    body  = {\n",
    "        \"query\": {\n",
    "            \"match\": {\n",
    "                index: {\n",
    "                    \"query\": text,\n",
    "                    \"fuzziness\": fuzziness\n",
    "                }\n",
    "            }\n",
    "        }\n",
    "    }\n",
    "\n",
    "    if analyzer is not None:\n",
    "        body[\"query\"][\"match\"][index][\"analyzer\"]  = analyzer\n",
    "\n",
    "    rs = requests.get(url, json=body, auth=auth, verify=cert)\n",
    "    if rs.status_code != 200:\n",
    "        raise RuntimeError(f\"{rs.status_code} - {rs.text}\")\n",
    "    return json.loads(rs.text)"
   ],
   "metadata": {
    "collapsed": false,
    "ExecuteTime": {
     "end_time": "2023-11-14T16:02:34.560663719Z",
     "start_time": "2023-11-14T16:02:34.498289712Z"
    }
   }
  },
  {
   "cell_type": "code",
   "execution_count": 36,
   "outputs": [],
   "source": [
    "from time import time\n",
    "\n",
    "def measure_time(func):\n",
    "    start = time()\n",
    "    res = func()\n",
    "    end = time()\n",
    "    return f\"Time: {f'{(end - start):.2f}s': <8}, NDCG@10 {res:.2%}\""
   ],
   "metadata": {
    "collapsed": false,
    "ExecuteTime": {
     "end_time": "2023-11-14T16:02:34.567622334Z",
     "start_time": "2023-11-14T16:02:34.531242682Z"
    }
   }
  },
  {
   "cell_type": "code",
   "execution_count": 37,
   "outputs": [],
   "source": [
    "def fix_and_eval(queries, word_corrector=correct_word):\n",
    "    fixed_questions = queries.copy()\n",
    "    fixed_questions['text'] = fixed_questions['text'].apply(lambda x: correct(x, word_corrector=word_corrector))\n",
    "    return eval_ndcg(fixed_questions, n=10)"
   ],
   "metadata": {
    "collapsed": false,
    "ExecuteTime": {
     "end_time": "2023-11-14T16:02:34.567793210Z",
     "start_time": "2023-11-14T16:02:34.531431539Z"
    }
   }
  },
  {
   "cell_type": "code",
   "execution_count": 38,
   "outputs": [],
   "source": [
    "import re\n",
    "from collections import Counter\n",
    "\n",
    "def correct_word_len2(word):\n",
    "    def prob(word):\n",
    "        return freq_list.get(word, 0) / N\n",
    "    \n",
    "    def candidates(word):\n",
    "        return known([word]) or known(edits1(word)) or known(edits2(word)) or [word]\n",
    "\n",
    "    def known(words):\n",
    "        \"The subset of `words` that appear in the dictionary of WORDS.\"\n",
    "        return set(w for w in words if w in freq_list)\n",
    "    \n",
    "    def edits1(word):\n",
    "        \"All edits that are one edit away from `word`.\"\n",
    "        letters    = 'aąbcćdeęfghijklłmnńoópqrsśtuvwxyzźż'\n",
    "        splits     = [(word[:i], word[i:])    for i in range(len(word) + 1)]\n",
    "        deletes    = [L + R[1:]               for L, R in splits if R]\n",
    "        transposes = [L + R[1] + R[0] + R[2:] for L, R in splits if len(R)>1]\n",
    "        replaces   = [L + c + R[1:]           for L, R in splits if R for c in letters]\n",
    "        inserts    = [L + c + R               for L, R in splits for c in letters]\n",
    "        return set(deletes + transposes + replaces + inserts)\n",
    "    \n",
    "    def edits2(word):\n",
    "        \"All edits that are two edits away from `word`.\"\n",
    "        return (e2 for e1 in edits1(word) for e2 in edits1(e1))\n",
    "\n",
    "    return max(candidates(word), key=prob)"
   ],
   "metadata": {
    "collapsed": false,
    "ExecuteTime": {
     "end_time": "2023-11-14T16:02:34.567860874Z",
     "start_time": "2023-11-14T16:02:34.531550911Z"
    }
   }
  },
  {
   "cell_type": "code",
   "execution_count": 39,
   "outputs": [],
   "source": [
    "scores = {}"
   ],
   "metadata": {
    "collapsed": false,
    "ExecuteTime": {
     "end_time": "2023-11-14T16:02:34.567908990Z",
     "start_time": "2023-11-14T16:02:34.531665254Z"
    }
   }
  },
  {
   "cell_type": "code",
   "execution_count": 40,
   "outputs": [
    {
     "data": {
      "text/plain": "  0%|          | 0/648 [00:00<?, ?it/s]",
      "application/vnd.jupyter.widget-view+json": {
       "version_major": 2,
       "version_minor": 0,
       "model_id": "67844c793c704b8d81a9bd617139679b"
      }
     },
     "metadata": {},
     "output_type": "display_data"
    },
    {
     "data": {
      "text/plain": "0it [00:00, ?it/s]",
      "application/vnd.jupyter.widget-view+json": {
       "version_major": 2,
       "version_minor": 0,
       "model_id": "2bae303adbc948c284ed4132ebe057d0"
      }
     },
     "metadata": {},
     "output_type": "display_data"
    }
   ],
   "source": [
    "scores['distorded questions'] = measure_time(lambda: eval_ndcg(distorted_questions, n=10))"
   ],
   "metadata": {
    "collapsed": false,
    "ExecuteTime": {
     "end_time": "2023-11-14T16:02:45.649590430Z",
     "start_time": "2023-11-14T16:02:34.531766209Z"
    }
   }
  },
  {
   "cell_type": "code",
   "execution_count": 41,
   "outputs": [
    {
     "data": {
      "text/plain": "  0%|          | 0/648 [00:00<?, ?it/s]",
      "application/vnd.jupyter.widget-view+json": {
       "version_major": 2,
       "version_minor": 0,
       "model_id": "adca1501b7c946808b4af696cbcfdad9"
      }
     },
     "metadata": {},
     "output_type": "display_data"
    },
    {
     "data": {
      "text/plain": "0it [00:00, ?it/s]",
      "application/vnd.jupyter.widget-view+json": {
       "version_major": 2,
       "version_minor": 0,
       "model_id": "b268ffa4cf2b437f979781d8de9453b4"
      }
     },
     "metadata": {},
     "output_type": "display_data"
    }
   ],
   "source": [
    "scores['levenshtein_1'] = measure_time(lambda: fix_and_eval(distorted_questions))"
   ],
   "metadata": {
    "collapsed": false,
    "ExecuteTime": {
     "end_time": "2023-11-14T16:02:56.904762716Z",
     "start_time": "2023-11-14T16:02:45.654398675Z"
    }
   }
  },
  {
   "cell_type": "code",
   "execution_count": 42,
   "outputs": [
    {
     "data": {
      "text/plain": "  0%|          | 0/648 [00:00<?, ?it/s]",
      "application/vnd.jupyter.widget-view+json": {
       "version_major": 2,
       "version_minor": 0,
       "model_id": "37d841ce8dc34f21b1eaf58a8b16e65d"
      }
     },
     "metadata": {},
     "output_type": "display_data"
    },
    {
     "data": {
      "text/plain": "0it [00:00, ?it/s]",
      "application/vnd.jupyter.widget-view+json": {
       "version_major": 2,
       "version_minor": 0,
       "model_id": "a00344456e63428d96c937d565c43a20"
      }
     },
     "metadata": {},
     "output_type": "display_data"
    }
   ],
   "source": [
    "scores['levenshtein_2'] = measure_time(lambda: fix_and_eval(distorted_questions, word_corrector=correct_word_len2))"
   ],
   "metadata": {
    "collapsed": false,
    "ExecuteTime": {
     "end_time": "2023-11-14T16:03:11.643541880Z",
     "start_time": "2023-11-14T16:02:56.914678698Z"
    }
   }
  },
  {
   "cell_type": "code",
   "execution_count": 43,
   "outputs": [
    {
     "data": {
      "text/plain": "  0%|          | 0/648 [00:00<?, ?it/s]",
      "application/vnd.jupyter.widget-view+json": {
       "version_major": 2,
       "version_minor": 0,
       "model_id": "25ff6ce85bbc455990d8fafb28e6ccde"
      }
     },
     "metadata": {},
     "output_type": "display_data"
    },
    {
     "data": {
      "text/plain": "0it [00:00, ?it/s]",
      "application/vnd.jupyter.widget-view+json": {
       "version_major": 2,
       "version_minor": 0,
       "model_id": "a9bf29bc918b4b15af3355647159ab6f"
      }
     },
     "metadata": {},
     "output_type": "display_data"
    }
   ],
   "source": [
    "scores['fuzzy_1'] = measure_time(lambda: eval_ndcg(distorted_questions, n=10, query_func=fuzzy_text))"
   ],
   "metadata": {
    "collapsed": false,
    "ExecuteTime": {
     "end_time": "2023-11-14T16:03:27.062954215Z",
     "start_time": "2023-11-14T16:03:11.630774706Z"
    }
   }
  },
  {
   "cell_type": "code",
   "execution_count": 44,
   "outputs": [
    {
     "data": {
      "text/plain": "  0%|          | 0/648 [00:00<?, ?it/s]",
      "application/vnd.jupyter.widget-view+json": {
       "version_major": 2,
       "version_minor": 0,
       "model_id": "ea8f90ee4580444ea1bbc5ddcf39ff92"
      }
     },
     "metadata": {},
     "output_type": "display_data"
    },
    {
     "data": {
      "text/plain": "0it [00:00, ?it/s]",
      "application/vnd.jupyter.widget-view+json": {
       "version_major": 2,
       "version_minor": 0,
       "model_id": "142d5fe4165f49b9b990ad22b2b0f1e7"
      }
     },
     "metadata": {},
     "output_type": "display_data"
    }
   ],
   "source": [
    "scores['fuzzy_auto'] = measure_time(lambda: eval_ndcg(distorted_questions, n=10, query_func=fuzzy_text, fuzziness='AUTO'))"
   ],
   "metadata": {
    "collapsed": false,
    "ExecuteTime": {
     "end_time": "2023-11-14T16:03:45.993708939Z",
     "start_time": "2023-11-14T16:03:27.067156424Z"
    }
   }
  },
  {
   "cell_type": "markdown",
   "source": [
    "# 11. Compare the results of baseline with the 2 implemented methods. Take into account the nDCG score and the performance of the methods."
   ],
   "metadata": {
    "collapsed": false
   }
  },
  {
   "cell_type": "code",
   "execution_count": 45,
   "outputs": [
    {
     "name": "stdout",
     "output_type": "stream",
     "text": [
      "distorded questions  ==> Time: 11.13s  , NDCG@10 15.88%\n",
      "levenshtein_1        ==> Time: 11.25s  , NDCG@10 16.03%\n",
      "levenshtein_2        ==> Time: 14.72s  , NDCG@10 17.93%\n",
      "fuzzy_1              ==> Time: 15.43s  , NDCG@10 14.36%\n",
      "fuzzy_auto           ==> Time: 18.93s  , NDCG@10 14.59%\n"
     ]
    }
   ],
   "source": [
    "for k, v in scores.items():\n",
    "    print(f\"{k: <20} ==> {v}\")"
   ],
   "metadata": {
    "collapsed": false,
    "ExecuteTime": {
     "end_time": "2023-11-14T16:03:46.031625240Z",
     "start_time": "2023-11-14T16:03:45.991114897Z"
    }
   }
  },
  {
   "cell_type": "markdown",
   "source": [
    "# Draw conclusions regarding (2 points):"
   ],
   "metadata": {
    "collapsed": false
   }
  },
  {
   "cell_type": "markdown",
   "source": [
    "## The distribution of words in the corpus"
   ],
   "metadata": {
    "collapsed": false
   }
  },
  {
   "cell_type": "code",
   "execution_count": 60,
   "outputs": [],
   "source": [
    "x = np.sort(np.array(list(freq_list.values())))"
   ],
   "metadata": {
    "collapsed": false,
    "ExecuteTime": {
     "end_time": "2023-11-14T16:09:25.754677673Z",
     "start_time": "2023-11-14T16:09:25.709624949Z"
    }
   }
  },
  {
   "cell_type": "code",
   "execution_count": 66,
   "outputs": [
    {
     "data": {
      "text/plain": "Text(0.5, 1.0, 'Rank of the word vs frequency')"
     },
     "execution_count": 66,
     "metadata": {},
     "output_type": "execute_result"
    },
    {
     "data": {
      "text/plain": "<Figure size 1600x700 with 1 Axes>",
      "image/png": "[encoded data removed]"
     },
     "metadata": {},
     "output_type": "display_data"
    }
   ],
   "source": [
    "plt.scatter(np.arange(len(freq_list), 0, -1), x)\n",
    "plt.yscale('log')\n",
    "plt.xscale('log')\n",
    "plt.ylabel('Number of occurrences for a given word')\n",
    "plt.xlabel('Rank of the word')\n",
    "plt.title('Rank of the word vs frequency')"
   ],
   "metadata": {
    "collapsed": false,
    "ExecuteTime": {
     "end_time": "2023-11-14T16:11:52.862140045Z",
     "start_time": "2023-11-14T16:11:51.829969020Z"
    }
   }
  },
  {
   "cell_type": "code",
   "execution_count": 67,
   "outputs": [
    {
     "data": {
      "text/plain": "Text(0.5, 1.0, 'Rank of the word vs frequency')"
     },
     "execution_count": 67,
     "metadata": {},
     "output_type": "execute_result"
    },
    {
     "data": {
      "text/plain": "<Figure size 1600x700 with 1 Axes>",
      "image/png": "[encoded data removed]"
     },
     "metadata": {},
     "output_type": "display_data"
    }
   ],
   "source": [
    "plt.scatter(np.arange(len(freq_list), 0, -1), x)\n",
    "plt.yscale('log')\n",
    "plt.ylabel('Number of occurrences for a given word')\n",
    "plt.xlabel('Rank of the word')\n",
    "plt.title('Rank of the word vs frequency')"
   ],
   "metadata": {
    "collapsed": false,
    "ExecuteTime": {
     "end_time": "2023-11-14T16:11:57.462878411Z",
     "start_time": "2023-11-14T16:11:56.449746887Z"
    }
   }
  },
  {
   "cell_type": "markdown",
   "source": [
    "We can see that words distribution in the corpus does not follow normal distribution. Most popular words in the corpus occur far more often than the rest. We can see that more than 80% of the words occur in the corpus less than 10 times (the corpus has over 50k sentences!)"
   ],
   "metadata": {
    "collapsed": false
   }
  },
  {
   "cell_type": "markdown",
   "source": [
    "# The performance of your method compared to ElasticSearch & the results provided by your method compared to ElasticSearch"
   ],
   "metadata": {
    "collapsed": false
   }
  },
  {
   "cell_type": "code",
   "execution_count": 68,
   "outputs": [
    {
     "name": "stdout",
     "output_type": "stream",
     "text": [
      "distorded questions  ==> Time: 11.13s  , NDCG@10 15.88%\n",
      "levenshtein_1        ==> Time: 11.25s  , NDCG@10 16.03%\n",
      "levenshtein_2        ==> Time: 14.72s  , NDCG@10 17.93%\n",
      "fuzzy_1              ==> Time: 15.43s  , NDCG@10 14.36%\n",
      "fuzzy_auto           ==> Time: 18.93s  , NDCG@10 14.59%\n"
     ]
    }
   ],
   "source": [
    "for k, v in scores.items():\n",
    "    print(f\"{k: <20} ==> {v}\")"
   ],
   "metadata": {
    "collapsed": false,
    "ExecuteTime": {
     "end_time": "2023-11-14T16:13:31.048518859Z",
     "start_time": "2023-11-14T16:13:31.004515732Z"
    }
   }
  },
  {
   "cell_type": "markdown",
   "source": [
    "For Levenshtein automaton for distance=1 we get almost the same time as standard query, and improvement by 0.2 percentage.\n",
    "\n",
    "Levenshtein automaton with distance=2 manages to get the highest result with increase of over 2 percentage to the baseline, while taking similar time to ES fuzzy search.\n",
    "\n",
    "Interestingly ES fuzzy search despite taking the longest time, didn't manage to improve results, which is interesting as it also based on a levenshtein distance "
   ],
   "metadata": {
    "collapsed": false
   }
  },
  {
   "cell_type": "markdown",
   "source": [
    "# the validity of the obtained corrections."
   ],
   "metadata": {
    "collapsed": false
   }
  },
  {
   "cell_type": "code",
   "execution_count": 72,
   "outputs": [
    {
     "data": {
      "text/plain": "_id\n8        Jak zdeponować czek wystawiony na współpracown...\n15       Czy mogę wysłać przekaz pieniężny z USPS jako ...\n18       1 EIN prowadzący działalność pod wieloma nazwa...\n26       Ubieganie się o kredyt biznesowy i otrzymywani...\n34                        401k Przelew po zamknięciu firmy\n                               ...                        \n10979                           Zamknięcie pozycji futures\n10994    Strata netto nie podzielona przez fundusze inw...\n11039    Spłać zadłużenie karty kredytowej lub zarób 40...\n11054    Podatek od krótkoterminowych zysków kapitałowy...\n11088    Czy wymagane jest, aby prawnik stworzył/nadzor...\nName: text, Length: 648, dtype: object"
     },
     "execution_count": 72,
     "metadata": {},
     "output_type": "execute_result"
    }
   ],
   "source": [
    "questions"
   ],
   "metadata": {
    "collapsed": false,
    "ExecuteTime": {
     "end_time": "2023-11-14T16:18:36.090371984Z",
     "start_time": "2023-11-14T16:18:36.043612334Z"
    }
   }
  },
  {
   "cell_type": "code",
   "execution_count": 74,
   "outputs": [
    {
     "name": "stdout",
     "output_type": "stream",
     "text": [
      "Original question:  Jak zdeponować czek wystawiony na współpracownika w mojej firmie na moje konto firmowe?\n",
      "Distorted question: Jak zdeponować czek wystawiony na współpracovnika w mojej firmie na moje konto firmowe?\n",
      "Corrected question: Jak zdeponować czek wystawiony na współpracownika w mojej firmie na moje konto firmowe?\n",
      "===================================================================\n",
      "Original question:  Czy mogę wysłać przekaz pieniężny z USPS jako firma?\n",
      "Distorted question: Czy mogę wysłać przenaz pieniężny z USPS jako firma?\n",
      "Corrected question: Czy mogę wysłać przekaz pieniężny z UPS jako firma?\n",
      "===================================================================\n",
      "Original question:  1 EIN prowadzący działalność pod wieloma nazwami firm\n",
      "Distorted question: 1 EIN prowadlący działalność pod wieloma nazwami firm\n",
      "Corrected question: 1 EI prowadzący działalność pod wieloma nazwami firm\n",
      "===================================================================\n",
      "Original question:  Ubieganie się o kredyt biznesowy i otrzymywanie go\n",
      "Distorted question: Ubieganie się o krecyt biznesowy i otrzymywanie go\n",
      "Corrected question: Ubieganie się o kredyt biznesowy i otrzymywanie go\n",
      "===================================================================\n",
      "Original question:  401k Przelew po zamknięciu firmy\n",
      "Distorted question: 401k Przelew po zamknięciu yirmy\n",
      "Corrected question: 401k Przelew po zamknięciu firmy\n",
      "===================================================================\n"
     ]
    }
   ],
   "source": [
    "for i in range(5):\n",
    "    print(f\"Original question:  {questions.iloc[i]}\")\n",
    "    print(f\"Distorted question: {distorted_questions['text'].iloc[i]}\")\n",
    "    print(f\"Corrected question: {fixed_questions['text'].iloc[i]}\")\n",
    "    print(\"===================================================================\")"
   ],
   "metadata": {
    "collapsed": false,
    "ExecuteTime": {
     "end_time": "2023-11-14T16:18:52.724725290Z",
     "start_time": "2023-11-14T16:18:52.707355978Z"
    }
   }
  },
  {
   "cell_type": "markdown",
   "source": [
    "This method manages very well to fix the errors in the text, however it struggles with proper nouns. For example, it 'corrected' UPSP to UPS"
   ],
   "metadata": {
    "collapsed": false
   }
  },
  {
   "cell_type": "code",
   "execution_count": null,
   "outputs": [],
   "source": [],
   "metadata": {
    "collapsed": false
   }
  }
 ],
 "metadata": {
  "kernelspec": {
   "display_name": "Python 3",
   "language": "python",
   "name": "python3"
  },
  "language_info": {
   "codemirror_mode": {
    "name": "ipython",
    "version": 2
   },
   "file_extension": ".py",
   "mimetype": "text/x-python",
   "name": "python",
   "nbconvert_exporter": "python",
   "pygments_lexer": "ipython2",
   "version": "2.7.6"
  }
 },
 "nbformat": 4,
 "nbformat_minor": 0
}
