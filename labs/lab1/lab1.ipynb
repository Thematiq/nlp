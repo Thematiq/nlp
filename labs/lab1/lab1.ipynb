{
 "cells": [
  {
   "cell_type": "code",
   "execution_count": 1,
   "metadata": {
    "collapsed": true,
    "ExecuteTime": {
     "end_time": "2023-10-11T10:08:49.351239Z",
     "start_time": "2023-10-11T10:08:49.034611Z"
    }
   },
   "outputs": [],
   "source": [
    "import regex\n",
    "\n",
    "import pandas as pd"
   ]
  },
  {
   "cell_type": "code",
   "execution_count": 9,
   "outputs": [
    {
     "data": {
      "text/plain": "    title                                               text metadata\n_id                                                                  \n3          Nie mówię, że nie podoba mi się też pomysł szk...       {}\n31         Tak więc nic nie zapobiega fałszywym ocenom po...       {}\n56         Nigdy nie możesz korzystać z FSA dla indywidua...       {}\n59         Samsung stworzył LCD i inne technologie płaski...       {}\n63         Oto wymagania SEC: Federalne przepisy dotycząc...       {}",
      "text/html": "<div>\n<style scoped>\n    .dataframe tbody tr th:only-of-type {\n        vertical-align: middle;\n    }\n\n    .dataframe tbody tr th {\n        vertical-align: top;\n    }\n\n    .dataframe thead th {\n        text-align: right;\n    }\n</style>\n<table border=\"1\" class=\"dataframe\">\n  <thead>\n    <tr style=\"text-align: right;\">\n      <th></th>\n      <th>title</th>\n      <th>text</th>\n      <th>metadata</th>\n    </tr>\n    <tr>\n      <th>_id</th>\n      <th></th>\n      <th></th>\n      <th></th>\n    </tr>\n  </thead>\n  <tbody>\n    <tr>\n      <th>3</th>\n      <td></td>\n      <td>Nie mówię, że nie podoba mi się też pomysł szk...</td>\n      <td>{}</td>\n    </tr>\n    <tr>\n      <th>31</th>\n      <td></td>\n      <td>Tak więc nic nie zapobiega fałszywym ocenom po...</td>\n      <td>{}</td>\n    </tr>\n    <tr>\n      <th>56</th>\n      <td></td>\n      <td>Nigdy nie możesz korzystać z FSA dla indywidua...</td>\n      <td>{}</td>\n    </tr>\n    <tr>\n      <th>59</th>\n      <td></td>\n      <td>Samsung stworzył LCD i inne technologie płaski...</td>\n      <td>{}</td>\n    </tr>\n    <tr>\n      <th>63</th>\n      <td></td>\n      <td>Oto wymagania SEC: Federalne przepisy dotycząc...</td>\n      <td>{}</td>\n    </tr>\n  </tbody>\n</table>\n</div>"
     },
     "execution_count": 9,
     "metadata": {},
     "output_type": "execute_result"
    }
   ],
   "source": [
    "df = pd.read_json(\"../../data/corpus.jsonl\", lines=True)\n",
    "df = df.set_index('_id').sort_index()\n",
    "df.head()"
   ],
   "metadata": {
    "collapsed": false,
    "ExecuteTime": {
     "end_time": "2023-10-11T10:22:52.635052Z",
     "start_time": "2023-10-11T10:22:51.844580Z"
    }
   }
  },
  {
   "cell_type": "code",
   "execution_count": 10,
   "outputs": [
    {
     "data": {
      "text/plain": "'Nie mówię, że nie podoba mi się też pomysł szkolenia w miejscu pracy, ale nie możesz oczekiwać, że firma to zrobi. Szkolenie pracowników to nie ich praca – oni tworzą oprogramowanie. Być może systemy edukacyjne w Stanach Zjednoczonych (lub ich studenci) powinny trochę martwić się o zdobycie umiejętności rynkowych w zamian za ich ogromne inwestycje w edukację, zamiast wychodzić z tysiącami zadłużonych studentów i narzekać, że nie są do niczego wykwalifikowani.'"
     },
     "execution_count": 10,
     "metadata": {},
     "output_type": "execute_result"
    }
   ],
   "source": [
    "corpus = df['text']\n",
    "corpus[3]"
   ],
   "metadata": {
    "collapsed": false,
    "ExecuteTime": {
     "end_time": "2023-10-11T10:23:13.993421Z",
     "start_time": "2023-10-11T10:23:13.988406Z"
    }
   }
  },
  {
   "cell_type": "code",
   "execution_count": 6,
   "outputs": [],
   "source": [
    "example = 25906"
   ],
   "metadata": {
    "collapsed": false,
    "ExecuteTime": {
     "end_time": "2023-10-11T10:21:47.010609Z",
     "start_time": "2023-10-11T10:21:47.007625Z"
    }
   }
  },
  {
   "cell_type": "code",
   "execution_count": 27,
   "outputs": [],
   "source": [
    "time_regex = r\"\\b((?:2[0-4])|(?:1?\\d)):(?:[0-5]\\d)(?::[0-5]\\d)?\"\n",
    "# [\\b] find word boundary\n",
    "# (\\d{1,2}:) 1 or 2 digits followed by :\n",
    "# {1,2} 1 or 2 time\n",
    "# (\\d{2})? optional last group\n",
    "\n",
    "date_regex = r\"([0-3]?\\d )?(((S|s)tycz((nia)|(eń)|(niu)))|((L|l)ut((ego)|(y)))|(mar((ca))))( [1-2]\\d{1,3})?\""
   ],
   "metadata": {
    "collapsed": false,
    "ExecuteTime": {
     "end_time": "2023-10-11T10:31:36.574527Z",
     "start_time": "2023-10-11T10:31:36.572242Z"
    }
   }
  },
  {
   "cell_type": "code",
   "execution_count": 28,
   "outputs": [
    {
     "data": {
      "text/plain": "'„Aby uniknąć szczypców, z góry stwierdzam, że ta odpowiedź dotyczy USA; Europejczycy, Azjaci, Kanadyjczycy itp. mogą mieć zupełnie inne systemy i zasady. Nie musisz się martwić, jeśli spłacisz wyciąg z karty kredytowej w pełna w dniu, w którym jest należna w odpowiednim czasie. Z drugiej strony, jeśli rutynowo utrzymujesz saldo z miesiąca na miesiąc lub bierzesz zaliczki gotówkowe, to dokonanie dowolnej płatności, którą chcesz dokonać w tym miesiącu, jak najszybciej pozwoli Ci zaoszczędzić więcej na finansach opłaty, niż kiedykolwiek mógłbyś zarobić na koncie oszczędnościowym. Ale jeśli spłacisz w całości saldo każdego miesiąca, bardzo uważnie przeczytaj drobnym drukiem, kiedy płatność jest wymagalna: może to oznaczać, że płatności otrzymane przed 17:00 będą być wysłane tego samego dnia, lub może powiedzieć przed godziną 15:00 lub przed godziną 19:00 czasu wschodniego, lub w południe PST itp. itd. Tak jak mówi JoeTaxpayer, jeśli możesz zapłacić on-line z gwarantowanym dniem za transakcję (i robisz go przed jakimkolwiek terminem nałożonym przez wystawcę karty kredytowej), wszystko w porządku Twój bank pozwala mi na wypisywanie czeków „elektronicznych” na swojej stronie internetowej, ale czek papierowy jest wysyłany pocztą do firmy obsługującej kartę kredytową. Bank twierdzi, że jeśli określę termin płatności, wyślą czek z takim wyprzedzeniem, aby firma obsługująca karty kredytowe otrzymała go w terminie, ale czy naprawdę ufasz, że USPS dostarczy czek do południa, czy cokolwiek innego? Poza tym bank wstrzyma te pieniądze w dniu wypłaty czeku. (Nie zadałem sobie trudu, aby sprawdzić, czy trzymane pieniądze nadal przynoszą odsetki, czy nie). W każdym razie bank zrzeka się wszelkiej odpowiedzialności za następstwa (opłaty za opóźnienia w płatnościach, opłaty finansowe za wszystkie zakupy itp.), jeśli ten papierowy czek nie zostanie otrzymany na czas, a zatem konto karty kredytowej przejdzie do „„opóźnionej płatności” \" stan. Aha, i mój bank również chce mieć miesięczną opłatę za usługę BillPay (dowolna liczba takich „elektronicznych” czeków dozwolona w każdym miesiącu). Usługa BillPay obejmuje płatności elektroniczne lokalnym sprzedawcom i przedsiębiorstwom użyteczności publicznej, które mają konta w banku i zarejestrowały się, aby otrzymywać płatności drogą elektroniczną. Wszystkie moje firmy obsługujące karty kredytowe zezwalają mi na korzystanie z ich witryn internetowych w celu upoważnienia ich do pobrania określonej przeze mnie płatności z mojego konta bankowego. Mogę wybrać dzień, kwotę i z którego z moich kont bankowych będą pobierać pieniądze, ale muszę to robić co miesiąc. Bardzo wygodnie pokazują kalendarz do wyboru terminu z wyraźnie zaznaczonym terminem płatności, a jak wskazuje komentarz mhoran_psprep, płatność można zaplanować z dużym wyprzedzeniem przed datą, w której płatność zostanie faktycznie dokonana, czyli nie Nie musisz się martwić, że z powodu podróży nie będziesz mieć dostępu do Internetu, a tym samym nie będziesz mógł zalogować się na stronie karty kredytowej, aby dokonać płatności w terminie. Mogę również zarejestrować się w usłudze AutoPay, która pobiera ustaloną kwotę/minimalną należną płatność/płatność w całości (niezależnie od tego, co wybiorę) w należnym terminie, i będzie się to odbywać miesiąc po miesiącu, bez konieczności podejmowania dalszych działań z mojej strony. W obu przypadkach to od firmy obsługującej karty zależy odebranie pieniędzy z mojego konta w określonym dniu, a jeśli zepsuje, nie może naliczyć opłat za opóźnienia w płatnościach ani opłat za finansowanie nowych zakupów itp. Ponadto, w przeciwieństwie do mojego banku, istnieją brak opłat za tę usługę. Warto również zauważyć, że wielu osobom nie podoba się pomysł, aby firma obsługująca karty kredytowe wypłacała pieniądze z ich konta bankowego, a więc ta opcja nie wszystkim odpowiada”.'"
     },
     "execution_count": 28,
     "metadata": {},
     "output_type": "execute_result"
    }
   ],
   "source": [
    "corpus[example]"
   ],
   "metadata": {
    "collapsed": false,
    "ExecuteTime": {
     "end_time": "2023-10-11T10:31:36.796625Z",
     "start_time": "2023-10-11T10:31:36.793951Z"
    }
   }
  },
  {
   "cell_type": "code",
   "execution_count": 32,
   "outputs": [],
   "source": [
    "res = sum(len(regex.findall(time_regex, x)) for x in corpus)"
   ],
   "metadata": {
    "collapsed": false,
    "ExecuteTime": {
     "end_time": "2023-10-11T10:54:43.884027Z",
     "start_time": "2023-10-11T10:54:43.470422Z"
    }
   }
  },
  {
   "cell_type": "code",
   "execution_count": 33,
   "outputs": [
    {
     "data": {
      "text/plain": "1074"
     },
     "execution_count": 33,
     "metadata": {},
     "output_type": "execute_result"
    }
   ],
   "source": [
    "res"
   ],
   "metadata": {
    "collapsed": false,
    "ExecuteTime": {
     "end_time": "2023-10-11T10:54:46.079137Z",
     "start_time": "2023-10-11T10:54:46.075996Z"
    }
   }
  },
  {
   "cell_type": "code",
   "execution_count": null,
   "outputs": [],
   "source": [],
   "metadata": {
    "collapsed": false
   }
  }
 ],
 "metadata": {
  "kernelspec": {
   "display_name": "Python 3",
   "language": "python",
   "name": "python3"
  },
  "language_info": {
   "codemirror_mode": {
    "name": "ipython",
    "version": 2
   },
   "file_extension": ".py",
   "mimetype": "text/x-python",
   "name": "python",
   "nbconvert_exporter": "python",
   "pygments_lexer": "ipython2",
   "version": "2.7.6"
  }
 },
 "nbformat": 4,
 "nbformat_minor": 0
}
