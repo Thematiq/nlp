{
 "cells": [
  {
   "cell_type": "code",
   "execution_count": 1,
   "metadata": {
    "collapsed": true,
    "ExecuteTime": {
     "end_time": "2023-10-18T09:17:37.280868Z",
     "start_time": "2023-10-18T09:17:35.961737Z"
    }
   },
   "outputs": [],
   "source": [
    "import regex\n",
    "import matplotlib\n",
    "\n",
    "import matplotlib.pyplot as plt\n",
    "import pandas as pd"
   ]
  },
  {
   "cell_type": "code",
   "execution_count": 2,
   "outputs": [],
   "source": [
    "matplotlib.rcParams['figure.figsize'] = (16, 7)"
   ],
   "metadata": {
    "collapsed": false,
    "ExecuteTime": {
     "end_time": "2023-10-18T09:17:37.290765Z",
     "start_time": "2023-10-18T09:17:37.281259Z"
    }
   }
  },
  {
   "cell_type": "code",
   "execution_count": 3,
   "outputs": [
    {
     "data": {
      "text/plain": "    title                                               text metadata\n_id                                                                  \n3          Nie mówię, że nie podoba mi się też pomysł szk...       {}\n31         Tak więc nic nie zapobiega fałszywym ocenom po...       {}\n56         Nigdy nie możesz korzystać z FSA dla indywidua...       {}\n59         Samsung stworzył LCD i inne technologie płaski...       {}\n63         Oto wymagania SEC: Federalne przepisy dotycząc...       {}",
      "text/html": "<div>\n<style scoped>\n    .dataframe tbody tr th:only-of-type {\n        vertical-align: middle;\n    }\n\n    .dataframe tbody tr th {\n        vertical-align: top;\n    }\n\n    .dataframe thead th {\n        text-align: right;\n    }\n</style>\n<table border=\"1\" class=\"dataframe\">\n  <thead>\n    <tr style=\"text-align: right;\">\n      <th></th>\n      <th>title</th>\n      <th>text</th>\n      <th>metadata</th>\n    </tr>\n    <tr>\n      <th>_id</th>\n      <th></th>\n      <th></th>\n      <th></th>\n    </tr>\n  </thead>\n  <tbody>\n    <tr>\n      <th>3</th>\n      <td></td>\n      <td>Nie mówię, że nie podoba mi się też pomysł szk...</td>\n      <td>{}</td>\n    </tr>\n    <tr>\n      <th>31</th>\n      <td></td>\n      <td>Tak więc nic nie zapobiega fałszywym ocenom po...</td>\n      <td>{}</td>\n    </tr>\n    <tr>\n      <th>56</th>\n      <td></td>\n      <td>Nigdy nie możesz korzystać z FSA dla indywidua...</td>\n      <td>{}</td>\n    </tr>\n    <tr>\n      <th>59</th>\n      <td></td>\n      <td>Samsung stworzył LCD i inne technologie płaski...</td>\n      <td>{}</td>\n    </tr>\n    <tr>\n      <th>63</th>\n      <td></td>\n      <td>Oto wymagania SEC: Federalne przepisy dotycząc...</td>\n      <td>{}</td>\n    </tr>\n  </tbody>\n</table>\n</div>"
     },
     "execution_count": 3,
     "metadata": {},
     "output_type": "execute_result"
    }
   ],
   "source": [
    "df = pd.read_json(\"../../data/corpus.jsonl\", lines=True)\n",
    "df = df.set_index('_id').sort_index()\n",
    "df.head()"
   ],
   "metadata": {
    "collapsed": false,
    "ExecuteTime": {
     "end_time": "2023-10-18T09:17:38.074780Z",
     "start_time": "2023-10-18T09:17:37.285504Z"
    }
   }
  },
  {
   "cell_type": "code",
   "execution_count": 4,
   "outputs": [
    {
     "data": {
      "text/plain": "'Nie mówię, że nie podoba mi się też pomysł szkolenia w miejscu pracy, ale nie możesz oczekiwać, że firma to zrobi. Szkolenie pracowników to nie ich praca – oni tworzą oprogramowanie. Być może systemy edukacyjne w Stanach Zjednoczonych (lub ich studenci) powinny trochę martwić się o zdobycie umiejętności rynkowych w zamian za ich ogromne inwestycje w edukację, zamiast wychodzić z tysiącami zadłużonych studentów i narzekać, że nie są do niczego wykwalifikowani.'"
     },
     "execution_count": 4,
     "metadata": {},
     "output_type": "execute_result"
    }
   ],
   "source": [
    "corpus = df['text']\n",
    "corpus[3]"
   ],
   "metadata": {
    "collapsed": false,
    "ExecuteTime": {
     "end_time": "2023-10-18T09:17:38.075173Z",
     "start_time": "2023-10-18T09:17:38.066968Z"
    }
   }
  },
  {
   "cell_type": "code",
   "execution_count": 30,
   "outputs": [],
   "source": [
    "time_regex = r\"\\b(?:(?:2[0-4])|(?:1?\\d)):(?:[0-5]\\d)(?::[0-5]\\d)?\"\n",
    "# [\\b] find word boundary\n",
    "# (\\d{1,2}:) 1 or 2 digits followed by :\n",
    "# {1,2} 1 or 2 time\n",
    "# (\\d{2})? optional last group\n",
    "\n",
    "months_regex = [\n",
    "    # Mianownik + Dopełniacz + Miejscownik\n",
    "    '(?:S|s)tycz(?:eń|nia|niu)',        # January\n",
    "    '(?:L|l)ut(?:y|ego|ym)',            # February\n",
    "    '(?:M|m)ar(?:zec|ca|cu)',           # March\n",
    "    '(?:K|k)wie(?:cień|tnia|tniu)',     # April\n",
    "    '(?:M|m)aj(?:a|u)?',                # May\n",
    "    '(?:C|c)zerw(?:iec|ca|cu)',         # June\n",
    "    '(?:L|l)ip(?:iec|ca|cu)',           # July\n",
    "    '(?:S|s)ierp(?:ień|nia|niu)',       # August\n",
    "    '(?:W|w)rze(?:sień|śnia|śniu)',     # September\n",
    "    '(?:P|p)aździernik(?:a|u)?',        # October\n",
    "    '(?:L|l)istopad(?:a|ie)?',          # November\n",
    "    '(?:G|g)rud(?:zień|nia|niu)',         # December\n",
    "]\n",
    "\n",
    "day_regex = '(?:3[0-1]|[0-2]?\\d)'\n",
    "year_regex = '(?:2\\d{3}|1?\\d{1,3})'\n",
    "\n",
    "date_regex = rf\"{day_regex}\\s(?:{'|'.join(months_regex)})(?:\\s{year_regex}|\\b)\""
   ],
   "metadata": {
    "collapsed": false,
    "ExecuteTime": {
     "end_time": "2023-10-11T10:31:36.574527Z",
     "start_time": "2023-10-11T10:31:36.572242Z"
    }
   }
  },
  {
   "cell_type": "code",
   "execution_count": 31,
   "outputs": [
    {
     "name": "stdout",
     "output_type": "stream",
     "text": [
      "\\b(?:(?:2[0-4])|(?:1?\\d)):(?:[0-5]\\d)(?::[0-5]\\d)?\n"
     ]
    }
   ],
   "source": [
    "print(time_regex)"
   ],
   "metadata": {
    "collapsed": false
   }
  },
  {
   "cell_type": "code",
   "execution_count": 32,
   "outputs": [
    {
     "name": "stdout",
     "output_type": "stream",
     "text": [
      "(?:3[0-1]|[0-2]?\\d)\\s(?:(?:S|s)tycz(?:eń|nia|niu)|(?:L|l)ut(?:y|ego|ym)|(?:M|m)ar(?:zec|ca|cu)|(?:K|k)wie(?:cień|tnia|tniu)|(?:M|m)aj(?:a|u)?|(?:C|c)zerw(?:iec|ca|cu)|(?:L|l)ip(?:iec|ca|cu)|(?:S|s)ierp(?:ień|nia|niu)|(?:W|w)rze(?:sień|śnia|śniu)|(?:P|p)aździernik(?:a|u)?|(?:L|l)istopad(?:a|ie)?|(?:G|g)rud(?:zień|nia|niu))(?:\\s(?:2\\d{3}|1?\\d{1,3})|\\b)\n"
     ]
    }
   ],
   "source": [
    "print(date_regex)"
   ],
   "metadata": {
    "collapsed": false
   }
  },
  {
   "cell_type": "code",
   "execution_count": 33,
   "outputs": [],
   "source": [
    "example = 25906"
   ],
   "metadata": {
    "collapsed": false
   }
  },
  {
   "cell_type": "code",
   "execution_count": 34,
   "outputs": [
    {
     "data": {
      "text/plain": "'„Aby uniknąć szczypców, z góry stwierdzam, że ta odpowiedź dotyczy USA; Europejczycy, Azjaci, Kanadyjczycy itp. mogą mieć zupełnie inne systemy i zasady. Nie musisz się martwić, jeśli spłacisz wyciąg z karty kredytowej w pełna w dniu, w którym jest należna w odpowiednim czasie. Z drugiej strony, jeśli rutynowo utrzymujesz saldo z miesiąca na miesiąc lub bierzesz zaliczki gotówkowe, to dokonanie dowolnej płatności, którą chcesz dokonać w tym miesiącu, jak najszybciej pozwoli Ci zaoszczędzić więcej na finansach opłaty, niż kiedykolwiek mógłbyś zarobić na koncie oszczędnościowym. Ale jeśli spłacisz w całości saldo każdego miesiąca, bardzo uważnie przeczytaj drobnym drukiem, kiedy płatność jest wymagalna: może to oznaczać, że płatności otrzymane przed 17:00 będą być wysłane tego samego dnia, lub może powiedzieć przed godziną 15:00 lub przed godziną 19:00 czasu wschodniego, lub w południe PST itp. itd. Tak jak mówi JoeTaxpayer, jeśli możesz zapłacić on-line z gwarantowanym dniem za transakcję (i robisz go przed jakimkolwiek terminem nałożonym przez wystawcę karty kredytowej), wszystko w porządku Twój bank pozwala mi na wypisywanie czeków „elektronicznych” na swojej stronie internetowej, ale czek papierowy jest wysyłany pocztą do firmy obsługującej kartę kredytową. Bank twierdzi, że jeśli określę termin płatności, wyślą czek z takim wyprzedzeniem, aby firma obsługująca karty kredytowe otrzymała go w terminie, ale czy naprawdę ufasz, że USPS dostarczy czek do południa, czy cokolwiek innego? Poza tym bank wstrzyma te pieniądze w dniu wypłaty czeku. (Nie zadałem sobie trudu, aby sprawdzić, czy trzymane pieniądze nadal przynoszą odsetki, czy nie). W każdym razie bank zrzeka się wszelkiej odpowiedzialności za następstwa (opłaty za opóźnienia w płatnościach, opłaty finansowe za wszystkie zakupy itp.), jeśli ten papierowy czek nie zostanie otrzymany na czas, a zatem konto karty kredytowej przejdzie do „„opóźnionej płatności” \" stan. Aha, i mój bank również chce mieć miesięczną opłatę za usługę BillPay (dowolna liczba takich „elektronicznych” czeków dozwolona w każdym miesiącu). Usługa BillPay obejmuje płatności elektroniczne lokalnym sprzedawcom i przedsiębiorstwom użyteczności publicznej, które mają konta w banku i zarejestrowały się, aby otrzymywać płatności drogą elektroniczną. Wszystkie moje firmy obsługujące karty kredytowe zezwalają mi na korzystanie z ich witryn internetowych w celu upoważnienia ich do pobrania określonej przeze mnie płatności z mojego konta bankowego. Mogę wybrać dzień, kwotę i z którego z moich kont bankowych będą pobierać pieniądze, ale muszę to robić co miesiąc. Bardzo wygodnie pokazują kalendarz do wyboru terminu z wyraźnie zaznaczonym terminem płatności, a jak wskazuje komentarz mhoran_psprep, płatność można zaplanować z dużym wyprzedzeniem przed datą, w której płatność zostanie faktycznie dokonana, czyli nie Nie musisz się martwić, że z powodu podróży nie będziesz mieć dostępu do Internetu, a tym samym nie będziesz mógł zalogować się na stronie karty kredytowej, aby dokonać płatności w terminie. Mogę również zarejestrować się w usłudze AutoPay, która pobiera ustaloną kwotę/minimalną należną płatność/płatność w całości (niezależnie od tego, co wybiorę) w należnym terminie, i będzie się to odbywać miesiąc po miesiącu, bez konieczności podejmowania dalszych działań z mojej strony. W obu przypadkach to od firmy obsługującej karty zależy odebranie pieniędzy z mojego konta w określonym dniu, a jeśli zepsuje, nie może naliczyć opłat za opóźnienia w płatnościach ani opłat za finansowanie nowych zakupów itp. Ponadto, w przeciwieństwie do mojego banku, istnieją brak opłat za tę usługę. Warto również zauważyć, że wielu osobom nie podoba się pomysł, aby firma obsługująca karty kredytowe wypłacała pieniądze z ich konta bankowego, a więc ta opcja nie wszystkim odpowiada”.'"
     },
     "execution_count": 34,
     "metadata": {},
     "output_type": "execute_result"
    }
   ],
   "source": [
    "corpus[example]"
   ],
   "metadata": {
    "collapsed": false,
    "ExecuteTime": {
     "end_time": "2023-10-11T10:31:36.796625Z",
     "start_time": "2023-10-11T10:31:36.793951Z"
    }
   }
  },
  {
   "cell_type": "code",
   "execution_count": 35,
   "outputs": [
    {
     "data": {
      "text/plain": "['17:00', '15:00', '19:00']"
     },
     "execution_count": 35,
     "metadata": {},
     "output_type": "execute_result"
    }
   ],
   "source": [
    "regex.findall(time_regex, corpus[example])"
   ],
   "metadata": {
    "collapsed": false
   }
  },
  {
   "cell_type": "code",
   "execution_count": 36,
   "outputs": [],
   "source": [
    "grouping_regex = \"|\".join([\"(\" + x + \")\" for x in months_regex])"
   ],
   "metadata": {
    "collapsed": false
   }
  },
  {
   "cell_type": "code",
   "execution_count": 37,
   "outputs": [],
   "source": [
    "example = 29306"
   ],
   "metadata": {
    "collapsed": false
   }
  },
  {
   "cell_type": "code",
   "execution_count": 38,
   "outputs": [
    {
     "data": {
      "text/plain": "'Nie - w grę wchodzą dodatkowe czynniki. Należy pamiętać, że akcje wyemitowane przez firmę mogą ulec zmianie z różnych powodów (takich jak konwersja/umorzenie zamiennych papierów wartościowych, nabywanie uprawnień do ograniczonych akcji pracowniczych, konwersja opcji pracowniczych, programy skupu akcji pracowniczych, lokowanie akcji, wykupy akcji, fuzje, prawa poboru itp. .) więc zawsze warto sprawdzić ogłoszenia SEC dla firmy, jeśli chcesz uzyskać dokładną liczbę. Może również istnieć wiele klas akcji i uprzywilejowanych papierów wartościowych, które mają różne poziomy dywidend. W przypadku PFG złożyli 10 kw. w dniu 22 kwietnia 2015 r. i zauważyli, że mają w obrocie 294 385 885 akcji zwykłych. Zauważyli również, że za trzy miesiące zakończone 31 marca 2014 r. dywidendy były wypłacane zarówno akcjonariuszom zwykłym, jak i akcjonariuszom uprzywilejowanym oraz że były akcje uprzywilejowane serii A (3 miliony) i akcje uprzywilejowane serii B (10 milionów) oraz oświadczenie: W lutym W 2015 r. nasza Rada Dyrektorów zatwierdziła program wykupu akcji o wartości do 150,0 mln USD naszych pozostających w obrocie akcji zwykłych. Akcje odkupione w ramach tych programów są księgowane jako akcje własne, wykazywane według kosztu i odzwierciedlane jako zmniejszenie kapitału własnego. W związku z tym dokładna kwota wypłaconej dywidendy będzie znana dopiero w kolejnym raporcie kwartalnym, który będzie zawierał dokładną kwotę dywidendy wypłaconej akcjonariuszom zwykłym i uprzywilejowanym za dany kwartał.'"
     },
     "execution_count": 38,
     "metadata": {},
     "output_type": "execute_result"
    }
   ],
   "source": [
    "corpus[example]"
   ],
   "metadata": {
    "collapsed": false
   }
  },
  {
   "cell_type": "code",
   "execution_count": 39,
   "outputs": [
    {
     "data": {
      "text/plain": "'((?:S|s)tycz(?:eń|nia|niu))|((?:L|l)ut(?:y|ego|ym))|((?:M|m)ar(?:zec|ca|cu))|((?:K|k)wie(?:cień|tnia|tniu))|((?:M|m)aj(?:a|u)?)|((?:C|c)zerw(?:iec|ca|cu))|((?:L|l)ip(?:iec|ca|cu))|((?:S|s)ierp(?:ień|nia|niu))|((?:W|w)rze(?:sień|śnia|śniu))|((?:P|p)aździernik(?:a|u)?)|((?:L|l)istopad(?:a|ie)?)|((?:G|g)rud(?:zień|nia|niu))'"
     },
     "execution_count": 39,
     "metadata": {},
     "output_type": "execute_result"
    }
   ],
   "source": [
    "grouping_regex"
   ],
   "metadata": {
    "collapsed": false
   }
  },
  {
   "cell_type": "code",
   "execution_count": 40,
   "outputs": [
    {
     "data": {
      "text/plain": "[('', 'luty', '', '', '', '', '', '', '', '', '', '')]"
     },
     "execution_count": 40,
     "metadata": {},
     "output_type": "execute_result"
    }
   ],
   "source": [
    "regex.findall(grouping_regex, 'luty')"
   ],
   "metadata": {
    "collapsed": false
   }
  },
  {
   "cell_type": "code",
   "execution_count": 41,
   "outputs": [
    {
     "data": {
      "text/plain": "[('', '', '', '', 'maj', '', '', '', '', '', '', ''),\n ('', '', '', 'kwietnia', '', '', '', '', '', '', '', ''),\n ('', '', '', '', 'maj', '', '', '', '', '', '', ''),\n ('', '', 'marca', '', '', '', '', '', '', '', '', ''),\n ('', 'luty', '', '', '', '', '', '', '', '', '', '')]"
     },
     "execution_count": 41,
     "metadata": {},
     "output_type": "execute_result"
    }
   ],
   "source": [
    "regex.findall(grouping_regex, corpus[example])"
   ],
   "metadata": {
    "collapsed": false
   }
  },
  {
   "cell_type": "code",
   "execution_count": 42,
   "outputs": [
    {
     "name": "stdout",
     "output_type": "stream",
     "text": [
      "(?:3[0-1]|[0-2]?\\d)\\s(?:(?:S|s)tycz(?:eń|nia|niu)|(?:L|l)ut(?:y|ego|ym)|(?:M|m)ar(?:zec|ca|cu)|(?:K|k)wie(?:cień|tnia|tniu)|(?:M|m)aj(?:a|u)?|(?:C|c)zerw(?:iec|ca|cu)|(?:L|l)ip(?:iec|ca|cu)|(?:S|s)ierp(?:ień|nia|niu)|(?:W|w)rze(?:sień|śnia|śniu)|(?:P|p)aździernik(?:a|u)?|(?:L|l)istopad(?:a|ie)?|(?:G|g)rud(?:zień|nia|niu))(?:\\s(?:2\\d{3}|1?\\d{1,3})|\\b)\n"
     ]
    }
   ],
   "source": [
    "print(date_regex)"
   ],
   "metadata": {
    "collapsed": false
   }
  },
  {
   "cell_type": "code",
   "execution_count": 43,
   "outputs": [
    {
     "data": {
      "text/plain": "['22 kwietnia 2015', '31 marca 2014']"
     },
     "execution_count": 43,
     "metadata": {},
     "output_type": "execute_result"
    }
   ],
   "source": [
    "regex.findall(date_regex, corpus[example])"
   ],
   "metadata": {
    "collapsed": false
   }
  },
  {
   "cell_type": "code",
   "execution_count": 44,
   "outputs": [],
   "source": [
    "def hour_extractor(hit: str) -> int:\n",
    "    \"\"\"\n",
    "    Format is either HH:MM:SS or HH:MM\n",
    "    :param hit: Time regex match\n",
    "    :return: hour as int\n",
    "    \"\"\"\n",
    "    times = hit.split(\":\")\n",
    "    assert len(times) == 2 or len(times) == 3, hit\n",
    "    return int(times[0])"
   ],
   "metadata": {
    "collapsed": false
   }
  },
  {
   "cell_type": "code",
   "execution_count": 45,
   "outputs": [],
   "source": [
    "def month_extractor(hit: str) -> int:\n",
    "    \"\"\"\n",
    "\n",
    "    :param hit: Date regex match\n",
    "    :return: month as a int\n",
    "    \"\"\"\n",
    "    # hit = hit.lower()\n",
    "    # if \"stycz\" in hit:\n",
    "    #     return 1\n",
    "    # if \"lut\" in hit:\n",
    "    #     return 2\n",
    "    # if \"mar\" in hit:\n",
    "    #     return 3\n",
    "    # if \"kwi\" in hit:\n",
    "    #     return 4\n",
    "    # if \"maj\" in hit:\n",
    "    #     return 5\n",
    "    # if \"czer\" in hit:\n",
    "    #     return 6\n",
    "    # if \"lip\" in hit:\n",
    "    #     return 7\n",
    "    # if \"sier\" in hit:\n",
    "    #     return 8\n",
    "    # if \"wrze\" in hit:\n",
    "    #     return 9\n",
    "    # if \"paźdz\" in hit:\n",
    "    #     return 10\n",
    "    # if \"listo\" in hit:\n",
    "    #     return 11\n",
    "    # if \"grudzie\" in hit:\n",
    "    #     return 12\n",
    "    # raise RuntimeError(hit)\n",
    "    grouping_regex = \"|\".join([\"(\" + x + \")\" for x in months_regex])\n",
    "    return [i for i, match in enumerate(regex.findall(grouping_regex, hit)[0]) if len(match) > 0][0] + 1"
   ],
   "metadata": {
    "collapsed": false
   }
  },
  {
   "cell_type": "code",
   "execution_count": 46,
   "outputs": [],
   "source": [
    "hours_str = [\n",
    "    hour_extractor(match)\n",
    "    for text in corpus\n",
    "    for match in regex.findall(time_regex, text)\n",
    "]"
   ],
   "metadata": {
    "collapsed": false
   }
  },
  {
   "cell_type": "code",
   "execution_count": 47,
   "outputs": [],
   "source": [
    "months_str = [\n",
    "    month_extractor(match)\n",
    "    for text in corpus\n",
    "    for match in regex.findall(date_regex, text)\n",
    "]"
   ],
   "metadata": {
    "collapsed": false
   }
  },
  {
   "cell_type": "code",
   "execution_count": 48,
   "outputs": [
    {
     "data": {
      "text/plain": "416"
     },
     "execution_count": 48,
     "metadata": {},
     "output_type": "execute_result"
    }
   ],
   "source": [
    "len(hours_str)"
   ],
   "metadata": {
    "collapsed": false
   }
  },
  {
   "cell_type": "code",
   "execution_count": 49,
   "outputs": [
    {
     "data": {
      "text/plain": "1474"
     },
     "execution_count": 49,
     "metadata": {},
     "output_type": "execute_result"
    }
   ],
   "source": [
    "len(months_str)"
   ],
   "metadata": {
    "collapsed": false
   }
  },
  {
   "cell_type": "code",
   "execution_count": 50,
   "outputs": [
    {
     "data": {
      "text/plain": "<Figure size 1600x700 with 1 Axes>",
      "image/png": "[encoded data removed]"
     },
     "metadata": {},
     "output_type": "display_data"
    }
   ],
   "source": [
    "plt.hist(hours_str, edgecolor='black', bins=24)\n",
    "plt.title('Distribution of full hours in the text')\n",
    "plt.ylabel('Count')\n",
    "plt.xlabel('Hour')\n",
    "plt.savefig('pictures/hours_dist.svg')"
   ],
   "metadata": {
    "collapsed": false
   }
  },
  {
   "cell_type": "code",
   "execution_count": 52,
   "outputs": [
    {
     "data": {
      "text/plain": "<Figure size 1600x700 with 1 Axes>",
      "image/png": "[encoded data removed]"
     },
     "metadata": {},
     "output_type": "display_data"
    }
   ],
   "source": [
    "plt.hist(months_str, edgecolor='black', bins=12)\n",
    "plt.title('Distribution of months in the text')\n",
    "plt.ylabel('Count')\n",
    "plt.xlabel(\"Month's number\")\n",
    "plt.savefig('pictures/months_dist.svg')"
   ],
   "metadata": {
    "collapsed": false
   }
  },
  {
   "cell_type": "code",
   "execution_count": 5,
   "outputs": [
    {
     "data": {
      "text/plain": "955"
     },
     "execution_count": 5,
     "metadata": {},
     "output_type": "execute_result"
    }
   ],
   "source": [
    "january_regex = r\"stycz(?:eń|ni(?:owi|em|u|e|om|ami|ach|a|ów)?)\"\n",
    "sum(len(regex.findall(january_regex, text, regex.IGNORECASE)) for text in corpus)"
   ],
   "metadata": {
    "collapsed": false,
    "ExecuteTime": {
     "end_time": "2023-10-18T09:17:42.261655Z",
     "start_time": "2023-10-18T09:17:41.850250Z"
    }
   }
  },
  {
   "cell_type": "code",
   "execution_count": 6,
   "outputs": [
    {
     "data": {
      "text/plain": "215"
     },
     "execution_count": 6,
     "metadata": {},
     "output_type": "execute_result"
    }
   ],
   "source": [
    "number_with_january = rf\"\\d+\\s{january_regex}\"\n",
    "sum(len(regex.findall(number_with_january, text, regex.IGNORECASE)) for text in corpus)"
   ],
   "metadata": {
    "collapsed": false,
    "ExecuteTime": {
     "end_time": "2023-10-18T09:17:43.273036Z",
     "start_time": "2023-10-18T09:17:42.832059Z"
    }
   }
  },
  {
   "cell_type": "code",
   "execution_count": 7,
   "outputs": [
    {
     "data": {
      "text/plain": "740"
     },
     "execution_count": 7,
     "metadata": {},
     "output_type": "execute_result"
    }
   ],
   "source": [
    "january_without_number = rf\"(?<!\\d+\\s){january_regex}\"\n",
    "sum(len(regex.findall(january_without_number, text, regex.IGNORECASE)) for text in corpus)"
   ],
   "metadata": {
    "collapsed": false,
    "ExecuteTime": {
     "end_time": "2023-10-18T09:17:44.110071Z",
     "start_time": "2023-10-18T09:17:43.668902Z"
    }
   }
  },
  {
   "cell_type": "markdown",
   "source": [
    "It sums up :)"
   ],
   "metadata": {
    "collapsed": false
   }
  },
  {
   "cell_type": "markdown",
   "source": [
    "## Questions\n",
    "\n",
    "---\n",
    "\n",
    "1. Are regular expressions good at capturing times?\n",
    "\n",
    "- They can handle regular times quite good, without any problems. But catching times in mixed or in verbal form might be problematic (like e.g. `po 20 wieczorem`)\n",
    "\n",
    "2. Are regular expressions good at capturing dates?\n",
    "\n",
    "- If we want to capture dates in standard numerical format (like `YYYY-MM-DD` or similar) they can be useful, but not in case of verbal notation. Especially for languages with declension (like Polish), they can be quite problematic, huge and unreadable\n",
    "\n",
    "3. How one can be sure that the expression has matched all and only the correct expressions of a given type?\n",
    "\n",
    "- If we're looking for standard data types in programming languages we can cast results to expected type, and no error should arise. Additionally, we can write unit tests for specific regex (or ask chat GPT for that :) )"
   ],
   "metadata": {
    "collapsed": false
   }
  },
  {
   "cell_type": "code",
   "execution_count": null,
   "outputs": [],
   "source": [],
   "metadata": {
    "collapsed": false
   }
  }
 ],
 "metadata": {
  "kernelspec": {
   "display_name": "Python 3",
   "language": "python",
   "name": "python3"
  },
  "language_info": {
   "codemirror_mode": {
    "name": "ipython",
    "version": 2
   },
   "file_extension": ".py",
   "mimetype": "text/x-python",
   "name": "python",
   "nbconvert_exporter": "python",
   "pygments_lexer": "ipython2",
   "version": "2.7.6"
  }
 },
 "nbformat": 4,
 "nbformat_minor": 0
}
